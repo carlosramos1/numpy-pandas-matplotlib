{
  "nbformat": 4,
  "nbformat_minor": 0,
  "metadata": {
    "colab": {
      "provenance": [],
      "toc_visible": true,
      "authorship_tag": "ABX9TyOdIIuAyslnpPV9HPHfmrJZ",
      "include_colab_link": true
    },
    "kernelspec": {
      "name": "python3",
      "display_name": "Python 3"
    },
    "language_info": {
      "name": "python"
    }
  },
  "cells": [
    {
      "cell_type": "markdown",
      "metadata": {
        "id": "view-in-github",
        "colab_type": "text"
      },
      "source": [
        "<a href=\"https://colab.research.google.com/github/carlosramos1/numpy-pandas-matplotlib/blob/main/05_broadcasting_y_operadores_aritmeticos_y_logicos.ipynb\" target=\"_parent\"><img src=\"https://colab.research.google.com/assets/colab-badge.svg\" alt=\"Open In Colab\"/></a>"
      ]
    },
    {
      "cell_type": "code",
      "source": [
        "import numpy as np"
      ],
      "metadata": {
        "id": "P3XHSxx5hujx"
      },
      "execution_count": null,
      "outputs": []
    },
    {
      "cell_type": "markdown",
      "source": [
        "# Broadcasting\n",
        "\n",
        "Es un mecanismo que permite a los arrays expandir su dimensión y duplicar sus elementos a una forma específica.\n",
        "\n",
        "Se aplica cuando hay alguna **operación entre arrays que tienen formas diferentes**, y además solo si los arrays son **compatibles entre si**.\n",
        "\n",
        "Los usos más habituales del *broadcasting* son, para:\n",
        "\n",
        "- Sustituir elementos de una región de un arreglo con otro arreglo más pequeño.\n",
        "- Realizar operaciones aritméticas entre arreglos que tienen diferentes formas."
      ],
      "metadata": {
        "id": "vjXQXbLfD6u4"
      }
    },
    {
      "cell_type": "markdown",
      "source": [
        "## Reglas de compatibilidad entre arrays.\n",
        "\n",
        "Los array involucrados en el *broadcasting*, deben cumplir con la **regla de compatibilidad** descrita acontinuación.\n",
        "\n",
        "Dado dos arrays que tienen un número de dimensiones y formas diferentes.\n",
        "\n",
        "1. **Añadir dimensiones**: Al array que tiene menor número de dimensiones, añadir dimensiones extra hasta igualar al otro array.\n",
        "2. **Duplicar elementos**: Los elementos se pueden duplicar si y solo si, el número de elementos en la i-esima dimensión es igual a 1. Los elementos se duplicarán hasta que coincida con el número de elementos del otro array. Este proceso se realiza en ambos arrays.\n",
        "3. **Comprobar que ambos arrays son compatibles**: Luego del paso 1 y 2, verificar si ambos arrays tiene las mismas dimensiones y forma. Si es así entonces los arrays son compatibles, caso contrario no lo son."
      ],
      "metadata": {
        "id": "dk8dlsYyEJWQ"
      }
    },
    {
      "cell_type": "markdown",
      "source": [
        "### Ejemplos didáctico e ilustrativos"
      ],
      "metadata": {
        "id": "iqmOPLlisoAo"
      }
    },
    {
      "cell_type": "markdown",
      "source": [
        "Ejemplo 1:\n",
        "\n",
        "```\n",
        "Consideremos el:\n",
        "    array x -> [[[1,1,1], [1,1,1]],\n",
        "                [[1,1,1], [1,1,1]],\n",
        "                [[1,1,1], [1,1,1]]]\n",
        "    x.shape -> (3,2,3)\n",
        "    x.ndim  -> 3\n",
        "\n",
        "    array y -> [[3], [6]]\n",
        "    y.shape -> (2,1)\n",
        "    y.ndim  -> 2\n",
        "\n",
        "Verificar si son compatibles\n",
        "\n",
        "1. Añadir dimensiones: al array `y`\n",
        "\n",
        "    [[3], [6]]\n",
        "    [[[3], [6]]]   y.shape -> (1,2,1), y.ndim -> 3\n",
        "\n",
        "2. Duplicar elementos, a la i-esima dimensión que tenga 1 elemento\n",
        "\n",
        "    y -> [[[3],[6]]]\n",
        "    \n",
        "    - dim-3 tiene un elemento, se duplica\n",
        "      [[[3,3,3], [6,6,6]]]\n",
        "\n",
        "    - dim-2 tiene dos elementos, no se duplica\n",
        "      [[[3,3,3], [6,6,6]]]\n",
        "\n",
        "    - dim-1 tiene un elemento, se duplica\n",
        "      [[[3,3,3], [6,6,6]],\n",
        "       [[3,3,3], [6,6,6]],\n",
        "       [[3,3,3], [6,6,6]]]    y.shape -> (3,2,3), y.ndim -> 3\n",
        "\n",
        " 3. Verificar el num. de dimensiones y la forma de los arrays.\n",
        "\n",
        "      y.shape -> (3,2,3), y.ndim -> 3\n",
        "      x.shape -> (3,2,3), x.ndim -> 3\n",
        "\n",
        "      SI coinciden, por lo tanto, SON COMPATIBLES\n",
        "```\n",
        "\n",
        "Ejemplo 2:\n",
        "\n",
        "```\n",
        "Consideremos el:\n",
        "    array x -> [[[1,1,1], [1,1,1]],\n",
        "                [[1,1,1], [1,1,1]],\n",
        "                [[1,1,1], [1,1,1]]]\n",
        "    x.shape -> (3,2,3)\n",
        "    x.ndim  -> 3\n",
        "\n",
        "    array y -> [[3,2], [6,5]]\n",
        "    y.shape -> (2,2)\n",
        "    y.ndim  -> 2\n",
        "\n",
        "Verificar si son compatibles\n",
        "\n",
        "1. Añadir dimensiones: al array `y`\n",
        "\n",
        "    [[3,2], [6,5]]\n",
        "    [[[3,2], [6,5]]]   y.shape -> (1,2,2), y.ndim -> 3\n",
        "\n",
        "2. Duplicar elementos, a la i-esima dimensión que tenga 1 elemento\n",
        "\n",
        "    y -> [[[3,2], [6,5]]]\n",
        "    \n",
        "    - dim-3 tiene dos elemento, no se duplica\n",
        "      [[[3,2], [6,5]]]\n",
        "\n",
        "    - dim-2 tiene dos elementos, no se duplica\n",
        "      [[[3,2], [6,5]]]\n",
        "\n",
        "    - dim-1 tiene un elemento, se duplica\n",
        "      [[[3,2], [6,5]],\n",
        "       [[3,2], [6,5]],\n",
        "       [[3,2], [6,5]]]   y.shape -> (3,2,2), y.ndim -> 3\n",
        "\n",
        " 3. Verificar el num. de dimensiones y la forma de los arrays.\n",
        "\n",
        "      x.shape -> (3,2,3), x.ndim -> 3\n",
        "      y.shape -> (3,2,2), y.ndim -> 3\n",
        "\n",
        "      NO coinciden, por lo tanto, NO SON COMPATIBLES\n",
        "```\n",
        "\n",
        "\n",
        "Ejemplo 3:\n",
        "\n",
        "```\n",
        "Consideremos el:\n",
        "    array x -> [[1],[2],[3]]\n",
        "    x.shape -> (3,1)\n",
        "    x.ndim  -> 2\n",
        "\n",
        "    array y -> [[5,6]]\n",
        "    y.shape -> (1,2)\n",
        "    y.ndim  -> 2\n",
        "\n",
        "Verificar si son compatibles\n",
        "\n",
        "1. Añadir dimensiones: no es necesario porque ambos tiene el mismo número de dimensiones.\n",
        "\n",
        "    x.ndim -> 2 == y.ndim -> 2\n",
        "\n",
        "2. Duplicar elementos, a la i-esima dimensión que tenga 1 elemento\n",
        "\n",
        "    x -> [[1],[2],[3]]\n",
        "\n",
        "    - dim-2 tiene un elemento, se duplica\n",
        "      [[1,1],[2,2],[3,3]]\n",
        "\n",
        "    - dim-1 tiene tres elementos, no se duplica\n",
        "      [[1,1],[2,2],[3,3]]   x.shape -> (3,2), x.ndim -> 2\n",
        "      \n",
        "    y -> [[5,6]]\n",
        "\n",
        "    - dim-2 tiene dos elementos, no se duplica\n",
        "      [[5,6]]\n",
        "\n",
        "    - dim-1 tiene un elemento, se duplica\n",
        "      [[5,6],[5,6],[5,6]]   y.shape -> (3,2), y.ndim -> 2\n",
        "\n",
        " 3. Verificar el num. de dimensiones y la forma de los arrays.\n",
        "\n",
        "      x.shape -> (3,2), x.ndim -> 2\n",
        "      y.shape -> (3,2), y.ndim -> 2\n",
        "\n",
        "      SI coinciden, por lo tanto, SON COMPATIBLES\n",
        "```\n",
        "\n",
        "**Alternativamente**, de manera práctica se puede comprobar viendo directamente la forma de los arrays\n",
        "\n",
        "```\n",
        "Ejemplo 1-2\n",
        "\n",
        "x.shape == (3,2,3)\n",
        "\n",
        "y.shape == (3,)     # compatible\n",
        "y.shape == (2,1)    # compatible\n",
        "y.shape == (2,3)    # compatible\n",
        "y.shape == (3,1,1)  # compatible\n",
        "\n",
        "# results (3,2,3)\n",
        "\n",
        "y.shape == (3,1)\t# NOT compatible\n",
        "y.shape == (2,2)\t# NOT compatible\n",
        "y.shape == (3,2)\t# NOT compatible\n",
        "```\n",
        "\n",
        "```\n",
        "Ejemplo 3\n",
        "x.shape == (3,1)\n",
        "\n",
        "y.shape == (1,2) or (2,)  # compatible\n",
        "y.shape == (3,2)          # compatible\n",
        "\n",
        "# results (3,2)\n",
        "\n",
        "y.shape == (2,3)  # NOT compatible\n",
        "y.shape == (3,)   # NOT compatible\n",
        "```\n",
        "\n",
        "```\n",
        "Ejemplo 4\n",
        "x.shape == (1, 2, 3, 5, 1, 11, 1, 17)\n",
        "y.shape ==          (1, 7, 1,  1, 17)  # compatible\n",
        "\n",
        "# results in shape (1, 2, 3, 5, 7, 11, 1, 17)\n",
        "```"
      ],
      "metadata": {
        "id": "z7aLU8vREMIJ"
      }
    },
    {
      "cell_type": "markdown",
      "metadata": {
        "id": "E7SSSlBMF0Ec"
      },
      "source": [
        "## Sustitución de elementos\n",
        "\n",
        "*NumPy* permite sustituir elementos de una región específica repitiendo múltiples veces otro array más pequeño hasta ajustarse a las dimensiones del array afectado."
      ]
    },
    {
      "cell_type": "code",
      "source": [
        "M = np.array([[[1,2,3],\n",
        "               [4,5,6]],\n",
        "\n",
        "              [[9,8,7],\n",
        "               [6,5,4]],\n",
        "\n",
        "              [[10,20,30],\n",
        "               [40,50,60]]])\n",
        "M.shape"
      ],
      "metadata": {
        "colab": {
          "base_uri": "https://localhost:8080/"
        },
        "id": "wVA0ctiSvhIl",
        "outputId": "ec5c4b7d-ca3a-409d-d396-e00b695ac5c8"
      },
      "execution_count": null,
      "outputs": [
        {
          "output_type": "execute_result",
          "data": {
            "text/plain": [
              "(3, 2, 3)"
            ]
          },
          "metadata": {},
          "execution_count": 61
        }
      ]
    },
    {
      "cell_type": "code",
      "source": [
        "# Sustituir el sub-array [6,5,4] por 0's\n",
        "M[1,1] = [0]\n",
        "# o M[1,1] = 0 es lo mismo\n",
        "M"
      ],
      "metadata": {
        "colab": {
          "base_uri": "https://localhost:8080/"
        },
        "id": "CS7zfNTowLRw",
        "outputId": "42285629-35fd-4f82-ffd3-e89f2d9417af"
      },
      "execution_count": null,
      "outputs": [
        {
          "output_type": "execute_result",
          "data": {
            "text/plain": [
              "array([[[ 1,  2,  3],\n",
              "        [ 4,  5,  6]],\n",
              "\n",
              "       [[ 9,  8,  7],\n",
              "        [ 0,  0,  0]],\n",
              "\n",
              "       [[10, 20, 30],\n",
              "        [40, 50, 60]]])"
            ]
          },
          "metadata": {},
          "execution_count": 62
        }
      ]
    },
    {
      "cell_type": "code",
      "source": [
        "# Sustituir el subarray [[1,2,3], [4,5,6]] con el array [4,8,16]\n",
        "M[0] = [4,8,16]\n",
        "M"
      ],
      "metadata": {
        "colab": {
          "base_uri": "https://localhost:8080/"
        },
        "id": "eLH6baUBxEJp",
        "outputId": "931da143-1be3-49ce-c070-17900ac4327b"
      },
      "execution_count": null,
      "outputs": [
        {
          "output_type": "execute_result",
          "data": {
            "text/plain": [
              "array([[[ 4,  8, 16],\n",
              "        [ 4,  8, 16]],\n",
              "\n",
              "       [[ 9,  8,  7],\n",
              "        [ 0,  0,  0]],\n",
              "\n",
              "       [[10, 20, 30],\n",
              "        [40, 50, 60]]])"
            ]
          },
          "metadata": {},
          "execution_count": 63
        }
      ]
    },
    {
      "cell_type": "code",
      "source": [
        "# Sustituir el subarray [[10,20,30], [40,50,60]] con el array [[5],[6]]\n",
        "M[2] = [[5],[6]]\n",
        "M"
      ],
      "metadata": {
        "colab": {
          "base_uri": "https://localhost:8080/"
        },
        "id": "OI58gdTH3IOD",
        "outputId": "0ce06267-68cd-4e11-f6b2-8c9f59fefb87"
      },
      "execution_count": null,
      "outputs": [
        {
          "output_type": "execute_result",
          "data": {
            "text/plain": [
              "array([[[ 4,  8, 16],\n",
              "        [ 4,  8, 16]],\n",
              "\n",
              "       [[ 9,  8,  7],\n",
              "        [ 0,  0,  0]],\n",
              "\n",
              "       [[ 5,  5,  5],\n",
              "        [ 6,  6,  6]]])"
            ]
          },
          "metadata": {},
          "execution_count": 64
        }
      ]
    },
    {
      "cell_type": "code",
      "source": [
        "# Sustituir el sub-array [[4, 8,16], [4,8,16]] con el array [4,8]\n",
        "M[0] = [4,8]\n",
        "M\n",
        "#ValueError: could not broadcast input array from shape (2,) into shape (2,3)"
      ],
      "metadata": {
        "colab": {
          "base_uri": "https://localhost:8080/",
          "height": 202
        },
        "id": "r4VeQq7JRTNT",
        "outputId": "6dda1b95-ba7a-4202-c7c2-0e860c66e0d1"
      },
      "execution_count": null,
      "outputs": [
        {
          "output_type": "error",
          "ename": "ValueError",
          "evalue": "could not broadcast input array from shape (2,) into shape (2,3)",
          "traceback": [
            "\u001b[0;31m---------------------------------------------------------------------------\u001b[0m",
            "\u001b[0;31mValueError\u001b[0m                                Traceback (most recent call last)",
            "\u001b[0;32m<ipython-input-65-f6d0d5f93f47>\u001b[0m in \u001b[0;36m<cell line: 2>\u001b[0;34m()\u001b[0m\n\u001b[1;32m      1\u001b[0m \u001b[0;31m# Sustituir el sub-array [[4, 8,16], [4,8,16]] con el array [4,8]\u001b[0m\u001b[0;34m\u001b[0m\u001b[0;34m\u001b[0m\u001b[0m\n\u001b[0;32m----> 2\u001b[0;31m \u001b[0mM\u001b[0m\u001b[0;34m[\u001b[0m\u001b[0;36m0\u001b[0m\u001b[0;34m]\u001b[0m \u001b[0;34m=\u001b[0m \u001b[0;34m[\u001b[0m\u001b[0;36m4\u001b[0m\u001b[0;34m,\u001b[0m\u001b[0;36m8\u001b[0m\u001b[0;34m]\u001b[0m\u001b[0;34m\u001b[0m\u001b[0;34m\u001b[0m\u001b[0m\n\u001b[0m\u001b[1;32m      3\u001b[0m \u001b[0mM\u001b[0m\u001b[0;34m\u001b[0m\u001b[0;34m\u001b[0m\u001b[0m\n\u001b[1;32m      4\u001b[0m \u001b[0;31m#ValueError: could not broadcast input array from shape (2,) into shape (2,3)\u001b[0m\u001b[0;34m\u001b[0m\u001b[0;34m\u001b[0m\u001b[0m\n",
            "\u001b[0;31mValueError\u001b[0m: could not broadcast input array from shape (2,) into shape (2,3)"
          ]
        }
      ]
    },
    {
      "cell_type": "markdown",
      "metadata": {
        "id": "aoBxiC6_F0Ec"
      },
      "source": [
        "#### **Ejercicios**"
      ]
    },
    {
      "cell_type": "markdown",
      "metadata": {
        "id": "1nH8Ug-aF0Ed"
      },
      "source": [
        "* Dado el arreglo ```brigadas```."
      ]
    },
    {
      "cell_type": "markdown",
      "metadata": {
        "id": "NR3cNYCXF0Ed"
      },
      "source": [
        "||Brigada 1| Brigada 2|\n",
        "|:--:|:---:|:---:|\n",
        "|**Lunes**|Juan, Antonio, Ricardo|Alonso, Jorge, Salvador|\n",
        "|**Martes**|David, Julian, Ricardo|Arturo, Ramiro, Esteban|\n",
        "|**Miércoles**|Arturo, Ricardo, Lucio|Jorge, Marco, Juan|\n",
        "|**Jueves**|Alonso, Julian, Salvador|Ricardo, Jorge, Esteban|\n",
        "|**Viernes**|Lucio, Ramiro, Joaquín|Ricardo, Marco, Juan|"
      ]
    },
    {
      "cell_type": "code",
      "execution_count": null,
      "metadata": {
        "colab": {
          "base_uri": "https://localhost:8080/"
        },
        "id": "B61J8rdWF0Ed",
        "outputId": "88a4c78a-4f01-49c0-a453-d5a547ce0a00"
      },
      "outputs": [
        {
          "output_type": "execute_result",
          "data": {
            "text/plain": [
              "(5, 2, 3)"
            ]
          },
          "metadata": {},
          "execution_count": 5
        }
      ],
      "source": [
        "brigadas = np.array( [[['Juan', 'Antonio', 'Ricardo'],\n",
        "                       ['Alonso', 'Jorge', 'Salvador']],\n",
        "\n",
        "                      [['David', 'Julian', 'Ricardo'],\n",
        "                       ['Arturo', 'Ramiro', 'Esteban']],\n",
        "\n",
        "                      [['Arturo', 'Ricardo', 'Lucio'],\n",
        "                       ['Jorge', 'Marco', 'Juan']],\n",
        "\n",
        "                      [['Alonso', 'Julian', 'Salvador'],\n",
        "                       ['Ricardo', 'Jorge', 'Esteban']],\n",
        "\n",
        "                      [['Lucio', 'Ramiro', 'Joaquín'],\n",
        "                       ['Ricardo', 'Marco', 'Juan']]] )\n",
        "brigadas.shape"
      ]
    },
    {
      "cell_type": "markdown",
      "metadata": {
        "id": "3uvm5Sy6F0Ed"
      },
      "source": [
        "- Reemplazar la brigada-2 del viernes por `Elton` *(ver la figura)*"
      ]
    },
    {
      "cell_type": "markdown",
      "metadata": {
        "id": "hM4H_gLVF0Ee"
      },
      "source": [
        "||Brigada 1| Brigada 2|\n",
        "|:--:|:---:|:---:|\n",
        "|**Lunes**|Juan, Antonio, Ricardo|Alonso, Jorge, Salvador|\n",
        "|**Martes**|David, Julian, Ricardo|Arturo, Ramiro, Esteban|\n",
        "|**Miércoles**|Arturo, Ricardo, Lucio|Jorge, Marco, Juan|\n",
        "|**Jueves**|Alonso, Julian, Salvador|Ricardo, Jorge, Esteban|\n",
        "|**Viernes**|Lucio, Ramiro, Joaquín|```Elton, Elton, Elton```|"
      ]
    },
    {
      "cell_type": "code",
      "execution_count": null,
      "metadata": {
        "id": "ebsjbz38F0Ee",
        "colab": {
          "base_uri": "https://localhost:8080/"
        },
        "outputId": "2cbbcb97-7f08-4c39-c8e7-a3a0bcc026ab"
      },
      "outputs": [
        {
          "output_type": "execute_result",
          "data": {
            "text/plain": [
              "array([[['Juan', 'Antonio', 'Ricardo'],\n",
              "        ['Alonso', 'Jorge', 'Salvador']],\n",
              "\n",
              "       [['David', 'Julian', 'Ricardo'],\n",
              "        ['Arturo', 'Ramiro', 'Esteban']],\n",
              "\n",
              "       [['Arturo', 'Ricardo', 'Lucio'],\n",
              "        ['Jorge', 'Marco', 'Juan']],\n",
              "\n",
              "       [['Alonso', 'Julian', 'Salvador'],\n",
              "        ['Ricardo', 'Jorge', 'Esteban']],\n",
              "\n",
              "       [['Lucio', 'Ramiro', 'Joaquín'],\n",
              "        ['Elton', 'Elton', 'Elton']]], dtype='<U8')"
            ]
          },
          "metadata": {},
          "execution_count": 6
        }
      ],
      "source": [
        "# respuesta"
      ]
    },
    {
      "cell_type": "markdown",
      "metadata": {
        "id": "xRG7m7sNF0Ee"
      },
      "source": [
        "* Reemplazar a las brigadas 1 y 2 del dia miércoles por: ```['Rocío', 'Martha', 'Angélica']```."
      ]
    },
    {
      "cell_type": "markdown",
      "metadata": {
        "id": "Vi9FrZ1rF0Ef"
      },
      "source": [
        "||Brigada 1| Brigada 2|\n",
        "|:--:|:---:|:---:|\n",
        "|**Lunes**|Juan, Antonio, Ricardo|Alonso, Jorge, Salvador|\n",
        "|**Martes**|David, Julian, Ricardo|Arturo, Ramiro, Esteban|\n",
        "|**Miércoles**|```Rocio, Martha, Angélica```|```Rocio, Martha, Angélica```|\n",
        "|**Jueves**|Alonso, Julian, Salvador|Ricardo, Jorge, Esteban|\n",
        "|**Viernes**|Lucio, Ramiro, Joaquín|Elton, Elton, Elton|"
      ]
    },
    {
      "cell_type": "code",
      "execution_count": null,
      "metadata": {
        "id": "0XcQh4yCF0Ef",
        "colab": {
          "base_uri": "https://localhost:8080/"
        },
        "outputId": "ce8e4289-1996-461c-dfb3-345a6e634bce"
      },
      "outputs": [
        {
          "output_type": "execute_result",
          "data": {
            "text/plain": [
              "array([[['Juan', 'Antonio', 'Ricardo'],\n",
              "        ['Alonso', 'Jorge', 'Salvador']],\n",
              "\n",
              "       [['David', 'Julian', 'Ricardo'],\n",
              "        ['Arturo', 'Ramiro', 'Esteban']],\n",
              "\n",
              "       [['Rocío', 'Martha', 'Angélica'],\n",
              "        ['Rocío', 'Martha', 'Angélica']],\n",
              "\n",
              "       [['Alonso', 'Julian', 'Salvador'],\n",
              "        ['Ricardo', 'Jorge', 'Esteban']],\n",
              "\n",
              "       [['Lucio', 'Ramiro', 'Joaquín'],\n",
              "        ['Elton', 'Elton', 'Elton']]], dtype='<U8')"
            ]
          },
          "metadata": {},
          "execution_count": 8
        }
      ],
      "source": [
        "# respuesta"
      ]
    },
    {
      "cell_type": "markdown",
      "metadata": {
        "id": "caqmqIOhF0Ef"
      },
      "source": [
        "## Operaciones aritméticas\n",
        "\n",
        "Los arreglos de *Numpy* son compatibles con los operadores artiméticos y lógicos de Python (suma, resta, multiplicacion, exponenciación, mayor, menor, etc.). El **requisito** principal es que ambos arrays seán **compatibles entre sí**.\n",
        "\n",
        "**Cualquier operación** (aritmética o lógica) entre arrays **se realiza elemento a elemento**.\n",
        "\n",
        "**Por ejemplo**: Sumar dos arrays de las mismas dimensiones.\n",
        "\n",
        "\\begin{equation}\n",
        "\\begin{pmatrix}\n",
        "1 & 2\\\\\n",
        "3 & 4\\\\\n",
        "\\end{pmatrix}\n",
        "+\n",
        "\\begin{pmatrix}\n",
        "1 & 1\\\\\n",
        "1 & 1\\\\\n",
        "\\end{pmatrix}\n",
        "=\n",
        "\\begin{pmatrix}\n",
        "2 & 3\\\\\n",
        "4 & 5\\\\\n",
        "\\end{pmatrix}\n",
        "\\end{equation}\n",
        "\n",
        "Cuando los arrays tienen formas diferentes, se aplica el mecanismo de broadcasting.\n",
        "\n",
        "**Por ejemplo**: Dado dos arrays de diferentes tamaño, realizar la multiplicación (elemento a elemento)\n",
        "\n",
        "\\begin{equation}\n",
        "\\begin{pmatrix}\n",
        "1 & 2 & 3\\\\\n",
        "4 & 5 & 6\\\\\n",
        "\\end{pmatrix}\n",
        "*\n",
        "\\begin{pmatrix}\n",
        "2\\\\\n",
        "1\\\\\n",
        "\\end{pmatrix}\n",
        "\\end{equation}\n",
        "\n",
        "> **Ojo** NO es producto punto\n",
        "\n",
        "Primero se aplica broadcasting al array `[[2],[1]]` y luego se realiza la operación.\n",
        "\n",
        "\\begin{equation}\n",
        "\\begin{pmatrix}\n",
        "1 & 2 & 3\\\\\n",
        "4 & 5 & 6\\\\\n",
        "\\end{pmatrix}\n",
        "*\n",
        "\\begin{pmatrix}\n",
        "2 & 2 & 2\\\\\n",
        "1 & 1 & 1\\\\\n",
        "\\end{pmatrix}\n",
        "=\n",
        "\\begin{pmatrix}\n",
        "2 & 4 & 6\\\\\n",
        "4 & 5 & 6\\\\\n",
        "\\end{pmatrix}\n",
        "\\end{equation}"
      ]
    },
    {
      "cell_type": "markdown",
      "source": [
        "### 1. Operaciones entre un array y un elemento\n",
        "\n",
        "La operación se realizará con cada uno de los elementos del array y el elemento suelto."
      ],
      "metadata": {
        "id": "9-b58GUi_Aop"
      }
    },
    {
      "cell_type": "code",
      "source": [
        "M = np.array([[1,2,3],\n",
        "              [4,5,6]])\n",
        "M.shape"
      ],
      "metadata": {
        "colab": {
          "base_uri": "https://localhost:8080/"
        },
        "id": "D0ZaRce6_stx",
        "outputId": "98bcec9a-b241-429c-d82e-d5bed0348f7b"
      },
      "execution_count": null,
      "outputs": [
        {
          "output_type": "execute_result",
          "data": {
            "text/plain": [
              "(2, 3)"
            ]
          },
          "metadata": {},
          "execution_count": 70
        }
      ]
    },
    {
      "cell_type": "code",
      "source": [
        "# Multiplicar por 5\n",
        "M * 5"
      ],
      "metadata": {
        "colab": {
          "base_uri": "https://localhost:8080/"
        },
        "id": "LVVYre8JAAkE",
        "outputId": "d20f860a-2b6c-4181-97e5-29d3e5e3ac41"
      },
      "execution_count": null,
      "outputs": [
        {
          "output_type": "execute_result",
          "data": {
            "text/plain": [
              "array([[ 5, 10, 15],\n",
              "       [20, 25, 30]])"
            ]
          },
          "metadata": {},
          "execution_count": 71
        }
      ]
    },
    {
      "cell_type": "code",
      "source": [
        "# Aplicar un operador lógico\n",
        "M > 4"
      ],
      "metadata": {
        "colab": {
          "base_uri": "https://localhost:8080/"
        },
        "id": "Zllrrof9AJHk",
        "outputId": "c7a892bb-c399-40c1-cb35-cf49e1cd75f2"
      },
      "execution_count": null,
      "outputs": [
        {
          "output_type": "execute_result",
          "data": {
            "text/plain": [
              "array([[False, False, False],\n",
              "       [False,  True,  True]])"
            ]
          },
          "metadata": {},
          "execution_count": 72
        }
      ]
    },
    {
      "cell_type": "markdown",
      "source": [
        "### 2. Operaciones entre arrays"
      ],
      "metadata": {
        "id": "_BSKxj0JraKI"
      }
    },
    {
      "cell_type": "markdown",
      "source": [
        "Ejemplo 1: Sumar dos arrays del mismo tamaño"
      ],
      "metadata": {
        "id": "UhHdoqKBFLPv"
      }
    },
    {
      "cell_type": "code",
      "source": [
        "A = np.array([[ 1,  2,  3],\n",
        "              [ 4,  0, -5]])\n",
        "A.shape"
      ],
      "metadata": {
        "colab": {
          "base_uri": "https://localhost:8080/"
        },
        "id": "1GE5gEWGPHEl",
        "outputId": "4f208dc8-4dc1-490e-b66a-e729629451f6"
      },
      "execution_count": null,
      "outputs": [
        {
          "output_type": "execute_result",
          "data": {
            "text/plain": [
              "(2, 3)"
            ]
          },
          "metadata": {},
          "execution_count": 2
        }
      ]
    },
    {
      "cell_type": "code",
      "source": [
        "B = np.ones((2,3), dtype=np.int32)\n",
        "B.shape"
      ],
      "metadata": {
        "colab": {
          "base_uri": "https://localhost:8080/"
        },
        "id": "-f_h_WdOPLYl",
        "outputId": "120e4733-66da-4141-fc85-bf7f6f4c40a5"
      },
      "execution_count": null,
      "outputs": [
        {
          "output_type": "execute_result",
          "data": {
            "text/plain": [
              "(2, 3)"
            ]
          },
          "metadata": {},
          "execution_count": 3
        }
      ]
    },
    {
      "cell_type": "code",
      "source": [
        "R = A + B\n",
        "R"
      ],
      "metadata": {
        "colab": {
          "base_uri": "https://localhost:8080/"
        },
        "id": "earkkYw6FJgC",
        "outputId": "36867064-7cef-44c7-f0a1-6f5850b22073"
      },
      "execution_count": null,
      "outputs": [
        {
          "output_type": "execute_result",
          "data": {
            "text/plain": [
              "array([[ 2,  3,  4],\n",
              "       [ 5,  1, -4]])"
            ]
          },
          "metadata": {},
          "execution_count": 4
        }
      ]
    },
    {
      "cell_type": "code",
      "source": [
        "# Verificamos la forma del resultado\n",
        "R.shape"
      ],
      "metadata": {
        "colab": {
          "base_uri": "https://localhost:8080/"
        },
        "id": "jgGlGgE4ORfX",
        "outputId": "24a624f3-aed5-4888-99e9-e36fb9b78c34"
      },
      "execution_count": null,
      "outputs": [
        {
          "output_type": "execute_result",
          "data": {
            "text/plain": [
              "(2, 3)"
            ]
          },
          "metadata": {},
          "execution_count": 76
        }
      ]
    },
    {
      "cell_type": "markdown",
      "source": [
        "Ejemplo 2: Multiplicar dos arrays que tienen formas diferentes (1)"
      ],
      "metadata": {
        "id": "oZdRWDFIGs8F"
      }
    },
    {
      "cell_type": "code",
      "source": [
        "M1 = np.array([[ 1,  2,  3],\n",
        "               [ 4,  0, -5],\n",
        "               [-2, -3, -4]])\n",
        "M1.shape"
      ],
      "metadata": {
        "colab": {
          "base_uri": "https://localhost:8080/"
        },
        "id": "AZXZNerHGzDy",
        "outputId": "b8b1c674-c2dd-4e3b-b280-2e0f71d98827"
      },
      "execution_count": null,
      "outputs": [
        {
          "output_type": "execute_result",
          "data": {
            "text/plain": [
              "(3, 3)"
            ]
          },
          "metadata": {},
          "execution_count": 77
        }
      ]
    },
    {
      "cell_type": "code",
      "source": [
        "M2 = np.array([2,3,5])\n",
        "M2.shape"
      ],
      "metadata": {
        "colab": {
          "base_uri": "https://localhost:8080/"
        },
        "id": "b_L86ZvrHUaz",
        "outputId": "09dcf358-a21c-4a4f-a788-1e0ab7a83dfb"
      },
      "execution_count": null,
      "outputs": [
        {
          "output_type": "execute_result",
          "data": {
            "text/plain": [
              "(3,)"
            ]
          },
          "metadata": {},
          "execution_count": 78
        }
      ]
    },
    {
      "cell_type": "code",
      "source": [
        "M1 * M2"
      ],
      "metadata": {
        "colab": {
          "base_uri": "https://localhost:8080/"
        },
        "id": "SKN4jXBrG565",
        "outputId": "74ebbf89-2071-4b5b-fc6a-7de0d9ea6565"
      },
      "execution_count": null,
      "outputs": [
        {
          "output_type": "execute_result",
          "data": {
            "text/plain": [
              "array([[  2,   6,  15],\n",
              "       [  8,   0, -25],\n",
              "       [ -4,  -9, -20]])"
            ]
          },
          "metadata": {},
          "execution_count": 79
        }
      ]
    },
    {
      "cell_type": "markdown",
      "source": [
        "Ejemplo 3: Multiplicar dos arrays que tienen distintas formas (2)\n"
      ],
      "metadata": {
        "id": "8baTTw_oNlp_"
      }
    },
    {
      "cell_type": "code",
      "source": [
        "# Crear el array `a`\n",
        "a = np.array([[1],[2],[3]])\n",
        "a.shape"
      ],
      "metadata": {
        "colab": {
          "base_uri": "https://localhost:8080/"
        },
        "id": "dgqZCx7CDLf3",
        "outputId": "03b6b241-c410-4023-c1d2-e08e99d30f7c"
      },
      "execution_count": null,
      "outputs": [
        {
          "output_type": "execute_result",
          "data": {
            "text/plain": [
              "(3, 1)"
            ]
          },
          "metadata": {},
          "execution_count": 80
        }
      ]
    },
    {
      "cell_type": "code",
      "source": [
        "# Crear el array `b`\n",
        "b = np.array([[5,6]])\n",
        "b.shape"
      ],
      "metadata": {
        "colab": {
          "base_uri": "https://localhost:8080/"
        },
        "id": "-JU5pDXvDTDE",
        "outputId": "0e27ed0b-3cc5-4f3f-817e-991c212438ca"
      },
      "execution_count": null,
      "outputs": [
        {
          "output_type": "execute_result",
          "data": {
            "text/plain": [
              "(1, 2)"
            ]
          },
          "metadata": {},
          "execution_count": 81
        }
      ]
    },
    {
      "cell_type": "code",
      "source": [
        "# Multiplicar los arrays a * b\n",
        "c = a * b\n",
        "c"
      ],
      "metadata": {
        "colab": {
          "base_uri": "https://localhost:8080/"
        },
        "id": "ENRu60uGDTcE",
        "outputId": "8c226c0e-ef82-4ec5-d9f2-380020073ff4"
      },
      "execution_count": null,
      "outputs": [
        {
          "output_type": "execute_result",
          "data": {
            "text/plain": [
              "array([[ 5,  6],\n",
              "       [10, 12],\n",
              "       [15, 18]])"
            ]
          },
          "metadata": {},
          "execution_count": 82
        }
      ]
    },
    {
      "cell_type": "code",
      "source": [
        "# Verificamos la forma del array resultante\n",
        "c.shape"
      ],
      "metadata": {
        "colab": {
          "base_uri": "https://localhost:8080/"
        },
        "id": "liMjp_ko0YuE",
        "outputId": "f5642693-d763-476c-f37b-49ec61bb2c3c"
      },
      "execution_count": null,
      "outputs": [
        {
          "output_type": "execute_result",
          "data": {
            "text/plain": [
              "(3, 2)"
            ]
          },
          "metadata": {},
          "execution_count": 83
        }
      ]
    },
    {
      "cell_type": "markdown",
      "source": [
        "## Bibliografia\n",
        "\n",
        "- https://numpy.org/doc/stable/user/basics.broadcasting.html#basics-broadcasting\n",
        "- https://github.com/mCodingLLC/VideosSampleCode/blob/master/videos/032_numpy_broadcasting_explained/numpy_broadcasting.ipynb"
      ],
      "metadata": {
        "id": "0fLquch5XlJ8"
      }
    }
  ]
}