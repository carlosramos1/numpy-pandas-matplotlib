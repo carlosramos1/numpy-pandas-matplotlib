{
  "cells": [
    {
      "cell_type": "markdown",
      "metadata": {
        "id": "view-in-github",
        "colab_type": "text"
      },
      "source": [
        "<a href=\"https://colab.research.google.com/github/crasil/numpy-pandas-matplotlib/blob/main/02_conceptos_basicos_de_numpy.ipynb\" target=\"_parent\"><img src=\"https://colab.research.google.com/assets/colab-badge.svg\" alt=\"Open In Colab\"/></a>"
      ]
    },
    {
      "cell_type": "markdown",
      "metadata": {
        "id": "wgbek0aq6qH6"
      },
      "source": [
        "# Conceptos básicos de *Numpy*."
      ]
    },
    {
      "cell_type": "markdown",
      "metadata": {
        "id": "2oqKn9B36qH7"
      },
      "source": [
        "[*Numpy*](http://www.numpy.org/) es un paquete (o biblioteca) de Python, que provee un **objeto de arreglo multidimencional** (arrays o matrices), además de una variedad de **operaciones especializada en arreglos** (operaciones matemáticas, lógicas, algebra líneal, etc.).\n",
        "\n",
        ">Documentación:https://docs.scipy.org/doc/numpy/."
      ]
    },
    {
      "cell_type": "markdown",
      "metadata": {
        "id": "T-9mtdCQ6qH-"
      },
      "source": [
        "## Instalación y carga del paquete ```numpy```.\n",
        "\n",
        "- La instalación del paquete [*numpy*](https://pypi.org/project/numpy/) puede ser hecha mediante ```pip```. (En Linux: `pip install numpy`)\n",
        "- Importar el paquete *Numpy* al proyecto:"
      ]
    },
    {
      "cell_type": "code",
      "execution_count": 2,
      "metadata": {
        "id": "9OIATEV66qIE"
      },
      "outputs": [],
      "source": [
        "import numpy as np\n",
        "# Por convención se usa 'np' como alias de numpy"
      ]
    },
    {
      "cell_type": "markdown",
      "metadata": {
        "id": "G2A9qre16qIF"
      },
      "source": [
        "## Arreglos en *Numpy* `ndarray`.\n",
        "\n",
        "El elemento primordial de *Numpy* es el objeto `ndarray`, Este encapsula un array multidimensional de tipos de datos homogéneos. Los arrays de *NumPy*:\n",
        "\n",
        "- Son de tamaño fijo.\n",
        "- Todos los elementos deben ser del mismo tipo.\n",
        "- Son más eficientes que las secuencias estándar de Python."
      ]
    },
    {
      "cell_type": "code",
      "source": [
        "type(np.array([]))"
      ],
      "metadata": {
        "colab": {
          "base_uri": "https://localhost:8080/"
        },
        "id": "YOEAKB3WyGHI",
        "outputId": "24055476-bdfd-46fe-bb9c-622e9879fc46"
      },
      "execution_count": 10,
      "outputs": [
        {
          "output_type": "execute_result",
          "data": {
            "text/plain": [
              "numpy.ndarray"
            ]
          },
          "metadata": {},
          "execution_count": 10
        }
      ]
    },
    {
      "cell_type": "markdown",
      "source": [
        "### Crear arreglos *Numpy*\n",
        "Existen muchas maneras de crear arreglos, lo mas usual es:\n",
        "\n",
        "```\n",
        "np.array(<estructura del arreglo>[, dtype=<tipo>])\n",
        "```\n",
        "* El parámetro `<estructura del arreglo>` es una **colección de datos indexables** (listas, tuplas, etc.) que pueden contener a su vez otras colecciones.\n",
        "\n",
        "* El parámetro ```dtype``` indica el **tipo de dato de los elementos del arreglo**. En caso de que no se defina el tipo de dato, *NumPy*  tratará de deducirlo."
      ],
      "metadata": {
        "id": "tBwXbGr0VHzG"
      }
    },
    {
      "cell_type": "code",
      "source": [
        "# Crear un array Numpy\n",
        "arr = np.array([1,2,3,4])\n",
        "arr"
      ],
      "metadata": {
        "colab": {
          "base_uri": "https://localhost:8080/"
        },
        "id": "K4cCXIO2ptsg",
        "outputId": "f93bc599-3c9f-48aa-ba9a-8130bf614417"
      },
      "execution_count": null,
      "outputs": [
        {
          "output_type": "execute_result",
          "data": {
            "text/plain": [
              "array([1, 2, 3, 4])"
            ]
          },
          "metadata": {},
          "execution_count": 2
        }
      ]
    },
    {
      "cell_type": "code",
      "source": [
        "# Crear un array numpy a partir de tuplas\n",
        "np.array((1,2,3))"
      ],
      "metadata": {
        "id": "W9lxZW9g5jXU",
        "outputId": "4ce8b7cb-e5bd-45ba-ca5b-917330691355",
        "colab": {
          "base_uri": "https://localhost:8080/"
        }
      },
      "execution_count": null,
      "outputs": [
        {
          "output_type": "execute_result",
          "data": {
            "text/plain": [
              "array([1, 2, 3])"
            ]
          },
          "metadata": {},
          "execution_count": 5
        }
      ]
    },
    {
      "cell_type": "markdown",
      "metadata": {
        "id": "HIV_i65b6qIN"
      },
      "source": [
        "### Dimensión, forma y tamaño de los arreglos.\n",
        "\n",
        "Los arreglos de *Numpy* son estructuras que a su vez pueden contener arreglos, a esto se denomina \"dimensiones\".\n",
        "\n",
        "Todos los arreglos en una dimensión específica deben de contener el mismo número de elementos.\n",
        "\n",
        "**El atributo `ndim`**\n",
        "\n",
        "Indica el número de dimensiones del arreglo. *Retorna un número entero*.\n",
        "\n",
        "**El atributo `shape`**\n",
        "\n",
        "Describe el número de elementos que contiene cada dimensión. *Retorna una tupla*\n",
        "\n",
        "```\n",
        "(<n1>, <n2>, <n3> ... <nm>)\n",
        "```\n",
        "\n",
        "* Donde ```<n1>``` corresponde al número de elementos en la primera dimensión, así sucesivamente hasta la última dimensión ```<nm>```.\n",
        "\n",
        "**El atributo `size`**\n",
        "\n",
        "Contiene el número total de elementos del arreglo. *Retorna un número entero*\n",
        "\n",
        "---\n",
        "Ejemplos:\n",
        "\n",
        "```\n",
        "[1,2,3]         -> ndim:1, shape:(3,), size: 3\n",
        "\n",
        "[[1,2,3],\n",
        " [4,5,6]]       -> ndim:2, shape:(2,3), size: 6\n",
        "\n",
        "[[[1,2,3],\n",
        "  [3,2,1]],\n",
        " [[5,6,7],\n",
        "  [7,6,5]]]     -> ndim:3, shape:(2,2,3), size: 12\n",
        "\n",
        "[[[1,2,3,4],\n",
        "  [4,3,2,1]],\n",
        " [[5,6,7,8],\n",
        "  [8,7,6,5]],\n",
        " [[7,8,9,0],\n",
        "  [0,9,8,7]]]   -> ndim:3, shape:(3,2,4), size: 24\n",
        "```"
      ]
    },
    {
      "cell_type": "markdown",
      "metadata": {
        "id": "7RY-I8iV6qIP"
      },
      "source": [
        "**Ejemplo:** Array de una dimensión"
      ]
    },
    {
      "cell_type": "code",
      "source": [
        "one_dim = np.array([1,2,3])\n",
        "print(f\"array: \\t{one_dim}\")\n",
        "print(f\"ndim:  \\t{one_dim.ndim}\")\n",
        "print(f\"shape: \\t{one_dim.shape}\")\n",
        "print(f\"size:  \\t{one_dim.size}\")"
      ],
      "metadata": {
        "colab": {
          "base_uri": "https://localhost:8080/"
        },
        "id": "FJ9g_iMERwQW",
        "outputId": "0608a48c-bbf2-4d60-ceea-35e746cfb211"
      },
      "execution_count": 11,
      "outputs": [
        {
          "output_type": "stream",
          "name": "stdout",
          "text": [
            "array: \t[1 2 3]\n",
            "ndim:  \t1\n",
            "shape: \t(3,)\n",
            "size:  \t3\n"
          ]
        }
      ]
    },
    {
      "cell_type": "markdown",
      "source": [
        "**Ejemplo:** Array de dos dimensiones"
      ],
      "metadata": {
        "id": "tgYymEaWUHiR"
      }
    },
    {
      "cell_type": "code",
      "source": [
        "two_dim = np.array([[1,2,3],\n",
        "                    [4,5,6]])\n",
        "print(f\"array: \\n{two_dim}\")\n",
        "print(f\"ndim:  \\t{two_dim.ndim}\")\n",
        "print(f\"shape: \\t{two_dim.shape}\")\n",
        "print(f\"size:  \\t{two_dim.size}\")\n"
      ],
      "metadata": {
        "outputId": "b1747f1f-49eb-41f5-9bee-16222b034da0",
        "colab": {
          "base_uri": "https://localhost:8080/"
        },
        "id": "08EyudIxTBY_"
      },
      "execution_count": 16,
      "outputs": [
        {
          "output_type": "stream",
          "name": "stdout",
          "text": [
            "array: \n",
            "[[1 2 3]\n",
            " [4 5 6]]\n",
            "ndim:  \t2\n",
            "shape: \t(2, 3)\n",
            "size:  \t6\n"
          ]
        }
      ]
    },
    {
      "cell_type": "markdown",
      "source": [
        "**Ejemplo:** Array de tres dimensiones"
      ],
      "metadata": {
        "id": "dbFQX5LRUKPe"
      }
    },
    {
      "cell_type": "code",
      "source": [
        "three_dim = np.array([[[1,2,3],\n",
        "                       [3,2,1]],\n",
        "                      [[5,6,7],\n",
        "                       [7,6,5]]])\n",
        "print(f\"array: \\n{three_dim}\")\n",
        "print(f\"ndim:  \\t{three_dim.ndim}\")\n",
        "print(f\"shape: \\t{three_dim.shape}\")\n",
        "print(f\"size:  \\t{three_dim.size}\")"
      ],
      "metadata": {
        "colab": {
          "base_uri": "https://localhost:8080/"
        },
        "id": "AkG6YnQkTcJV",
        "outputId": "7e6beb41-8074-47ca-83dd-096966a5aff5"
      },
      "execution_count": 17,
      "outputs": [
        {
          "output_type": "stream",
          "name": "stdout",
          "text": [
            "array: \n",
            "[[[1 2 3]\n",
            "  [3 2 1]]\n",
            "\n",
            " [[5 6 7]\n",
            "  [7 6 5]]]\n",
            "ndim:  \t3\n",
            "shape: \t(2, 2, 3)\n",
            "size:  \t12\n"
          ]
        }
      ]
    },
    {
      "cell_type": "markdown",
      "metadata": {
        "id": "0vo8D1eW6qIj"
      },
      "source": [
        "## Tipos de datos de *Numpy*.\n",
        "\n",
        "*Numpy* define tipos de datos que **extienden a los tipos de datos de Python**.\n",
        "\n",
        "Estos tipos de datos pueden ser de **diversos tamaños**, dependiendo del número de bits asignado para almacenar dichos tipos.\n",
        "\n",
        "Para mayor referencia consultar en: https://numpy.org/devdocs/user/basics.types.html"
      ]
    },
    {
      "cell_type": "markdown",
      "metadata": {
        "id": "jTlo5C3X6qIj"
      },
      "source": [
        "### El atributo ```dtype```.\n",
        "\n",
        "Este atributo contiene el tipo de dato de un arreglo."
      ]
    },
    {
      "cell_type": "code",
      "execution_count": 18,
      "metadata": {
        "id": "wPeFIaz66qIk",
        "colab": {
          "base_uri": "https://localhost:8080/"
        },
        "outputId": "683a3029-9f25-48dc-dd27-16a6f17310fa"
      },
      "outputs": [
        {
          "output_type": "execute_result",
          "data": {
            "text/plain": [
              "dtype('int64')"
            ]
          },
          "metadata": {},
          "execution_count": 18
        }
      ],
      "source": [
        "np.array([[1, 2, 3],\n",
        "         [4, 5, 6]]).dtype"
      ]
    },
    {
      "cell_type": "markdown",
      "metadata": {
        "id": "vzhRI9O46qIk"
      },
      "source": [
        "### Tipos enteros.\n",
        "\n",
        "* Es posible definir enteros de distintos tamaños como ```np.int```, ```np.int8```, ```np.int16```, ```np.int32``` e ```np.int64```, los cuales pueden ser positivos, negativos o cero.\n",
        "\n",
        "* Es posible definir **enteros sin signo**, tales como ```np.uint```,  ```np.uint8```, ```np.uint16```, ```np.uint32``` e ```np.uint64```.\n",
        "\n",
        "> **Nota**: Si no se define el tipo de dato, Python utilizará un tipo de dato por defecto: ```int32``` o ```int64``` dependiendo del sistema en el que se ejecute esta notebook."
      ]
    },
    {
      "cell_type": "markdown",
      "metadata": {
        "id": "w6iH4UYR6qIk"
      },
      "source": [
        "**Ejemplos:**"
      ]
    },
    {
      "cell_type": "code",
      "execution_count": null,
      "metadata": {
        "id": "UNTQcAAN6qIl",
        "colab": {
          "base_uri": "https://localhost:8080/"
        },
        "outputId": "e63a6826-2a64-4b8d-de93-7daaf878d0bd"
      },
      "outputs": [
        {
          "output_type": "execute_result",
          "data": {
            "text/plain": [
              "dtype('int64')"
            ]
          },
          "metadata": {},
          "execution_count": 98
        }
      ],
      "source": [
        "# por defecto\n",
        "np.array(((-1, 2), (3, 4))).dtype"
      ]
    },
    {
      "cell_type": "code",
      "execution_count": null,
      "metadata": {
        "id": "8h41dLSi6qIm",
        "colab": {
          "base_uri": "https://localhost:8080/"
        },
        "outputId": "bf2a855f-5253-4813-9a29-ae962547d458"
      },
      "outputs": [
        {
          "output_type": "execute_result",
          "data": {
            "text/plain": [
              "dtype('uint8')"
            ]
          },
          "metadata": {},
          "execution_count": 99
        }
      ],
      "source": [
        "# Tipo uint8\n",
        "np.array(((1, 2), (3, 4)), dtype = np.uint8).dtype"
      ]
    },
    {
      "cell_type": "code",
      "execution_count": null,
      "metadata": {
        "scrolled": true,
        "id": "wV5O5nw46qIm",
        "colab": {
          "base_uri": "https://localhost:8080/"
        },
        "outputId": "d17f118d-d9fd-4e35-ad3f-d7e56b0fb5d2"
      },
      "outputs": [
        {
          "output_type": "execute_result",
          "data": {
            "text/plain": [
              "dtype('uint64')"
            ]
          },
          "metadata": {},
          "execution_count": 100
        }
      ],
      "source": [
        "# uint64\n",
        "np.array(((1, 2), (3, 4)), dtype = np.uint64).dtype"
      ]
    },
    {
      "cell_type": "markdown",
      "metadata": {
        "id": "gw24oBPE6qIq"
      },
      "source": [
        "### Tipos de punto flotante.\n",
        "\n",
        "- Los tipos de punto flotante **siempre tendrán un signo** y son ```np.float``` ```np.float16```, ```np.float32```, ```np.float64```, ```np.float128```.\n",
        "\n",
        "- Si el array contiene números enteros y flotantes, **Python convertirá** los enteros al tipo más genérico, en este caso **al tipo de punto flotante**.\n",
        "\n",
        "> **Nota**: Si no se define el tipo de dato, Python utilizará: ```float32``` o ```float64``` dependiendo del sistema en el que se ejecute esta notebook."
      ]
    },
    {
      "cell_type": "markdown",
      "metadata": {
        "id": "acJF-sxA6qIq"
      },
      "source": [
        "**Ejemplos:**"
      ]
    },
    {
      "cell_type": "code",
      "execution_count": null,
      "metadata": {
        "id": "pXCWkacH6qIr",
        "colab": {
          "base_uri": "https://localhost:8080/"
        },
        "outputId": "311fa673-e0b2-47cd-ebda-5c86b0c6bda7"
      },
      "outputs": [
        {
          "output_type": "execute_result",
          "data": {
            "text/plain": [
              "dtype('float64')"
            ]
          },
          "metadata": {},
          "execution_count": 101
        }
      ],
      "source": [
        "# por defecto\n",
        "np.array([1., 2.6, 3.7]).dtype"
      ]
    },
    {
      "cell_type": "code",
      "execution_count": null,
      "metadata": {
        "id": "lia0EDlz6qIr",
        "colab": {
          "base_uri": "https://localhost:8080/"
        },
        "outputId": "73f16ce6-6dc1-4e06-c640-8d4fbcf40b55"
      },
      "outputs": [
        {
          "output_type": "execute_result",
          "data": {
            "text/plain": [
              "dtype('float128')"
            ]
          },
          "metadata": {},
          "execution_count": 103
        }
      ],
      "source": [
        "# Especificando el tipo\n",
        "np.array([1., 2.6, 3.7], dtype=np.float128).dtype"
      ]
    },
    {
      "cell_type": "code",
      "source": [
        "# mezclando tipos numericos\n",
        "np.array([1, 2.0, 3, 4.0]).dtype\n",
        "## [1. 2. 3. 4.]"
      ],
      "metadata": {
        "id": "DRJ79oZz4uQa",
        "outputId": "7b889068-8bda-4320-e1a2-94fb591308d1",
        "colab": {
          "base_uri": "https://localhost:8080/"
        }
      },
      "execution_count": null,
      "outputs": [
        {
          "output_type": "execute_result",
          "data": {
            "text/plain": [
              "dtype('float64')"
            ]
          },
          "metadata": {},
          "execution_count": 102
        }
      ]
    },
    {
      "cell_type": "markdown",
      "metadata": {
        "id": "vFnpojpv6qIn"
      },
      "source": [
        "### Tipos de bytes\n",
        "\n",
        "~~Numpy puede gestionar arreglos de *bytes*.~~ (Deprecado) En su lugar usar `int8` o `uint8`"
      ]
    },
    {
      "cell_type": "markdown",
      "metadata": {
        "id": "gOFtMa0x6qIs"
      },
      "source": [
        "### Tipos complejos.\n",
        "\n",
        "Los tipos de número complejo de *Numpy* son: ```np.complex_```, ```np.complex_```, ```np.complex64```, ```np.complex128```, ```np.complex256```."
      ]
    },
    {
      "cell_type": "markdown",
      "metadata": {
        "id": "JXBWjXBH6qIs"
      },
      "source": [
        "**Ejemplo:**"
      ]
    },
    {
      "cell_type": "code",
      "execution_count": null,
      "metadata": {
        "id": "36QPbrQG6qIs",
        "colab": {
          "base_uri": "https://localhost:8080/"
        },
        "outputId": "8f050420-acfd-45f1-ceaa-89538727fd43"
      },
      "outputs": [
        {
          "output_type": "execute_result",
          "data": {
            "text/plain": [
              "array([[  0.  +2.56000000e+01j,  11.24+0.00000000e+00j],\n",
              "       [-21.89-1.57021744e+07j,   0.  +0.00000000e+00j]])"
            ]
          },
          "metadata": {},
          "execution_count": 104
        }
      ],
      "source": [
        "complejos = np.array([[25.6j, 11.24],\n",
        "                     [-21.890-15702174.43j, 0]])\n",
        "complejos"
      ]
    },
    {
      "cell_type": "code",
      "execution_count": null,
      "metadata": {
        "id": "cE9PSuhT6qIt",
        "colab": {
          "base_uri": "https://localhost:8080/"
        },
        "outputId": "0663cafe-52a7-4d01-f8b8-d2b80f631b6b"
      },
      "outputs": [
        {
          "output_type": "execute_result",
          "data": {
            "text/plain": [
              "dtype('complex128')"
            ]
          },
          "metadata": {},
          "execution_count": 105
        }
      ],
      "source": [
        "complejos.dtype"
      ]
    },
    {
      "cell_type": "markdown",
      "metadata": {
        "id": "DLrmWLib6qIt"
      },
      "source": [
        "### Tipos booleanos.\n",
        "\n",
        "El tipo ```np.bool_``` permite crear arreglos con valores booleanos.\n",
        "\n",
        ">**Nota** recordar que Python identfica como ```True``` a cualquier valor distinto de ```0```."
      ]
    },
    {
      "cell_type": "markdown",
      "metadata": {
        "id": "uUAiJwRz6qIt"
      },
      "source": [
        "**Ejemplo:**"
      ]
    },
    {
      "cell_type": "code",
      "execution_count": null,
      "metadata": {
        "id": "too4QemX6qIu",
        "colab": {
          "base_uri": "https://localhost:8080/"
        },
        "outputId": "b337958d-ac82-4235-9782-3cc0abdf8fcc"
      },
      "outputs": [
        {
          "output_type": "execute_result",
          "data": {
            "text/plain": [
              "array([[ True,  True],\n",
              "       [False, False]])"
            ]
          },
          "metadata": {},
          "execution_count": 106
        }
      ],
      "source": [
        "arr_booleans = np.array(((1,'Hola'), (False, 0)), dtype = np.bool_)\n",
        "arr_booleans"
      ]
    },
    {
      "cell_type": "code",
      "source": [
        "arr_booleans.dtype"
      ],
      "metadata": {
        "colab": {
          "base_uri": "https://localhost:8080/"
        },
        "id": "ZucqUYvZ0HNh",
        "outputId": "0fe421f0-2865-45e8-96c8-8e8cdab9b2b9"
      },
      "execution_count": null,
      "outputs": [
        {
          "output_type": "execute_result",
          "data": {
            "text/plain": [
              "dtype('bool')"
            ]
          },
          "metadata": {},
          "execution_count": 107
        }
      ]
    },
    {
      "cell_type": "markdown",
      "metadata": {
        "id": "fADYlYus6qIu"
      },
      "source": [
        "### Tipos de texto.\n",
        "\n",
        "Pueden ser de tipo ```np.string_```, ```np.unicode_``` o ```np.bytes_```. El tamaño de los elementos del arreglo corresponderá al elemento de texto más extenso.\n",
        "\n",
        "A diferencia de Python 3, *Numpy* aún diferencia los tipos ```string``` y ```unicode```."
      ]
    },
    {
      "cell_type": "markdown",
      "metadata": {
        "id": "45VIWJoH6qIv"
      },
      "source": [
        "**Ejemplos:**"
      ]
    },
    {
      "cell_type": "code",
      "execution_count": null,
      "metadata": {
        "id": "-brsq_1r6qIv",
        "colab": {
          "base_uri": "https://localhost:8080/"
        },
        "outputId": "62cb3104-bf25-4239-9ce9-454d22761a78"
      },
      "outputs": [
        {
          "output_type": "execute_result",
          "data": {
            "text/plain": [
              "array([['Hugo', 'Paco'],\n",
              "       ['Luis Ignacio', 'Donald']], dtype='<U12')"
            ]
          },
          "metadata": {},
          "execution_count": 108
        }
      ],
      "source": [
        "np.array((['Hugo', 'Paco'],['Luis Ignacio', 'Donald']))"
      ]
    },
    {
      "cell_type": "code",
      "execution_count": null,
      "metadata": {
        "id": "Y_vj7E2K6qIv",
        "colab": {
          "base_uri": "https://localhost:8080/"
        },
        "outputId": "2a721710-5a6d-4ad9-a314-0baf0fb4ed10"
      },
      "outputs": [
        {
          "output_type": "execute_result",
          "data": {
            "text/plain": [
              "array([['Hugo', 'Paco'],\n",
              "       ['Luis Ignacio', 'Donald']], dtype='<U12')"
            ]
          },
          "metadata": {},
          "execution_count": 109
        }
      ],
      "source": [
        "np.array((['Hugo', 'Paco'],['Luis Ignacio', 'Donald']), dtype = np.unicode_)"
      ]
    },
    {
      "cell_type": "code",
      "execution_count": null,
      "metadata": {
        "id": "EsTOfit06qIw",
        "colab": {
          "base_uri": "https://localhost:8080/"
        },
        "outputId": "d312d3a9-eb27-446e-dcf1-6359a7e476fc"
      },
      "outputs": [
        {
          "output_type": "execute_result",
          "data": {
            "text/plain": [
              "array([[b'Hugo', b'Paco'],\n",
              "       [b'Luis Ignacio', b'Donald']], dtype='|S12')"
            ]
          },
          "metadata": {},
          "execution_count": 110
        }
      ],
      "source": [
        "np.array((['Hugo', 'Paco'],['Luis Ignacio', 'Donald']), dtype = np.bytes_)"
      ]
    },
    {
      "cell_type": "code",
      "execution_count": null,
      "metadata": {
        "id": "-_FEWJLV6qIw",
        "colab": {
          "base_uri": "https://localhost:8080/"
        },
        "outputId": "43ef6b47-ed15-4942-d7bb-b000bb939a81"
      },
      "outputs": [
        {
          "output_type": "execute_result",
          "data": {
            "text/plain": [
              "array([[b'Hugo', b'Paco'],\n",
              "       [b'Luis Ignacio', b'Donald']], dtype='|S12')"
            ]
          },
          "metadata": {},
          "execution_count": 111
        }
      ],
      "source": [
        "np.array((['Hugo', 'Paco'],['Luis Ignacio', 'Donald']), dtype = np.string_)"
      ]
    },
    {
      "cell_type": "markdown",
      "source": [
        "Es posible definir el tamaño de los elementos por defecto utilizando la siguiente sintaxis al ingresar el argumento de ```dtype```, siendo ```S``` para *string* y ```U``` para *unicode*:\n",
        "\n",
        "``` python\n",
        "dtype=\"<S<tamaño>\"\n",
        "dtype=\"<U<tamaño>\"\n",
        "```"
      ],
      "metadata": {
        "id": "b0OWj2E11IiR"
      }
    },
    {
      "cell_type": "code",
      "execution_count": null,
      "metadata": {
        "id": "2Nc8zHs-6qIw",
        "colab": {
          "base_uri": "https://localhost:8080/"
        },
        "outputId": "aa12b198-b077-44af-c4d2-d6eba7e61402"
      },
      "outputs": [
        {
          "output_type": "execute_result",
          "data": {
            "text/plain": [
              "array([['Hugo', 'Paco'],\n",
              "       ['Luis I', 'Donald']], dtype='<U6')"
            ]
          },
          "metadata": {},
          "execution_count": 112
        }
      ],
      "source": [
        "np.array((['Hugo', 'Paco'],['Luis Ignacio', 'Donaldo']), dtype = \"<U6\")"
      ]
    },
    {
      "cell_type": "markdown",
      "metadata": {
        "id": "ilt4ujcH6qIL"
      },
      "source": [
        "### El tipo ```np.object```.\n",
        "\n",
        "*NumPy* tiene un tipo de dato especial llamado `object` el cual permite almacenar datos de diferentes tipos en un array de *NumPy*\n",
        "\n",
        ">**Nota** Se recomienda que **todos los elementos del array sean del mismo tipo** para que *NumPy* sea eficiente en términos de rendimiento y memoria."
      ]
    },
    {
      "cell_type": "code",
      "source": [
        "mix_arr = np.array(['d', 3 , (12, 6, True)], dtype=object)\n",
        "# se debe indicar explicitamente el tipo `object`\n",
        "mix_arr.dtype"
      ],
      "metadata": {
        "colab": {
          "base_uri": "https://localhost:8080/"
        },
        "id": "hQNYBQ49v5FF",
        "outputId": "1ae7d6a1-dc91-49aa-a2f9-93741e8a3f3e"
      },
      "execution_count": null,
      "outputs": [
        {
          "output_type": "execute_result",
          "data": {
            "text/plain": [
              "dtype('O')"
            ]
          },
          "metadata": {},
          "execution_count": 113
        }
      ]
    },
    {
      "cell_type": "markdown",
      "metadata": {
        "id": "aODL5ijC6qIx"
      },
      "source": [
        "## Tipos de fecha."
      ]
    },
    {
      "cell_type": "markdown",
      "metadata": {
        "id": "x5xTe_MW6qIy"
      },
      "source": [
        "### El tipo ```np.datetime64```.\n",
        "\n",
        "Este tipo de datos permite crear arreglos compatibles con objetos de tipo ```datetime``` de Python.\n",
        "\n",
        "Un valor de tipo ```np.datetime``` puede definirse también de la siguiente forma.\n",
        "```\n",
        "np.daytime64('<aaaa>-<mm>-<dd>T<hh>:<mm>:<seg>')\n",
        "```"
      ]
    },
    {
      "cell_type": "markdown",
      "metadata": {
        "id": "s-_rsk5w6qIy"
      },
      "source": [
        "**Ejemplo:**"
      ]
    },
    {
      "cell_type": "markdown",
      "metadata": {
        "id": "ebNho1FQ6qIy"
      },
      "source": [
        "* Importar el tipo ```datetime``` del módulo ```datetime```."
      ]
    },
    {
      "cell_type": "code",
      "execution_count": null,
      "metadata": {
        "id": "tOlb8qOw6qIy"
      },
      "outputs": [],
      "source": [
        "from datetime import datetime"
      ]
    },
    {
      "cell_type": "markdown",
      "metadata": {
        "id": "uGojyTWW6qIz"
      },
      "source": [
        "* Crear un arreglo de forma ```(2, 2)``` que incluye 4 fechas."
      ]
    },
    {
      "cell_type": "code",
      "execution_count": null,
      "metadata": {
        "id": "K1odaItB6qIz",
        "colab": {
          "base_uri": "https://localhost:8080/"
        },
        "outputId": "ff94afb6-d5d5-4229-a8c8-18232f7e97e5"
      },
      "outputs": [
        {
          "output_type": "execute_result",
          "data": {
            "text/plain": [
              "array([['2019-08-25T23:59:45.231000', '2020-07-23T00:00:00.000000'],\n",
              "       ['2018-12-22T00:00:00.000000', '2019-03-01T11:25:00.000000']],\n",
              "      dtype='datetime64[us]')"
            ]
          },
          "metadata": {},
          "execution_count": 115
        }
      ],
      "source": [
        "fechas = np.array(\n",
        "    [[np.datetime64(\"2019-08-25T23:59:45.231\"), np.datetime64(\"2020-07-23\")],\n",
        "     [np.datetime64(datetime(year=2018, month=12, day=22)), np.datetime64(\"2019-03-01T11:25\")]])\n",
        "fechas"
      ]
    },
    {
      "cell_type": "markdown",
      "metadata": {
        "id": "8VBVdP2R6qI0"
      },
      "source": [
        "### El tipo ```np.deltatime```.\n",
        "\n",
        "El tipo ```np.deltatime``` es un valor numérico que corresponde a los segundos en un laspo de tiempo específico usando microsegundos como unidades."
      ]
    },
    {
      "cell_type": "markdown",
      "metadata": {
        "id": "RxzJXrGY6qI0"
      },
      "source": [
        "**Ejemplo:**"
      ]
    },
    {
      "cell_type": "markdown",
      "metadata": {
        "id": "BjnfuSRF6qI1"
      },
      "source": [
        "* La siguiente celda utilizará la propiedad de \"broadcasting\" para calcular el tiempo transcurrido entre las fechas definidas en el arreglo ```fechas``` y el momento en le que se ejecute la celda."
      ]
    },
    {
      "cell_type": "code",
      "execution_count": null,
      "metadata": {
        "id": "o-7-rmZs6qI1",
        "colab": {
          "base_uri": "https://localhost:8080/"
        },
        "outputId": "9e3eadf9-a1c1-4be5-e655-6b82272e9db1"
      },
      "outputs": [
        {
          "output_type": "execute_result",
          "data": {
            "text/plain": [
              "array([[155519325091207, 126834510322207],\n",
              "       [176860110322207, 170857410322207]], dtype='timedelta64[us]')"
            ]
          },
          "metadata": {},
          "execution_count": 116
        }
      ],
      "source": [
        "np.datetime64(datetime.now()) - fechas"
      ]
    },
    {
      "cell_type": "markdown",
      "metadata": {
        "id": "TgIprUpT6qI1"
      },
      "source": [
        "## Valores numéricos especiales.\n",
        "\n",
        "*Numpy* es capaz de reconocer números indeterminados e infintios."
      ]
    },
    {
      "cell_type": "markdown",
      "metadata": {
        "id": "bPjfhkiM6qI2"
      },
      "source": [
        "### El valor ```np.nan```.\n",
        "\n",
        "*Numpy* utiliza ```np.nan``` cuando el valor **no se trata de un número o es una indeterminación**."
      ]
    },
    {
      "cell_type": "markdown",
      "metadata": {
        "id": "MWRjhP8l6qI2"
      },
      "source": [
        "### El valor ```np.inf```.\n",
        "\n",
        "El valor ```np.inf``` representa un **número muy grande** que no puede ser calculado (infinito). Dicho valor puede llevar signo."
      ]
    },
    {
      "cell_type": "markdown",
      "metadata": {
        "id": "hNGbg2DV6qI2"
      },
      "source": [
        "**Ejemplos:**"
      ]
    },
    {
      "cell_type": "markdown",
      "metadata": {
        "id": "ksEfFjjP6qI2"
      },
      "source": [
        "* La siguiente celda creará un arreglo de números llamado ```numeros```."
      ]
    },
    {
      "cell_type": "code",
      "execution_count": null,
      "metadata": {
        "scrolled": true,
        "id": "dhvRL67-6qI2"
      },
      "outputs": [],
      "source": [
        "numeros = np.array(([1, 0],[-1, 1]))"
      ]
    },
    {
      "cell_type": "code",
      "execution_count": null,
      "metadata": {
        "id": "U7g_2w-h6qI3",
        "colab": {
          "base_uri": "https://localhost:8080/"
        },
        "outputId": "61754a5c-da93-4f85-fe72-e20af965e4ff"
      },
      "outputs": [
        {
          "output_type": "execute_result",
          "data": {
            "text/plain": [
              "array([[ 1,  0],\n",
              "       [-1,  1]])"
            ]
          },
          "metadata": {},
          "execution_count": 118
        }
      ],
      "source": [
        "numeros"
      ]
    },
    {
      "cell_type": "markdown",
      "metadata": {
        "id": "T_jbjlX_6qI3"
      },
      "source": [
        "* La siguiente celda dividirá entre ```0``` a cada elemento del arreglo ```numeros```. Debido a esto, es posible que el intérprete muestre algunas advertencias. Sin embargo, el resultado será un arreglo que contiene valores ```np.inf```, ```-np.inf``` y ```np.nan```.  "
      ]
    },
    {
      "cell_type": "code",
      "execution_count": null,
      "metadata": {
        "id": "AsBuHGdb6qI3",
        "colab": {
          "base_uri": "https://localhost:8080/"
        },
        "outputId": "adf54d74-5e96-4ec8-b530-162ce0dfba7c"
      },
      "outputs": [
        {
          "output_type": "stream",
          "name": "stderr",
          "text": [
            "<ipython-input-119-4602ef416f76>:1: RuntimeWarning: divide by zero encountered in divide\n",
            "  numeros / 0\n",
            "<ipython-input-119-4602ef416f76>:1: RuntimeWarning: invalid value encountered in divide\n",
            "  numeros / 0\n"
          ]
        },
        {
          "output_type": "execute_result",
          "data": {
            "text/plain": [
              "array([[ inf,  nan],\n",
              "       [-inf,  inf]])"
            ]
          },
          "metadata": {},
          "execution_count": 119
        }
      ],
      "source": [
        "numeros / 0"
      ]
    },
    {
      "cell_type": "markdown",
      "metadata": {
        "id": "3NGJuxI76qI3"
      },
      "source": [
        "* La siguiente celda definirá un arreglo con ```np.inf```, ```np.nan```"
      ]
    },
    {
      "cell_type": "code",
      "execution_count": null,
      "metadata": {
        "id": "oQH4C3c46qI4",
        "colab": {
          "base_uri": "https://localhost:8080/"
        },
        "outputId": "e296416a-a223-4b18-9828-52d49dbc385a"
      },
      "outputs": [
        {
          "output_type": "execute_result",
          "data": {
            "text/plain": [
              "array([[inf, nan],\n",
              "       [ 1.,  3.]])"
            ]
          },
          "metadata": {},
          "execution_count": 120
        }
      ],
      "source": [
        "np.array([[np.inf, np.nan],[1, 3]])"
      ]
    },
    {
      "cell_type": "markdown",
      "metadata": {
        "id": "1eShmhJ26qI4"
      },
      "source": [
        "* Aún cuando el resultado de la operación da por resultado números finitos, el valor del segundo elemento excede la capacidad del sistema."
      ]
    },
    {
      "cell_type": "code",
      "execution_count": null,
      "metadata": {
        "id": "89V_nMsc6qI4",
        "colab": {
          "base_uri": "https://localhost:8080/"
        },
        "outputId": "6df0d912-5017-42ec-81fc-f2b8571757b2"
      },
      "outputs": [
        {
          "output_type": "stream",
          "name": "stderr",
          "text": [
            "<ipython-input-121-461f6fb53824>:1: RuntimeWarning: overflow encountered in power\n",
            "  np.array((1, 2.5)) ** 2654\n"
          ]
        },
        {
          "output_type": "execute_result",
          "data": {
            "text/plain": [
              "array([ 1., inf])"
            ]
          },
          "metadata": {},
          "execution_count": 121
        }
      ],
      "source": [
        "np.array((1, 2.5)) ** 2654"
      ]
    }
  ],
  "metadata": {
    "kernelspec": {
      "display_name": "Python 3 (ipykernel)",
      "language": "python",
      "name": "python3"
    },
    "language_info": {
      "codemirror_mode": {
        "name": "ipython",
        "version": 3
      },
      "file_extension": ".py",
      "mimetype": "text/x-python",
      "name": "python",
      "nbconvert_exporter": "python",
      "pygments_lexer": "ipython3",
      "version": "3.9.7"
    },
    "colab": {
      "provenance": [],
      "toc_visible": true,
      "include_colab_link": true
    }
  },
  "nbformat": 4,
  "nbformat_minor": 0
}