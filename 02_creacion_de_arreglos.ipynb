{
  "nbformat": 4,
  "nbformat_minor": 0,
  "metadata": {
    "colab": {
      "provenance": [],
      "toc_visible": true,
      "authorship_tag": "ABX9TyOiJWUVabVpy2peVKwQLwC3",
      "include_colab_link": true
    },
    "kernelspec": {
      "name": "python3",
      "display_name": "Python 3"
    },
    "language_info": {
      "name": "python"
    }
  },
  "cells": [
    {
      "cell_type": "markdown",
      "metadata": {
        "id": "view-in-github",
        "colab_type": "text"
      },
      "source": [
        "<a href=\"https://colab.research.google.com/github/carlosramos1/numpy-pandas-matplotlib/blob/main/02_creacion_de_arreglos.ipynb\" target=\"_parent\"><img src=\"https://colab.research.google.com/assets/colab-badge.svg\" alt=\"Open In Colab\"/></a>"
      ]
    },
    {
      "cell_type": "markdown",
      "source": [
        "# Creación y copia de arreglos"
      ],
      "metadata": {
        "id": "B_EYe6lnaqnw"
      }
    },
    {
      "cell_type": "code",
      "execution_count": null,
      "metadata": {
        "scrolled": true,
        "id": "2fbilc5D-fZW"
      },
      "outputs": [],
      "source": [
        "import numpy as np"
      ]
    },
    {
      "cell_type": "markdown",
      "metadata": {
        "id": "7VsOFgFv-fZY"
      },
      "source": [
        "## Creación de arreglos.\n",
        "\n",
        "Además de ```np.array(<list|tupla>)``` es posible crear arreglos con ciertas características particulares."
      ]
    },
    {
      "cell_type": "markdown",
      "metadata": {
        "id": "SFu_U-rP-fZk"
      },
      "source": [
        "### La función ```np.empty()```.\n",
        "\n",
        "Crea un arreglo con valores arbitrarios (que no siempre se repite en cada ejecución).\n",
        "\n",
        "```\n",
        "np.empty(<forma> [, dtype=<tipo de dato>])\n",
        "```\n",
        "\n",
        "Donde:\n",
        "\n",
        "* ```<forma>``` es una tupla que indica la forma del arreglo.\n",
        "* ```<tipo de dato>``` es el tipo de dato que tendrá el arreglo. *Por defecto es `np.float`*\n",
        "\n"
      ]
    },
    {
      "cell_type": "markdown",
      "metadata": {
        "id": "dDyuaAqj-fZl"
      },
      "source": [
        "**Ejemplos:**"
      ]
    },
    {
      "cell_type": "code",
      "source": [
        "# Crear un arreglo de forma (2,2)\n",
        "np.empty((2, 2))"
      ],
      "metadata": {
        "colab": {
          "base_uri": "https://localhost:8080/"
        },
        "id": "L3a04PvEusz5",
        "outputId": "b1710cf8-8645-474a-8ce9-f79c831f13d1"
      },
      "execution_count": null,
      "outputs": [
        {
          "output_type": "execute_result",
          "data": {
            "text/plain": [
              "array([[4.10105210e-315, 0.00000000e+000],\n",
              "       [1.58101007e-322, 6.61018406e-310]])"
            ]
          },
          "metadata": {},
          "execution_count": 2
        }
      ]
    },
    {
      "cell_type": "code",
      "source": [
        "# Crear un array de tipo entero\n",
        "np.empty((2, 3), dtype=np.int32)"
      ],
      "metadata": {
        "colab": {
          "base_uri": "https://localhost:8080/"
        },
        "id": "wXk8q6_HyXUP",
        "outputId": "5f9c97d2-1bf1-4629-b51b-3443e2ada3c9"
      },
      "execution_count": null,
      "outputs": [
        {
          "output_type": "execute_result",
          "data": {
            "text/plain": [
              "array([[827685703,         0,         0],\n",
              "       [        0, 831682512,         0]], dtype=int32)"
            ]
          },
          "metadata": {},
          "execution_count": 9
        }
      ]
    },
    {
      "cell_type": "code",
      "execution_count": null,
      "metadata": {
        "scrolled": true,
        "colab": {
          "base_uri": "https://localhost:8080/"
        },
        "id": "epVc9G6n-fZn",
        "outputId": "10fb1042-638a-48a6-8d8f-04bd629f62f9"
      },
      "outputs": [
        {
          "output_type": "execute_result",
          "data": {
            "text/plain": [
              "array([[[ True,  True],\n",
              "        [ True,  True]],\n",
              "\n",
              "       [[ True,  True],\n",
              "        [False, False]]])"
            ]
          },
          "metadata": {},
          "execution_count": 10
        }
      ],
      "source": [
        "# Crear un array de tipo bool\n",
        "np.empty((2, 2, 2), dtype=np.bool_)"
      ]
    },
    {
      "cell_type": "code",
      "source": [
        "# Crear un array de tipo texto\n",
        "np.empty((2, 2, 4), dtype='>U10')"
      ],
      "metadata": {
        "colab": {
          "base_uri": "https://localhost:8080/"
        },
        "id": "nAUKutf6yp_x",
        "outputId": "dafd45c9-116d-4141-bcbd-d3c6e0e3cafe"
      },
      "execution_count": null,
      "outputs": [
        {
          "output_type": "execute_result",
          "data": {
            "text/plain": [
              "array([[['', '', '', ''],\n",
              "        ['', '', '', '']],\n",
              "\n",
              "       [['', '', '', ''],\n",
              "        ['', '', '', '']]], dtype='>U10')"
            ]
          },
          "metadata": {},
          "execution_count": 5
        }
      ]
    },
    {
      "cell_type": "markdown",
      "metadata": {
        "id": "y2xdalCf-fZd"
      },
      "source": [
        "### La función ```np.ones()```.\n",
        "\n",
        "Crea un array con valores `1`.\n",
        "\n",
        "\n",
        "```\n",
        "np.ones(<forma> [, dtype=<tipo de dato>])\n",
        "```\n",
        "\n",
        "Donde:\n",
        "\n",
        "* ```<forma>``` es una tupla que indica la forma del arreglo.\n",
        "* ```<tipo de dato>``` es el tipo de dato que tendrá el arreglo. *Por defecto es ```np.float```*.\n",
        "\n"
      ]
    },
    {
      "cell_type": "markdown",
      "metadata": {
        "id": "Bzfu2HC0-fZe"
      },
      "source": [
        "**Ejemplos:**"
      ]
    },
    {
      "cell_type": "code",
      "source": [
        "# Crear un array de forma (2,3)\n",
        "np.ones((2, 3))"
      ],
      "metadata": {
        "colab": {
          "base_uri": "https://localhost:8080/"
        },
        "id": "X47ZLi5rtHW_",
        "outputId": "493ea8f8-a6cb-4db8-e669-2abc1f8c0965"
      },
      "execution_count": null,
      "outputs": [
        {
          "output_type": "execute_result",
          "data": {
            "text/plain": [
              "array([[1., 1., 1.],\n",
              "       [1., 1., 1.]])"
            ]
          },
          "metadata": {},
          "execution_count": 6
        }
      ]
    },
    {
      "cell_type": "code",
      "source": [
        "# Crar un array de tipo booleano\n",
        "np.ones((2 ,3), dtype=np.bool_)"
      ],
      "metadata": {
        "colab": {
          "base_uri": "https://localhost:8080/"
        },
        "id": "ovYT0iPTuX4K",
        "outputId": "8d9f00b8-8170-4360-f02f-10e9d814d45f"
      },
      "execution_count": null,
      "outputs": [
        {
          "output_type": "execute_result",
          "data": {
            "text/plain": [
              "array([[ True,  True,  True],\n",
              "       [ True,  True,  True]])"
            ]
          },
          "metadata": {},
          "execution_count": 7
        }
      ]
    },
    {
      "cell_type": "code",
      "source": [
        "# Crear un array de tipo string\n",
        "np.ones((3, 3), dtype='<U1')"
      ],
      "metadata": {
        "colab": {
          "base_uri": "https://localhost:8080/"
        },
        "id": "Zqi67otStj2n",
        "outputId": "27923124-75a1-4b3a-f73c-9e5fd10e7797"
      },
      "execution_count": null,
      "outputs": [
        {
          "output_type": "execute_result",
          "data": {
            "text/plain": [
              "array([['1', '1', '1'],\n",
              "       ['1', '1', '1'],\n",
              "       ['1', '1', '1']], dtype='<U1')"
            ]
          },
          "metadata": {},
          "execution_count": 8
        }
      ]
    },
    {
      "cell_type": "markdown",
      "metadata": {
        "id": "5r3kidtF-fZh"
      },
      "source": [
        "### La función ```np.zeros()```.\n",
        "\n",
        "Crea un array que contiene sólo valores `0`.\n",
        "\n",
        "```\n",
        "np.zeros(<forma> [, dtype=<tipo de dato>])\n",
        "```\n",
        "\n",
        "Donde:\n",
        "\n",
        "* ```<forma>``` es una tupla que indica la forma del arreglo.\n",
        "* ```<tipo de dato>``` es el tipo de dato que tendrá el arreglo.  *Por defecto es ```np.float```*.\n"
      ]
    },
    {
      "cell_type": "markdown",
      "metadata": {
        "id": "4PoEDmGE-fZi"
      },
      "source": [
        "**Ejemplos:**"
      ]
    },
    {
      "cell_type": "code",
      "source": [
        "# Crear un array de 0s\n",
        "np.zeros((2, 3))"
      ],
      "metadata": {
        "colab": {
          "base_uri": "https://localhost:8080/"
        },
        "id": "3c2T_Fk6t53g",
        "outputId": "ae4fec0c-590f-42f9-958b-eca2c1b8df38"
      },
      "execution_count": null,
      "outputs": [
        {
          "output_type": "execute_result",
          "data": {
            "text/plain": [
              "array([[0., 0., 0.],\n",
              "       [0., 0., 0.]])"
            ]
          },
          "metadata": {},
          "execution_count": 9
        }
      ]
    },
    {
      "cell_type": "code",
      "source": [
        "# Crear un array de booleanos\n",
        "np.zeros((2, 3), dtype=np.bool_)"
      ],
      "metadata": {
        "colab": {
          "base_uri": "https://localhost:8080/"
        },
        "id": "U-ipz_DGuKfX",
        "outputId": "cf3566a7-405c-48b5-a3d8-7da6fa7c6aa1"
      },
      "execution_count": null,
      "outputs": [
        {
          "output_type": "execute_result",
          "data": {
            "text/plain": [
              "array([[False, False, False],\n",
              "       [False, False, False]])"
            ]
          },
          "metadata": {},
          "execution_count": 10
        }
      ]
    },
    {
      "cell_type": "markdown",
      "metadata": {
        "id": "ShyHp4Xa-fZo"
      },
      "source": [
        "### La función ```np.arange()```.\n",
        "\n",
        "La función ```np.arange()``` **generará un arreglo de una dimensión** definidos en un rango al estilo de ```range()```.\n",
        "\n",
        "```\n",
        "np.arange(<inicio>, <fin>, <incrementos>, dtype=<tipo de dato>)\n",
        "```\n",
        "Donde:\n",
        "\n",
        "* ```<inicio>``` corresponde al número a partir del cual comenzará la secuencia. *Por defecto es `0`*\n",
        "* ```<fin>``` corresponde al número en el que terminará la secuencia (es no inclusivo).\n",
        "* ```<incrementos>``` corresponde al número  unidades que se incrementarán sucesivamente. *Por defecto es `1`*\n",
        "* ```<tipo de dato>``` es el tipo de dato del arreglo. Si no se especifica, se inferirá."
      ]
    },
    {
      "cell_type": "markdown",
      "metadata": {
        "id": "1FO1vphE-fZp"
      },
      "source": [
        "**Ejemplos:**"
      ]
    },
    {
      "cell_type": "code",
      "source": [
        "# Crear un array de enteros que va del 5 al 10 inclusive con increm. de 1.\n",
        "np.arange(5, 11)"
      ],
      "metadata": {
        "colab": {
          "base_uri": "https://localhost:8080/"
        },
        "id": "WWl6gBSE13mD",
        "outputId": "6ae764e0-3739-43cf-aafc-06807324dd2a"
      },
      "execution_count": null,
      "outputs": [
        {
          "output_type": "execute_result",
          "data": {
            "text/plain": [
              "array([ 5,  6,  7,  8,  9, 10])"
            ]
          },
          "metadata": {},
          "execution_count": 11
        }
      ]
    },
    {
      "cell_type": "code",
      "source": [
        "# Crear un array de punto flotante que va del 5 al 10 exclusivo con incrementos de 0.5\n",
        "np.arange(5, 10, 0.5)"
      ],
      "metadata": {
        "colab": {
          "base_uri": "https://localhost:8080/"
        },
        "id": "xmVtY2j82K5B",
        "outputId": "912661e7-f6cd-4249-d989-c6eab8360a0e"
      },
      "execution_count": null,
      "outputs": [
        {
          "output_type": "execute_result",
          "data": {
            "text/plain": [
              "array([5. , 5.5, 6. , 6.5, 7. , 7.5, 8. , 8.5, 9. , 9.5])"
            ]
          },
          "metadata": {},
          "execution_count": 12
        }
      ]
    },
    {
      "cell_type": "markdown",
      "metadata": {
        "id": "AwiwQMxS-fZs"
      },
      "source": [
        "### La función ```np.linspace()```.\n",
        "\n",
        "Crea un array de una dimensión que contiene una secuencia lineal de números dentro de un rango dado.\n",
        "\n",
        "```\n",
        "np.linspace(<inicio, <fin>, num=<segmentos>, dtype=<tipo de dato>)\n",
        "```\n",
        "\n",
        "Donde:\n",
        "\n",
        "* ```<inicio>``` número a partir del cual comenzará la secuencia.\n",
        "* ```<fin>``` número en el que terminará la secuencia (inclusivo)\n",
        "* ```<segmentos>``` número de segmentos, incluyendo el valor inicial y el final que se generarán, que contendrá el arreglo. *Valor por defecto es `50`*\n",
        "* ```<tipo de dato>``` es el tipo de dato que tendrá el arreglo. *Por defecto es `np.float`*"
      ]
    },
    {
      "cell_type": "markdown",
      "metadata": {
        "id": "VyTFktTX-fZt"
      },
      "source": [
        "**Ejemplos:**"
      ]
    },
    {
      "cell_type": "code",
      "execution_count": null,
      "metadata": {
        "colab": {
          "base_uri": "https://localhost:8080/"
        },
        "id": "g4HIVZ8d-fZu",
        "outputId": "a58601f9-69b2-4065-e050-180a976dc219"
      },
      "outputs": [
        {
          "output_type": "execute_result",
          "data": {
            "text/plain": [
              "array([0.        , 0.14285714, 0.28571429, 0.42857143, 0.57142857,\n",
              "       0.71428571, 0.85714286, 1.        , 1.14285714, 1.28571429,\n",
              "       1.42857143, 1.57142857, 1.71428571, 1.85714286, 2.        ,\n",
              "       2.14285714, 2.28571429, 2.42857143, 2.57142857, 2.71428571,\n",
              "       2.85714286, 3.        , 3.14285714, 3.28571429, 3.42857143,\n",
              "       3.57142857, 3.71428571, 3.85714286, 4.        , 4.14285714,\n",
              "       4.28571429, 4.42857143, 4.57142857, 4.71428571, 4.85714286,\n",
              "       5.        , 5.14285714, 5.28571429, 5.42857143, 5.57142857,\n",
              "       5.71428571, 5.85714286, 6.        , 6.14285714, 6.28571429,\n",
              "       6.42857143, 6.57142857, 6.71428571, 6.85714286, 7.        ])"
            ]
          },
          "metadata": {},
          "execution_count": 13
        }
      ],
      "source": [
        "# Crear un array compuesto por una secuencia lineal de 50 segmentos que van del 0 al 7.\n",
        "np.linspace(0, 7)"
      ]
    },
    {
      "cell_type": "code",
      "source": [
        "# Crear un array compuesto por una secuencia lineal de 100 segmentos que van del 0 al 10.\n",
        "np.linspace(0, 10, num=100)"
      ],
      "metadata": {
        "colab": {
          "base_uri": "https://localhost:8080/"
        },
        "id": "8se9ci3X56hB",
        "outputId": "a9f5da9e-7b91-4bf4-c4b7-82accfd8b56f"
      },
      "execution_count": null,
      "outputs": [
        {
          "output_type": "execute_result",
          "data": {
            "text/plain": [
              "array([ 0.        ,  0.1010101 ,  0.2020202 ,  0.3030303 ,  0.4040404 ,\n",
              "        0.50505051,  0.60606061,  0.70707071,  0.80808081,  0.90909091,\n",
              "        1.01010101,  1.11111111,  1.21212121,  1.31313131,  1.41414141,\n",
              "        1.51515152,  1.61616162,  1.71717172,  1.81818182,  1.91919192,\n",
              "        2.02020202,  2.12121212,  2.22222222,  2.32323232,  2.42424242,\n",
              "        2.52525253,  2.62626263,  2.72727273,  2.82828283,  2.92929293,\n",
              "        3.03030303,  3.13131313,  3.23232323,  3.33333333,  3.43434343,\n",
              "        3.53535354,  3.63636364,  3.73737374,  3.83838384,  3.93939394,\n",
              "        4.04040404,  4.14141414,  4.24242424,  4.34343434,  4.44444444,\n",
              "        4.54545455,  4.64646465,  4.74747475,  4.84848485,  4.94949495,\n",
              "        5.05050505,  5.15151515,  5.25252525,  5.35353535,  5.45454545,\n",
              "        5.55555556,  5.65656566,  5.75757576,  5.85858586,  5.95959596,\n",
              "        6.06060606,  6.16161616,  6.26262626,  6.36363636,  6.46464646,\n",
              "        6.56565657,  6.66666667,  6.76767677,  6.86868687,  6.96969697,\n",
              "        7.07070707,  7.17171717,  7.27272727,  7.37373737,  7.47474747,\n",
              "        7.57575758,  7.67676768,  7.77777778,  7.87878788,  7.97979798,\n",
              "        8.08080808,  8.18181818,  8.28282828,  8.38383838,  8.48484848,\n",
              "        8.58585859,  8.68686869,  8.78787879,  8.88888889,  8.98989899,\n",
              "        9.09090909,  9.19191919,  9.29292929,  9.39393939,  9.49494949,\n",
              "        9.5959596 ,  9.6969697 ,  9.7979798 ,  9.8989899 , 10.        ])"
            ]
          },
          "metadata": {},
          "execution_count": 14
        }
      ]
    },
    {
      "cell_type": "markdown",
      "metadata": {
        "id": "IR4YIgFV-fZv"
      },
      "source": [
        "### La función ```np.geomspace()```.\n",
        "\n",
        "Esta función creará un arreglo de una dimensión que contiene una secuencia de números en una **escala logarítmica** dentro de un rango dado.\n",
        "\n",
        "```\n",
        "np.geomspace(<inicio, <fin>, num=<segmentos>, dtype=<tipo de dato>)\n",
        "```\n",
        "\n",
        "Donde:\n",
        "\n",
        "* ```<inicio>``` corresponde al número a partir del cual comenzará la secuencia.\n",
        "* ```<fin>``` corresponde al número en el que terminará la secuencia (inclusive)\n",
        "* ```<segmentos>``` corresponde al número de segmentos, incluyendo el valor inicial y el final que se generarán, que contendrá el arreglo. *Por defecto es `50`*\n",
        "* ```<tipo de dato>``` es el tipo de dato que tendrá el arreglo. *Por defecto es `np.float`*\n"
      ]
    },
    {
      "cell_type": "markdown",
      "metadata": {
        "id": "urRmAlyv-fZv"
      },
      "source": [
        "**Ejemplo:**"
      ]
    },
    {
      "cell_type": "markdown",
      "metadata": {
        "id": "m9tP0Woq-fZv"
      },
      "source": [
        "* La siguiente celda creará un arreglo compuesto por una secuencia logarítmica de 100 segmentos que van del ```0``` al ```100```."
      ]
    },
    {
      "cell_type": "code",
      "execution_count": null,
      "metadata": {
        "colab": {
          "base_uri": "https://localhost:8080/"
        },
        "id": "kxeNczEk-fZw",
        "outputId": "c11abca7-3fe1-4cfc-dd35-b317026d811c"
      },
      "outputs": [
        {
          "output_type": "execute_result",
          "data": {
            "text/plain": [
              "array([  1.        ,   1.04761575,   1.09749877,   1.149757  ,\n",
              "         1.20450354,   1.26185688,   1.32194115,   1.38488637,\n",
              "         1.45082878,   1.51991108,   1.59228279,   1.66810054,\n",
              "         1.7475284 ,   1.83073828,   1.91791026,   2.009233  ,\n",
              "         2.10490414,   2.20513074,   2.3101297 ,   2.42012826,\n",
              "         2.53536449,   2.65608778,   2.7825594 ,   2.91505306,\n",
              "         3.05385551,   3.19926714,   3.35160265,   3.51119173,\n",
              "         3.67837977,   3.85352859,   4.03701726,   4.22924287,\n",
              "         4.43062146,   4.64158883,   4.86260158,   5.09413801,\n",
              "         5.33669923,   5.59081018,   5.85702082,   6.13590727,\n",
              "         6.42807312,   6.73415066,   7.05480231,   7.39072203,\n",
              "         7.74263683,   8.11130831,   8.49753436,   8.90215085,\n",
              "         9.32603347,   9.77009957,  10.23531022,  10.72267222,\n",
              "        11.23324033,  11.76811952,  12.32846739,  12.91549665,\n",
              "        13.53047775,  14.17474163,  14.84968262,  15.55676144,\n",
              "        16.29750835,  17.07352647,  17.88649529,  18.73817423,\n",
              "        19.6304065 ,  20.56512308,  21.5443469 ,  22.5701972 ,\n",
              "        23.64489413,  24.77076356,  25.95024211,  27.18588243,\n",
              "        28.48035868,  29.8364724 ,  31.2571585 ,  32.74549163,\n",
              "        34.30469286,  35.93813664,  37.64935807,  39.44206059,\n",
              "        41.320124  ,  43.28761281,  45.34878508,  47.50810162,\n",
              "        49.77023564,  52.14008288,  54.62277218,  57.22367659,\n",
              "        59.94842503,  62.80291442,  65.79332247,  68.92612104,\n",
              "        72.20809018,  75.64633276,  79.24828984,  83.02175681,\n",
              "        86.97490026,  91.11627561,  95.45484567, 100.        ])"
            ]
          },
          "metadata": {},
          "execution_count": 15
        }
      ],
      "source": [
        "# Crear un arreglo compuesto por una secuencia logarítmica de 100 segmentos que van del 0 al 100.\n",
        "np.geomspace(1, 100, num=100)"
      ]
    },
    {
      "cell_type": "markdown",
      "metadata": {
        "id": "BuOo-0fC-fZw"
      },
      "source": [
        "### La función ```np.logspace()```.\n",
        "\n",
        "Esta función creará un arreglo de una dimensión que contiene una secuencia de números en una **escala logarítmica que va de un rango dado** entre $e^{incio}$ y $e^{fin}$ .\n",
        "\n",
        "```\n",
        "np.logspace(<inicio, <fin>, num=<segmentos>, dtype=<tipo de dato>)\n",
        "```\n",
        "\n",
        "Donde:\n",
        "\n",
        "* ```<inicio>``` define el valor inicial de la secuencia. Este valor se calcula como $e^{<inicio>}$.\n",
        "* ```<fin>``` define el valor final de la secuencia. Este valor se calcula como $e^{<fin>}$.\n",
        "* ```<segmentos>``` número de segmentos, incluyendo el valor inicial y el final que se generarán, que contendrá el arreglo. *Por defecto es `50`*.\n",
        "* ```<tipo de dato>``` es el tipo de dato que tendrá el arreglo. *Por defecto es `np.float`*."
      ]
    },
    {
      "cell_type": "markdown",
      "metadata": {
        "id": "uayKfaY--fZw"
      },
      "source": [
        "**Ejemplo:**"
      ]
    },
    {
      "cell_type": "markdown",
      "metadata": {
        "id": "6rvcLnRI-fZx"
      },
      "source": [
        "* La siguiente celda creará un arreglo compuesto por una secuencia logarítmica de 100 segmentos que van del $e^{12}$ a $e^{25}$."
      ]
    },
    {
      "cell_type": "code",
      "execution_count": null,
      "metadata": {
        "scrolled": false,
        "colab": {
          "base_uri": "https://localhost:8080/"
        },
        "id": "ZEX3HBos-fZx",
        "outputId": "51329893-8433-4d44-f65d-53ab86d7cc34"
      },
      "outputs": [
        {
          "output_type": "execute_result",
          "data": {
            "text/plain": [
              "array([1.00000000e+12, 1.35304777e+12, 1.83073828e+12, 2.47707636e+12,\n",
              "       3.35160265e+12, 4.53487851e+12, 6.13590727e+12, 8.30217568e+12,\n",
              "       1.12332403e+13, 1.51991108e+13, 2.05651231e+13, 2.78255940e+13,\n",
              "       3.76493581e+13, 5.09413801e+13, 6.89261210e+13, 9.32603347e+13,\n",
              "       1.26185688e+14, 1.70735265e+14, 2.31012970e+14, 3.12571585e+14,\n",
              "       4.22924287e+14, 5.72236766e+14, 7.74263683e+14, 1.04761575e+15,\n",
              "       1.41747416e+15, 1.91791026e+15, 2.59502421e+15, 3.51119173e+15,\n",
              "       4.75081016e+15, 6.42807312e+15, 8.69749003e+15, 1.17681195e+16,\n",
              "       1.59228279e+16, 2.15443469e+16, 2.91505306e+16, 3.94420606e+16,\n",
              "       5.33669923e+16, 7.22080902e+16, 9.77009957e+16, 1.32194115e+17,\n",
              "       1.78864953e+17, 2.42012826e+17, 3.27454916e+17, 4.43062146e+17,\n",
              "       5.99484250e+17, 8.11130831e+17, 1.09749877e+18, 1.48496826e+18,\n",
              "       2.00923300e+18, 2.71858824e+18, 3.67837977e+18, 4.97702356e+18,\n",
              "       6.73415066e+18, 9.11162756e+18, 1.23284674e+19, 1.66810054e+19,\n",
              "       2.25701972e+19, 3.05385551e+19, 4.13201240e+19, 5.59081018e+19,\n",
              "       7.56463328e+19, 1.02353102e+20, 1.38488637e+20, 1.87381742e+20,\n",
              "       2.53536449e+20, 3.43046929e+20, 4.64158883e+20, 6.28029144e+20,\n",
              "       8.49753436e+20, 1.14975700e+21, 1.55567614e+21, 2.10490414e+21,\n",
              "       2.84803587e+21, 3.85352859e+21, 5.21400829e+21, 7.05480231e+21,\n",
              "       9.54548457e+21, 1.29154967e+22, 1.74752840e+22, 2.36448941e+22,\n",
              "       3.19926714e+22, 4.32876128e+22, 5.85702082e+22, 7.92482898e+22,\n",
              "       1.07226722e+23, 1.45082878e+23, 1.96304065e+23, 2.65608778e+23,\n",
              "       3.59381366e+23, 4.86260158e+23, 6.57933225e+23, 8.90215085e+23,\n",
              "       1.20450354e+24, 1.62975083e+24, 2.20513074e+24, 2.98364724e+24,\n",
              "       4.03701726e+24, 5.46227722e+24, 7.39072203e+24, 1.00000000e+25])"
            ]
          },
          "metadata": {},
          "execution_count": 16
        }
      ],
      "source": [
        "np.logspace(12, 25, num=100)"
      ]
    },
    {
      "cell_type": "markdown",
      "metadata": {
        "id": "vAqA5QvRTsIj"
      },
      "source": [
        "## Creación de arreglos con contenido aleatorio\n",
        "\n",
        "El paquete ```np.random``` contiene funciones para generar arrays con elementos aleatorios."
      ]
    },
    {
      "cell_type": "markdown",
      "metadata": {
        "id": "dq_tbc_GTsIj"
      },
      "source": [
        "### La función ```np.random.rand()```.\n",
        "\n",
        "Crea un arreglo con valores aleatorios que van de ```[0...1[``` (no incluido) dentro de una distribución uniforme.\n",
        "\n",
        "```\n",
        "np.random.rand(<forma>)\n",
        "```\n",
        "Donde:\n",
        "\n",
        "* ```<forma>``` es una **secuencia de valores enteros separados por comas** que definen la forma del arreglo."
      ]
    },
    {
      "cell_type": "code",
      "source": [
        "# Crear un arreglo de (2,3)\n",
        "np.random.rand(2,3)"
      ],
      "metadata": {
        "colab": {
          "base_uri": "https://localhost:8080/"
        },
        "id": "q2lUxUlOT7it",
        "outputId": "1d7bb722-a654-4083-8765-87f052a6b75e"
      },
      "execution_count": null,
      "outputs": [
        {
          "output_type": "execute_result",
          "data": {
            "text/plain": [
              "array([[0.49355571, 0.51392496, 0.26091438],\n",
              "       [0.88660026, 0.99471011, 0.5113633 ]])"
            ]
          },
          "metadata": {},
          "execution_count": 17
        }
      ]
    },
    {
      "cell_type": "markdown",
      "metadata": {
        "id": "6EQ0pkfwTsIk"
      },
      "source": [
        "### La función ```np.random.randint()```.\n",
        "\n",
        "Crea un arreglo con valores enteros aleatorios en un rango dado.\n",
        "\n",
        "```\n",
        "np.random.randint(<inicio>, <fin>, <forma>)\n",
        "```\n",
        "\n",
        "Donde:\n",
        "\n",
        "* ```<inicio>``` es el valor inicial del rango, incluyéndolo a este.\n",
        "* ```<fin>``` es  el valor final del rango, no incluido.\n",
        "* ```<forma>``` es una *tupla* que define la forma del arreglo."
      ]
    },
    {
      "cell_type": "code",
      "source": [
        "np.random.randint(1, 4, (2,3))"
      ],
      "metadata": {
        "colab": {
          "base_uri": "https://localhost:8080/"
        },
        "id": "wcr2r27mUO_7",
        "outputId": "4ab1a5dc-0639-4cdf-853d-c2bdc1bf2010"
      },
      "execution_count": null,
      "outputs": [
        {
          "output_type": "execute_result",
          "data": {
            "text/plain": [
              "array([[3, 2, 3],\n",
              "       [1, 1, 1]])"
            ]
          },
          "metadata": {},
          "execution_count": 18
        }
      ]
    },
    {
      "cell_type": "markdown",
      "metadata": {
        "id": "uEhGdPfK-fZx"
      },
      "source": [
        "## Copiado de un arreglo.\n",
        "\n",
        "La función ```np.copy()``` permite crear un nuevo arreglo a partir de otro.\n",
        "\n",
        "```\n",
        "np.copy(<arreglo>)\n",
        "```"
      ]
    },
    {
      "cell_type": "markdown",
      "metadata": {
        "id": "4YNNgwcg-fZx"
      },
      "source": [
        "**Ejemplos:**"
      ]
    },
    {
      "cell_type": "code",
      "execution_count": null,
      "metadata": {
        "scrolled": true,
        "id": "yX5_M4co-fZy",
        "colab": {
          "base_uri": "https://localhost:8080/"
        },
        "outputId": "11c90da8-64a4-4376-eac4-deef9740f16e"
      },
      "outputs": [
        {
          "output_type": "stream",
          "name": "stdout",
          "text": [
            "[[1 2]\n",
            " [3 4]]\n",
            "[[1 2]\n",
            " [3 4]]\n"
          ]
        }
      ],
      "source": [
        "arreglo_original = np.array(([1, 2], [3, 4]))\n",
        "print(arreglo_original)\n",
        "\n",
        "arreglo_copia = np.copy(arreglo_original)\n",
        "print(arreglo_copia)"
      ]
    },
    {
      "cell_type": "code",
      "source": [
        "arreglo_original is arreglo_copia"
      ],
      "metadata": {
        "colab": {
          "base_uri": "https://localhost:8080/"
        },
        "id": "r_I66KLRpYHu",
        "outputId": "4306811b-cc69-446b-b17e-80410d32e6f7"
      },
      "execution_count": null,
      "outputs": [
        {
          "output_type": "execute_result",
          "data": {
            "text/plain": [
              "False"
            ]
          },
          "metadata": {},
          "execution_count": 20
        }
      ]
    }
  ]
}