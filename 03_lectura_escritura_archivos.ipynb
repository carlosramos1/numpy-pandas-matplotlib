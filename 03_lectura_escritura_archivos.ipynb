{
  "cells": [
    {
      "cell_type": "markdown",
      "metadata": {
        "id": "view-in-github",
        "colab_type": "text"
      },
      "source": [
        "<a href=\"https://colab.research.google.com/github/carlosramos1/numpy-pandas-matplotlib/blob/main/03_lectura_escritura_archivos.ipynb\" target=\"_parent\"><img src=\"https://colab.research.google.com/assets/colab-badge.svg\" alt=\"Open In Colab\"/></a>"
      ]
    },
    {
      "cell_type": "markdown",
      "metadata": {
        "id": "6YjwF3c2-fZ1"
      },
      "source": [
        "# Escritura y lectura de archivos.\n",
        "\n",
        "*Numpy* cuenta con varias funciones para almacenar y extraer arreglos a partir de archivos."
      ]
    },
    {
      "cell_type": "code",
      "execution_count": null,
      "metadata": {
        "scrolled": true,
        "id": "2fbilc5D-fZW"
      },
      "outputs": [],
      "source": [
        "import numpy as np"
      ]
    },
    {
      "cell_type": "markdown",
      "metadata": {
        "id": "wjfpw3IM-fZ2"
      },
      "source": [
        "## Escritura de un arreglo  en un archivo de texto\n",
        "\n",
        "La función ```np.savetxt()``` permite guardar un arreglo en un archivo  de texto\n",
        "\n",
        "```\n",
        "np.savetxt('<ruta>', <arreglo>, delimiter='<caracter delimitador>')\n",
        "```\n",
        "\n",
        "- Por defecto el  `<caracter delimitador>` es un espacio."
      ]
    },
    {
      "cell_type": "markdown",
      "metadata": {
        "id": "dPkf5O-g-fZ2"
      },
      "source": [
        "**Ejemplo:**"
      ]
    },
    {
      "cell_type": "code",
      "source": [
        "arreglo = np.array(([1, 2], [3, 4]), dtype=np.int8)\n",
        "arreglo"
      ],
      "metadata": {
        "colab": {
          "base_uri": "https://localhost:8080/"
        },
        "id": "a9ONk-MXhgoY",
        "outputId": "80b89fe8-013f-4ee8-ee12-6702481a32c0"
      },
      "execution_count": null,
      "outputs": [
        {
          "output_type": "execute_result",
          "data": {
            "text/plain": [
              "array([[1, 2],\n",
              "       [3, 4]], dtype=int8)"
            ]
          },
          "metadata": {},
          "execution_count": 2
        }
      ]
    },
    {
      "cell_type": "code",
      "source": [
        "# Guardar el contenido en un archivo de texto\n",
        "np.savetxt('arreglo.txt', arreglo)"
      ],
      "metadata": {
        "id": "BkM9TJ-xfU9H"
      },
      "execution_count": null,
      "outputs": []
    },
    {
      "cell_type": "code",
      "source": [
        "# Visualizar el archivo creado con el comando cat\n",
        "!cat arreglo.txt"
      ],
      "metadata": {
        "colab": {
          "base_uri": "https://localhost:8080/"
        },
        "id": "pUqkIJ6sfZQ2",
        "outputId": "98330bea-9c34-4e39-90de-9583f67920a5"
      },
      "execution_count": null,
      "outputs": [
        {
          "output_type": "stream",
          "name": "stdout",
          "text": [
            "1.000000000000000000e+00 2.000000000000000000e+00\n",
            "3.000000000000000000e+00 4.000000000000000000e+00\n"
          ]
        }
      ]
    },
    {
      "cell_type": "markdown",
      "metadata": {
        "id": "-odZAP_U-fZ_"
      },
      "source": [
        "## Lectura de un arreglo a partir de un archivo de texto\n",
        "\n",
        "\n",
        "La función ```np.loadtxt()``` permite leer un arreglo desde un archivo de texto.\n",
        "\n",
        "```\n",
        "np.loadtxt('<ruta>', delimiter='<caracter delimitador>')\n",
        "```"
      ]
    },
    {
      "cell_type": "markdown",
      "metadata": {
        "id": "4RNFneYd-fZ_"
      },
      "source": [
        "**Ejemplo:**"
      ]
    },
    {
      "cell_type": "code",
      "execution_count": null,
      "metadata": {
        "id": "NmYJQufp-fZ_",
        "colab": {
          "base_uri": "https://localhost:8080/"
        },
        "outputId": "cbab4356-d8fb-4381-a18c-26b5fbe31b65"
      },
      "outputs": [
        {
          "output_type": "execute_result",
          "data": {
            "text/plain": [
              "array([[1., 2.],\n",
              "       [3., 4.]])"
            ]
          },
          "metadata": {},
          "execution_count": 5
        }
      ],
      "source": [
        "np.loadtxt(\"arreglo.txt\")"
      ]
    },
    {
      "cell_type": "markdown",
      "source": [
        "## Escritura de arreglos en un archivo binario"
      ],
      "metadata": {
        "id": "Krznyi2UowBd"
      }
    },
    {
      "cell_type": "markdown",
      "metadata": {
        "id": "H00GTTT_-fZ5"
      },
      "source": [
        "### Escritura de un arreglo\n",
        "\n",
        "Esta función guardar un arreglo de *Numpy* en formato binario con la extensión ```.npy```.\n",
        "\n",
        "```\n",
        "np.save('<ruta>', <arreglo>)\n",
        "```\n",
        "- No es necesario poner la extensión del archivo, éste se añadirá automáticamente (ver ejemplo)."
      ]
    },
    {
      "cell_type": "markdown",
      "metadata": {
        "id": "u67XNQ3w-fZ5"
      },
      "source": [
        "**Ejemplo:**"
      ]
    },
    {
      "cell_type": "code",
      "source": [
        "arreglo = np.array(([1, 2], [3, 4]))\n",
        "arreglo"
      ],
      "metadata": {
        "colab": {
          "base_uri": "https://localhost:8080/"
        },
        "id": "nsX_S2vaiw63",
        "outputId": "55e612d6-73f3-4393-8e88-7bae644b4f10"
      },
      "execution_count": null,
      "outputs": [
        {
          "output_type": "execute_result",
          "data": {
            "text/plain": [
              "array([[1, 2],\n",
              "       [3, 4]])"
            ]
          },
          "metadata": {},
          "execution_count": 9
        }
      ]
    },
    {
      "cell_type": "code",
      "source": [
        "# Guardando el arreglo en un archivo binario.\n",
        "np.save('arreglo', arreglo) #La extension .npy se añadirá automáticamente"
      ],
      "metadata": {
        "id": "gCtmlO64f9nu"
      },
      "execution_count": null,
      "outputs": []
    },
    {
      "cell_type": "code",
      "source": [
        "# Visualizar el archivo creado\n",
        "!cat arreglo.npy"
      ],
      "metadata": {
        "colab": {
          "base_uri": "https://localhost:8080/"
        },
        "id": "IZBxGXq4f_Kt",
        "outputId": "e5ae91bb-b561-44d2-ebbf-c7bc24968987"
      },
      "execution_count": null,
      "outputs": [
        {
          "output_type": "stream",
          "name": "stdout",
          "text": [
            "�NUMPY\u0001\u0000v\u0000{'descr': '<i8', 'fortran_order': False, 'shape': (2, 2), }                                                          \n",
            "\u0001\u0000\u0000\u0000\u0000\u0000\u0000\u0000\u0002\u0000\u0000\u0000\u0000\u0000\u0000\u0000\u0003\u0000\u0000\u0000\u0000\u0000\u0000\u0000\u0004\u0000\u0000\u0000\u0000\u0000\u0000\u0000"
          ]
        }
      ]
    },
    {
      "cell_type": "markdown",
      "metadata": {
        "id": "gD5MqmUA-fZ8"
      },
      "source": [
        "### Escritura de varios arreglos\n",
        "\n",
        "La función `np.savez()` permite guardar más de un arreglo  en formato binario. La extensión del archivo es ```.npz```.\n",
        "\n",
        "```\n",
        "np.savez('<ruta>', <arreglo 1>, <arreglo 2>,... <arreglo n>)\n",
        "```\n",
        "- No es necesario poner la extensión del archivo, éste se añadirá automáticamente (ver ejemplo)."
      ]
    },
    {
      "cell_type": "markdown",
      "metadata": {
        "id": "kNFlPJcD-fZ8"
      },
      "source": [
        "**Ejemplo:**"
      ]
    },
    {
      "cell_type": "code",
      "source": [
        "arreglo_1 = np.array(([1, 2], [3, 4]))\n",
        "arreglo_2 = np.array(([5, 6], [7, 8]))\n",
        "arreglo_1, arreglo_2"
      ],
      "metadata": {
        "colab": {
          "base_uri": "https://localhost:8080/"
        },
        "id": "GyQe1G3vkcp0",
        "outputId": "2ba37c52-6d16-4c3a-ccb5-4040ad00a66f"
      },
      "execution_count": null,
      "outputs": [
        {
          "output_type": "execute_result",
          "data": {
            "text/plain": [
              "(array([[1, 2],\n",
              "        [3, 4]]),\n",
              " array([[5, 6],\n",
              "        [7, 8]]))"
            ]
          },
          "metadata": {},
          "execution_count": 12
        }
      ]
    },
    {
      "cell_type": "code",
      "source": [
        "# Guardar los arreglos en un archivo binario\n",
        "np.savez('arreglos', arreglo_1, arreglo_2) #La extension .npz se añadirá automáticamente"
      ],
      "metadata": {
        "id": "8fhcBpVHgouA"
      },
      "execution_count": null,
      "outputs": []
    },
    {
      "cell_type": "code",
      "source": [
        "# Visualizar el archivo\n",
        "!cat arreglos.npz"
      ],
      "metadata": {
        "colab": {
          "base_uri": "https://localhost:8080/"
        },
        "id": "brzwT8LIgrCw",
        "outputId": "fa15338f-8f2e-4009-dea3-6b6e8a4a250c"
      },
      "execution_count": null,
      "outputs": [
        {
          "output_type": "stream",
          "name": "stdout",
          "text": [
            "PK\u0003\u0004-\u0000\u0000\u0000\u0000\u0000\u0000\u0000!\u0000�DK[��������\t\u0000\u0014\u0000arr_0.npy\u0001\u0000\u0010\u0000�\u0000\u0000\u0000\u0000\u0000\u0000\u0000�\u0000\u0000\u0000\u0000\u0000\u0000\u0000�NUMPY\u0001\u0000v\u0000{'descr': '<i8', 'fortran_order': False, 'shape': (2, 2), }                                                          \n",
            "\u0001\u0000\u0000\u0000\u0000\u0000\u0000\u0000\u0002\u0000\u0000\u0000\u0000\u0000\u0000\u0000\u0003\u0000\u0000\u0000\u0000\u0000\u0000\u0000\u0004\u0000\u0000\u0000\u0000\u0000\u0000\u0000PK\u0003\u0004-\u0000\u0000\u0000\u0000\u0000\u0000\u0000!\u0000\u001d�Y���������\t\u0000\u0014\u0000arr_1.npy\u0001\u0000\u0010\u0000�\u0000\u0000\u0000\u0000\u0000\u0000\u0000�\u0000\u0000\u0000\u0000\u0000\u0000\u0000�NUMPY\u0001\u0000v\u0000{'descr': '<i8', 'fortran_order': False, 'shape': (2, 2), }                                                          \n",
            "\u0005\u0000\u0000\u0000\u0000\u0000\u0000\u0000\u0006\u0000\u0000\u0000\u0000\u0000\u0000\u0000\u0007\u0000\u0000\u0000\u0000\u0000\u0000\u0000\b\u0000\u0000\u0000\u0000\u0000\u0000\u0000PK\u0001\u0002-\u0003-\u0000\u0000\u0000\u0000\u0000\u0000\u0000!\u0000�DK[�\u0000\u0000\u0000�\u0000\u0000\u0000\t\u0000\u0000\u0000\u0000\u0000\u0000\u0000\u0000\u0000\u0000\u0000�\u0001\u0000\u0000\u0000\u0000arr_0.npyPK\u0001\u0002-\u0003-\u0000\u0000\u0000\u0000\u0000\u0000\u0000!\u0000\u001d�Y��\u0000\u0000\u0000�\u0000\u0000\u0000\t\u0000\u0000\u0000\u0000\u0000\u0000\u0000\u0000\u0000\u0000\u0000�\u0001�\u0000\u0000\u0000arr_1.npyPK\u0005\u0006\u0000\u0000\u0000\u0000\u0002\u0000\u0002\u0000n\u0000\u0000\u0000�\u0001\u0000\u0000\u0000\u0000"
          ]
        }
      ]
    },
    {
      "cell_type": "markdown",
      "metadata": {
        "id": "jlMPlFF5-faA"
      },
      "source": [
        "## Lectura de arreglos a partir de un archivo binario\n",
        "\n",
        "La función ```np.load()``` permite leer arreglos desde archivos con extensión ```.npy``` o ```npz```.\n",
        "\n",
        "```\n",
        "np.load('<ruta>')\n",
        "```"
      ]
    },
    {
      "cell_type": "markdown",
      "metadata": {
        "id": "glMxxOoZ-faA"
      },
      "source": [
        "### Lectura de archivos ```.npy```.\n",
        "\n",
        "La función ```np.load()``` devuelve un arreglo de tipo ```np.ndarray```."
      ]
    },
    {
      "cell_type": "markdown",
      "metadata": {
        "id": "NUR83ooY-faA"
      },
      "source": [
        "**Ejemplo:**"
      ]
    },
    {
      "cell_type": "code",
      "source": [
        "# Leer el archivo arreglo.npy y guardar en una variable\n",
        "arreglo_leido = np.load('arreglo.npy')\n",
        "print(arreglo_leido)"
      ],
      "metadata": {
        "colab": {
          "base_uri": "https://localhost:8080/"
        },
        "id": "PsmucGhrl2h0",
        "outputId": "405bdc91-1b26-4e73-c917-79f4c2fad750"
      },
      "execution_count": null,
      "outputs": [
        {
          "output_type": "stream",
          "name": "stdout",
          "text": [
            "[[1 2]\n",
            " [3 4]]\n"
          ]
        }
      ]
    },
    {
      "cell_type": "markdown",
      "metadata": {
        "id": "D5eSFPBj-faC"
      },
      "source": [
        "### Lectura de archivos ```.npz```.\n",
        "\n",
        "En el caso de los archivos ```.npz```, la función ```np.load()``` regresará un objeto del tipo ```numpy.lib.npyio.NpzFile```.\n",
        "\n",
        "Los arreglos pueden ser accedidos ya sea mediante iteraciones con ```for``` o mediante un indice clave.\n",
        "\n",
        "```\n",
        "<objeto-NpzFile>['arr_<n>']\n",
        "```\n",
        "\n",
        "- `<objeto-NpzFile>` es la variable que referencia al objeto NpzFile el cual contiene los arreglos.\n",
        "- ```arr_<n>``` Es un *string* que indica el índice del arreglo al que se quiere acceder, `<n>` es un número entero que va en orden ascendente a partir de ```0```."
      ]
    },
    {
      "cell_type": "markdown",
      "metadata": {
        "id": "pFkdhnf--faC"
      },
      "source": [
        "**Ejemplo:**"
      ]
    },
    {
      "cell_type": "code",
      "execution_count": null,
      "metadata": {
        "id": "fDkDlDCD-faC",
        "colab": {
          "base_uri": "https://localhost:8080/"
        },
        "outputId": "b92b8b26-f487-4b64-ad85-9aac111702ac"
      },
      "outputs": [
        {
          "output_type": "stream",
          "name": "stdout",
          "text": [
            "<class 'numpy.lib.npyio.NpzFile'>\n"
          ]
        }
      ],
      "source": [
        "# Leer el archivo binario arreglos.npz\n",
        "arreglos_cargados = np.load('arreglos.npz')\n",
        "\n",
        "# Visualizar el tipo del objeto\n",
        "print(type(arreglos_cargados))"
      ]
    },
    {
      "cell_type": "code",
      "source": [
        "# Acceder al primer arreglo\n",
        "arreglos_cargados['arr_0']"
      ],
      "metadata": {
        "colab": {
          "base_uri": "https://localhost:8080/"
        },
        "id": "RUSbh1OthgKT",
        "outputId": "13b3ecdb-f794-4420-a0c1-a06684668d67"
      },
      "execution_count": null,
      "outputs": [
        {
          "output_type": "execute_result",
          "data": {
            "text/plain": [
              "array([[1, 2],\n",
              "       [3, 4]])"
            ]
          },
          "metadata": {},
          "execution_count": 18
        }
      ]
    },
    {
      "cell_type": "code",
      "source": [
        "# Acceder a todos los arreglos con un iterador for\n",
        "for idx_arr in arreglos_cargados:\n",
        "  print(idx_a)\n",
        "  print(idx_arr, arreglos_cargados[idx_arr])"
      ],
      "metadata": {
        "colab": {
          "base_uri": "https://localhost:8080/"
        },
        "id": "Xqi_TZE-npPN",
        "outputId": "9e30c9a1-36c2-4c9d-a246-9d682dce0e0a"
      },
      "execution_count": null,
      "outputs": [
        {
          "output_type": "stream",
          "name": "stdout",
          "text": [
            "arr_0 [[1 2]\n",
            " [3 4]]\n",
            "arr_1 [[5 6]\n",
            " [7 8]]\n"
          ]
        }
      ]
    }
  ],
  "metadata": {
    "kernelspec": {
      "display_name": "Python 3 (ipykernel)",
      "language": "python",
      "name": "python3"
    },
    "language_info": {
      "codemirror_mode": {
        "name": "ipython",
        "version": 3
      },
      "file_extension": ".py",
      "mimetype": "text/x-python",
      "name": "python",
      "nbconvert_exporter": "python",
      "pygments_lexer": "ipython3",
      "version": "3.9.7"
    },
    "colab": {
      "provenance": [],
      "include_colab_link": true
    }
  },
  "nbformat": 4,
  "nbformat_minor": 0
}