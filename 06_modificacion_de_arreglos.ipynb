{
  "cells": [
    {
      "cell_type": "markdown",
      "metadata": {
        "id": "view-in-github",
        "colab_type": "text"
      },
      "source": [
        "<a href=\"https://colab.research.google.com/github/carlosramos1/numpy-pandas-matplotlib/blob/main/06_modificacion_de_arreglos.ipynb\" target=\"_parent\"><img src=\"https://colab.research.google.com/assets/colab-badge.svg\" alt=\"Open In Colab\"/></a>"
      ]
    },
    {
      "cell_type": "markdown",
      "metadata": {
        "id": "buYzi71bujQC"
      },
      "source": [
        "# Recursos para arreglos de Numpy."
      ]
    },
    {
      "cell_type": "code",
      "execution_count": 3,
      "metadata": {
        "id": "oAas50ytujQF",
        "colab": {
          "base_uri": "https://localhost:8080/",
          "height": 35
        },
        "outputId": "3a98d22f-51cb-41ea-9bbd-26f4b14ddc61"
      },
      "outputs": [
        {
          "output_type": "execute_result",
          "data": {
            "text/plain": [
              "'2.0.2'"
            ],
            "application/vnd.google.colaboratory.intrinsic+json": {
              "type": "string"
            }
          },
          "metadata": {},
          "execution_count": 3
        }
      ],
      "source": [
        "import numpy as np\n",
        "np.__version__"
      ]
    },
    {
      "cell_type": "markdown",
      "metadata": {
        "id": "XRD7qajUujQM"
      },
      "source": [
        "## \"Aplanado\" de arreglos.\n",
        "\n",
        "En algunos casos es conveniente obtener una lista o un arreglo de una dimensión que contenga a todos los elementos de un arreglo."
      ]
    },
    {
      "cell_type": "markdown",
      "metadata": {
        "id": "v3tP0kb4ujQP"
      },
      "source": [
        "### El atributo ```flat```.\n",
        "\n",
        "Este atributo es un objeto iterador ```np.flatiter``` capaz de regresar cada uno de los valores que contiene un arreglo.\n",
        "\n",
        "\n",
        "https://numpy.org/devdocs/reference/generated/numpy.ndarray.flat.html"
      ]
    },
    {
      "cell_type": "markdown",
      "metadata": {
        "id": "6mil4g0aujQQ"
      },
      "source": [
        "**Ejemplo:**"
      ]
    },
    {
      "cell_type": "code",
      "execution_count": 4,
      "metadata": {
        "id": "hZJedsiMujQV"
      },
      "outputs": [],
      "source": [
        "arreglo_1 = np.array([[1,  2,  3,  4],\n",
        "                      [5,  6,  7,  8],\n",
        "                      [9, 10, 11, 12]])"
      ]
    },
    {
      "cell_type": "code",
      "source": [
        "type(arreglo_1.flat)"
      ],
      "metadata": {
        "colab": {
          "base_uri": "https://localhost:8080/"
        },
        "id": "uGOvcJSoyg66",
        "outputId": "f0018628-56e3-4d3c-e1f4-f7acaa2e5f42"
      },
      "execution_count": 5,
      "outputs": [
        {
          "output_type": "execute_result",
          "data": {
            "text/plain": [
              "numpy.flatiter"
            ]
          },
          "metadata": {},
          "execution_count": 5
        }
      ]
    },
    {
      "cell_type": "code",
      "source": [
        "# Usar con ciclo for\n",
        "for i in arreglo_1.flat:\n",
        "  print(i, end=\" ,\")"
      ],
      "metadata": {
        "colab": {
          "base_uri": "https://localhost:8080/"
        },
        "id": "3vpwblW7vokP",
        "outputId": "4ab4b79a-d8b2-4ab8-a72f-0eba815bb002"
      },
      "execution_count": 6,
      "outputs": [
        {
          "output_type": "stream",
          "name": "stdout",
          "text": [
            "1 ,2 ,3 ,4 ,5 ,6 ,7 ,8 ,9 ,10 ,11 ,12 ,"
          ]
        }
      ]
    },
    {
      "cell_type": "code",
      "source": [
        "# Convertir a lista el iterador\n",
        "list(arreglo_1.flat)"
      ],
      "metadata": {
        "colab": {
          "base_uri": "https://localhost:8080/"
        },
        "id": "AI2_pCqwxudO",
        "outputId": "8409058b-c31c-4969-e690-b74b64cd8677"
      },
      "execution_count": 7,
      "outputs": [
        {
          "output_type": "execute_result",
          "data": {
            "text/plain": [
              "[np.int64(1),\n",
              " np.int64(2),\n",
              " np.int64(3),\n",
              " np.int64(4),\n",
              " np.int64(5),\n",
              " np.int64(6),\n",
              " np.int64(7),\n",
              " np.int64(8),\n",
              " np.int64(9),\n",
              " np.int64(10),\n",
              " np.int64(11),\n",
              " np.int64(12)]"
            ]
          },
          "metadata": {},
          "execution_count": 7
        }
      ]
    },
    {
      "cell_type": "markdown",
      "metadata": {
        "id": "w6ESC217ujQg"
      },
      "source": [
        "### El método ```flatten()```.\n",
        "\n",
        "El método ```np.ndarray.flatten()``` **regresa un arreglo *NumPy* de una dimensión** que contiene una copia de cada uno de los elementos del arreglo original.\n",
        "\n",
        "https://numpy.org/devdocs/reference/generated/numpy.ndarray.flatten.html"
      ]
    },
    {
      "cell_type": "code",
      "source": [
        "a = np.array([[1,2], [3,4]])\n",
        "a"
      ],
      "metadata": {
        "colab": {
          "base_uri": "https://localhost:8080/"
        },
        "id": "R2vrSfeqyqC_",
        "outputId": "3e423b83-bf7c-4bab-ba68-768fe3e3b88e"
      },
      "execution_count": 8,
      "outputs": [
        {
          "output_type": "execute_result",
          "data": {
            "text/plain": [
              "array([[1, 2],\n",
              "       [3, 4]])"
            ]
          },
          "metadata": {},
          "execution_count": 8
        }
      ]
    },
    {
      "cell_type": "code",
      "source": [
        "type(a.flatten())"
      ],
      "metadata": {
        "colab": {
          "base_uri": "https://localhost:8080/"
        },
        "id": "P0Pa4qPdy0rK",
        "outputId": "9bd51b5b-74a0-47fe-9943-9844f7726dbe"
      },
      "execution_count": 9,
      "outputs": [
        {
          "output_type": "execute_result",
          "data": {
            "text/plain": [
              "numpy.ndarray"
            ]
          },
          "metadata": {},
          "execution_count": 9
        }
      ]
    },
    {
      "cell_type": "code",
      "source": [
        "a.flatten()"
      ],
      "metadata": {
        "id": "29j_aAVYzAqN",
        "colab": {
          "base_uri": "https://localhost:8080/"
        },
        "outputId": "453e1f1e-3228-43a5-ab9f-c07979aaf084"
      },
      "execution_count": 10,
      "outputs": [
        {
          "output_type": "execute_result",
          "data": {
            "text/plain": [
              "array([1, 2, 3, 4])"
            ]
          },
          "metadata": {},
          "execution_count": 10
        }
      ]
    },
    {
      "cell_type": "markdown",
      "metadata": {
        "id": "7cKMaFP2ujQh"
      },
      "source": [
        "### El método ```ravel()```.\n",
        "\n",
        "El método ```np.ndarray.ravel()``` **regresa un array *NumPy* de una dimensión que contiene la <u>referencia</u> de cada uno de los elementos** del arreglo original. Por lo que, si se hace alguna modificación en el arreglo original se reflejará en el array aplanado.\n",
        "\n",
        "https://numpy.org/devdocs/reference/generated/numpy.ndarray.ravel.html"
      ]
    },
    {
      "cell_type": "code",
      "source": [
        "a = np.array([[1,2], [3,4]])\n",
        "a"
      ],
      "metadata": {
        "colab": {
          "base_uri": "https://localhost:8080/"
        },
        "id": "CNdCSmgkDwUO",
        "outputId": "9c21cb1d-e851-47c1-d390-c903e7cee11f"
      },
      "execution_count": 11,
      "outputs": [
        {
          "output_type": "execute_result",
          "data": {
            "text/plain": [
              "array([[1, 2],\n",
              "       [3, 4]])"
            ]
          },
          "metadata": {},
          "execution_count": 11
        }
      ]
    },
    {
      "cell_type": "code",
      "source": [
        "a_ravel = a.ravel()\n",
        "a_ravel"
      ],
      "metadata": {
        "colab": {
          "base_uri": "https://localhost:8080/"
        },
        "id": "wpbNEFbOEKfu",
        "outputId": "29b624f0-2894-4411-ff8c-2ac49549ecef"
      },
      "execution_count": 12,
      "outputs": [
        {
          "output_type": "execute_result",
          "data": {
            "text/plain": [
              "array([1, 2, 3, 4])"
            ]
          },
          "metadata": {},
          "execution_count": 12
        }
      ]
    },
    {
      "cell_type": "code",
      "source": [
        "# Modificamos un elemento del array `a`\n",
        "a[0,1] = 9\n",
        "a"
      ],
      "metadata": {
        "colab": {
          "base_uri": "https://localhost:8080/"
        },
        "id": "9x8KsrQMETvT",
        "outputId": "cfbf4b3d-1ca7-40b5-f9d4-4935a5b3abd0"
      },
      "execution_count": 13,
      "outputs": [
        {
          "output_type": "execute_result",
          "data": {
            "text/plain": [
              "array([[1, 9],\n",
              "       [3, 4]])"
            ]
          },
          "metadata": {},
          "execution_count": 13
        }
      ]
    },
    {
      "cell_type": "code",
      "source": [
        "# Verificar si se ha modificado el array aplanado\n",
        "a_ravel"
      ],
      "metadata": {
        "colab": {
          "base_uri": "https://localhost:8080/"
        },
        "id": "SOCBLGn7Ege9",
        "outputId": "fa3a5dcc-53ee-4b82-db74-89ecca947ee0"
      },
      "execution_count": 14,
      "outputs": [
        {
          "output_type": "execute_result",
          "data": {
            "text/plain": [
              "array([1, 9, 3, 4])"
            ]
          },
          "metadata": {},
          "execution_count": 14
        }
      ]
    },
    {
      "cell_type": "markdown",
      "metadata": {
        "id": "9980CwJ5ujQh"
      },
      "source": [
        "### La función ```np.ravel()```.\n",
        "\n",
        "Tiene la misma funcionalidad que el método `ndarray.ravel()`.\n",
        "\n",
        "La función `np.ravel(<array-np>)` Retorna un arreglo de una dimensión que **contiene la <u>referencia</u>** de cada uno de los elementos del arreglo que se ingresa como argumento.\n",
        "\n",
        "https://numpy.org/devdocs/reference/generated/numpy.ravel.html"
      ]
    },
    {
      "cell_type": "code",
      "source": [
        "a = np.array([[1,2], [3,4]])\n",
        "a_ravel = np.ravel(a)\n",
        "a_ravel"
      ],
      "metadata": {
        "colab": {
          "base_uri": "https://localhost:8080/"
        },
        "id": "7FcN9LAtPbAO",
        "outputId": "8cb78d0d-40e4-46d4-c6b3-f1ea363058b1"
      },
      "execution_count": 15,
      "outputs": [
        {
          "output_type": "execute_result",
          "data": {
            "text/plain": [
              "array([1, 2, 3, 4])"
            ]
          },
          "metadata": {},
          "execution_count": 15
        }
      ]
    },
    {
      "cell_type": "code",
      "source": [
        "# Modificamos el elemento 0,0\n",
        "a[0,0] = 9\n",
        "# Verificamos que el array aplanado también cambió\n",
        "a_ravel"
      ],
      "metadata": {
        "colab": {
          "base_uri": "https://localhost:8080/"
        },
        "id": "jJ1fEUfuCwum",
        "outputId": "539fbff1-430e-4187-90a0-19f8088e6036"
      },
      "execution_count": 16,
      "outputs": [
        {
          "output_type": "execute_result",
          "data": {
            "text/plain": [
              "array([9, 2, 3, 4])"
            ]
          },
          "metadata": {},
          "execution_count": 16
        }
      ]
    },
    {
      "cell_type": "markdown",
      "metadata": {
        "id": "hjcdF4NRujQ6"
      },
      "source": [
        "## Modificación de la forma de los arreglos.\n",
        "\n",
        "Existe dos maneras de **modificar la forma** de un arreglo:\n",
        "\n",
        "- El método `np.ndarray.reshape()`\n",
        "- La función `np.reshape()`"
      ]
    },
    {
      "cell_type": "markdown",
      "metadata": {
        "id": "i4U4q7_lujQ6"
      },
      "source": [
        "### El método ```reshape()```.\n",
        "\n",
        "El método ```np.ndarray.reshape()``` retorna un arreglo compuesto por el mismo número de elementos que el arreglo original, pero con la forma que se ingrese como argumento.\n",
        "\n",
        "Las nuevas dimensiones deben de coincidir con el numero total de elementos del arreglo de origen.\n",
        "\n",
        "```\n",
        "<arreglo>.reshape(<forma>)\n",
        "```\n",
        "\n",
        "* ```<forma>``` es una *tupla* que describe la forma del arreglo resultante.\n",
        "\n",
        "https://numpy.org/devdocs/reference/generated/numpy.ndarray.reshape.html"
      ]
    },
    {
      "cell_type": "code",
      "source": [
        "a = np.array([[1,2], [3,4]])\n",
        "a.shape"
      ],
      "metadata": {
        "colab": {
          "base_uri": "https://localhost:8080/"
        },
        "id": "TGpf3E5tQW0C",
        "outputId": "f4a5f24a-bdcf-468d-d17a-bae8234d2319"
      },
      "execution_count": 17,
      "outputs": [
        {
          "output_type": "execute_result",
          "data": {
            "text/plain": [
              "(2, 2)"
            ]
          },
          "metadata": {},
          "execution_count": 17
        }
      ]
    },
    {
      "cell_type": "code",
      "source": [
        "# Modificar a la forma (4,1)\n",
        "a.reshape((4,1))"
      ],
      "metadata": {
        "colab": {
          "base_uri": "https://localhost:8080/"
        },
        "id": "D47uFOzjQpaC",
        "outputId": "cdfd9af2-244c-4fcf-a5ef-5841654601b8"
      },
      "execution_count": 18,
      "outputs": [
        {
          "output_type": "execute_result",
          "data": {
            "text/plain": [
              "array([[1],\n",
              "       [2],\n",
              "       [3],\n",
              "       [4]])"
            ]
          },
          "metadata": {},
          "execution_count": 18
        }
      ]
    },
    {
      "cell_type": "code",
      "source": [
        "# Ejemplo 2:\n",
        "b = np.array([[1,2,3],[4,5,6],[6,7,8],[6,5,4]])\n",
        "b.shape"
      ],
      "metadata": {
        "colab": {
          "base_uri": "https://localhost:8080/"
        },
        "id": "We59hOt_Q5B5",
        "outputId": "5c3678fd-ea4f-4745-fa5a-2d0891a85e69"
      },
      "execution_count": 19,
      "outputs": [
        {
          "output_type": "execute_result",
          "data": {
            "text/plain": [
              "(4, 3)"
            ]
          },
          "metadata": {},
          "execution_count": 19
        }
      ]
    },
    {
      "cell_type": "code",
      "source": [
        "# Modificar a la forma (2,2,3)\n",
        "b.reshape((2,2,3))"
      ],
      "metadata": {
        "colab": {
          "base_uri": "https://localhost:8080/"
        },
        "id": "sU38_WT6RQ1E",
        "outputId": "5eb89649-71ed-4b22-bd11-426dc76ce7ca"
      },
      "execution_count": 20,
      "outputs": [
        {
          "output_type": "execute_result",
          "data": {
            "text/plain": [
              "array([[[1, 2, 3],\n",
              "        [4, 5, 6]],\n",
              "\n",
              "       [[6, 7, 8],\n",
              "        [6, 5, 4]]])"
            ]
          },
          "metadata": {},
          "execution_count": 20
        }
      ]
    },
    {
      "cell_type": "code",
      "source": [
        "# Ejemplo 3:\n",
        "a = np.array([[1,2], [3,4]])\n",
        "a.shape"
      ],
      "metadata": {
        "colab": {
          "base_uri": "https://localhost:8080/"
        },
        "id": "Rh6ylPp5D90k",
        "outputId": "b39804fa-c3a8-4bd5-fad5-b7d1de7faa59"
      },
      "execution_count": 21,
      "outputs": [
        {
          "output_type": "execute_result",
          "data": {
            "text/plain": [
              "(2, 2)"
            ]
          },
          "metadata": {},
          "execution_count": 21
        }
      ]
    },
    {
      "cell_type": "code",
      "source": [
        "# Modificar a la forma (3,1)\n",
        "a.reshape((3,1))\n",
        "# Error, porque el numero de elementos es menor al original"
      ],
      "metadata": {
        "colab": {
          "base_uri": "https://localhost:8080/",
          "height": 176
        },
        "id": "YVirGSGKEEpN",
        "outputId": "f122d574-1d0b-4f85-f65d-3dfbb0955e28"
      },
      "execution_count": 22,
      "outputs": [
        {
          "output_type": "error",
          "ename": "ValueError",
          "evalue": "cannot reshape array of size 4 into shape (3,1)",
          "traceback": [
            "\u001b[0;31m---------------------------------------------------------------------------\u001b[0m",
            "\u001b[0;31mValueError\u001b[0m                                Traceback (most recent call last)",
            "\u001b[0;32m<ipython-input-22-f01bc3d3ed23>\u001b[0m in \u001b[0;36m<cell line: 0>\u001b[0;34m()\u001b[0m\n\u001b[1;32m      1\u001b[0m \u001b[0;31m# Modificar a la forma (3,1)\u001b[0m\u001b[0;34m\u001b[0m\u001b[0;34m\u001b[0m\u001b[0m\n\u001b[0;32m----> 2\u001b[0;31m \u001b[0ma\u001b[0m\u001b[0;34m.\u001b[0m\u001b[0mreshape\u001b[0m\u001b[0;34m(\u001b[0m\u001b[0;34m(\u001b[0m\u001b[0;36m3\u001b[0m\u001b[0;34m,\u001b[0m\u001b[0;36m1\u001b[0m\u001b[0;34m)\u001b[0m\u001b[0;34m)\u001b[0m\u001b[0;34m\u001b[0m\u001b[0;34m\u001b[0m\u001b[0m\n\u001b[0m\u001b[1;32m      3\u001b[0m \u001b[0;31m# Error, porque el numero de elementos es menor al original\u001b[0m\u001b[0;34m\u001b[0m\u001b[0;34m\u001b[0m\u001b[0m\n",
            "\u001b[0;31mValueError\u001b[0m: cannot reshape array of size 4 into shape (3,1)"
          ]
        }
      ]
    },
    {
      "cell_type": "markdown",
      "metadata": {
        "id": "l7__NN3uujRK"
      },
      "source": [
        "### La función ```np.reshape()```.\n",
        "\n",
        "La función ```np.reshape()``` tiene la misma funcionalidad que el método `ndarray.reshape()`.\n",
        "\n",
        "```\n",
        "np.reshape(<arreglo>, <forma>)\n",
        "```\n",
        "\n",
        "* ```<arreglo>``` es un arreglo de *Numpy*.\n",
        "* ```<forma>``` es un un objeto de tipo ```tuple``` que describe la forma del arreglo resultante.\n",
        "\n",
        "https://numpy.org/devdocs/reference/generated/numpy.reshape.html\n"
      ]
    },
    {
      "cell_type": "code",
      "source": [
        "c = np.array([[1,2,3],[4,5,6],[6,7,8],[6,5,4,]])\n",
        "np.reshape(c, (2,2,3))"
      ],
      "metadata": {
        "colab": {
          "base_uri": "https://localhost:8080/"
        },
        "id": "t2Cj5tSHSPKF",
        "outputId": "fc436489-b80b-471b-9f55-a82c3b49b762"
      },
      "execution_count": 55,
      "outputs": [
        {
          "output_type": "execute_result",
          "data": {
            "text/plain": [
              "array([[[1, 2, 3],\n",
              "        [4, 5, 6]],\n",
              "\n",
              "       [[6, 7, 8],\n",
              "        [6, 5, 4]]])"
            ]
          },
          "metadata": {},
          "execution_count": 55
        }
      ]
    },
    {
      "cell_type": "markdown",
      "metadata": {
        "id": "8os7JB8wujRZ"
      },
      "source": [
        "## Modificación de la forma y tamaño de un arreglo.\n",
        "\n",
        "Existen dos maneras de **modificar la forma y el tamaño**:\n",
        "\n",
        "- El método ```np.ndarray.resize()```\n",
        "- La función ```np.resize()```"
      ]
    },
    {
      "cell_type": "markdown",
      "metadata": {
        "id": "Sb4PCTEjujRa"
      },
      "source": [
        "### El método ```resize()```.\n",
        "\n",
        "El método ```np.ndarray.resize()``` cambia la forma y el tamaño (si así fuese el caso) del arreglo.\n",
        "\n",
        "- En caso de que las nuevas dimensiones sean menores al tamaño original, se recortarán los últimos de ellos.\n",
        "\n",
        "- En caso de que las nuevas dimensiones sean mayores al tamaño original, los elementos faltantes serán sustituidos por una secuencia de ```0```.\n",
        "```\n",
        "<array-np>.resize(<forma>)\n",
        "```\n",
        "\n",
        "* ```<forma>``` es un objeto de tipo ```tuple``` que describe la nueva forma del arreglo resultante.\n",
        "\n",
        "https://numpy.org/devdocs/reference/generated/numpy.ndarray.resize.html\n"
      ]
    },
    {
      "cell_type": "code",
      "source": [
        "d = np.array([[1, 2],\n",
        "              [3, 4]])\n",
        "print(f\"Antes:\\t {d.shape}\")\n",
        "\n",
        "d.resize((3,5))\n",
        "\n",
        "print(f\"Después: {d.shape}\")\n",
        "\n",
        "print(d)"
      ],
      "metadata": {
        "colab": {
          "base_uri": "https://localhost:8080/"
        },
        "id": "ap_RX4uQTdLQ",
        "outputId": "aaec22e1-9419-4df7-a550-6001807390c7"
      },
      "execution_count": 56,
      "outputs": [
        {
          "output_type": "stream",
          "name": "stdout",
          "text": [
            "Antes:\t (2, 2)\n",
            "Después: (3, 5)\n",
            "[[1 2 3 4 0]\n",
            " [0 0 0 0 0]\n",
            " [0 0 0 0 0]]\n"
          ]
        }
      ]
    },
    {
      "cell_type": "markdown",
      "source": [
        "**Nota**: Si se intenta invocar al método `resize()` desde otro bloque de código, se genera un error `ValueError: cannot resize an array that references or is referenced\n",
        "by another array in this way.`"
      ],
      "metadata": {
        "id": "OPPN5p4vo_ad"
      }
    },
    {
      "cell_type": "code",
      "source": [
        "# Redimensionar el array\n",
        "d.resize((3, 3, 2))"
      ],
      "metadata": {
        "id": "MnCRLxJMTx1q"
      },
      "execution_count": 57,
      "outputs": []
    },
    {
      "cell_type": "markdown",
      "metadata": {
        "id": "t3eF1pQjujRj"
      },
      "source": [
        "### La función ```np.resize()```.\n",
        "\n",
        "**Retorna un nuevo arreglo** a partir del arreglo que se ingrese como primer argumento, con la forma que se ingrese como segundo argumento.\n",
        "\n",
        "```\n",
        "np.resize(<array-np>, <forma>)\n",
        "```\n",
        "\n",
        "* ```<forma>``` es un objeto de tipo ```tuple``` que describe la nueva forma del arreglo resultante.\n",
        "\n",
        "**Consideraciones**:\n",
        "\n",
        "- En caso de que las nuevas dimensiones sean menores a tamaño original, **se recortarán los últimos** de ellos.\n",
        "\n",
        "- En caso de que las nuevas dimensiones sean mayores al tamaño original, los elementos faltantes **serán sustituidos por una secuencia iterativa de los elementos contenidos en el arreglo original**.\n",
        "\n",
        "https://numpy.org/devdocs/reference/generated/numpy.resize.html"
      ]
    },
    {
      "cell_type": "code",
      "source": [
        "d = np.array([[1, 2],\n",
        "              [3, 4]])\n",
        "\n",
        "d.shape"
      ],
      "metadata": {
        "colab": {
          "base_uri": "https://localhost:8080/"
        },
        "id": "ciG7yhfiS1-l",
        "outputId": "21277c58-5d10-4848-de09-6a3fdc226ff1"
      },
      "execution_count": 58,
      "outputs": [
        {
          "output_type": "execute_result",
          "data": {
            "text/plain": [
              "(2, 2)"
            ]
          },
          "metadata": {},
          "execution_count": 58
        }
      ]
    },
    {
      "cell_type": "code",
      "source": [
        "# Redimensionar la forma y tamaño\n",
        "d_resize = np.resize(d, (2, 4))\n",
        "d_resize.shape\n"
      ],
      "metadata": {
        "colab": {
          "base_uri": "https://localhost:8080/"
        },
        "id": "vs16Kno2S7tb",
        "outputId": "6734b98f-a707-49ef-c4f3-9d5fb64a95d8"
      },
      "execution_count": 59,
      "outputs": [
        {
          "output_type": "execute_result",
          "data": {
            "text/plain": [
              "(2, 4)"
            ]
          },
          "metadata": {},
          "execution_count": 59
        }
      ]
    },
    {
      "cell_type": "code",
      "source": [
        "# Verificamos sus elementos\n",
        "d_resize"
      ],
      "metadata": {
        "colab": {
          "base_uri": "https://localhost:8080/"
        },
        "id": "betL2eFUVE7F",
        "outputId": "ac3aecd6-2907-4f0f-ddd1-dcc8ce909843"
      },
      "execution_count": 60,
      "outputs": [
        {
          "output_type": "execute_result",
          "data": {
            "text/plain": [
              "array([[1, 2, 3, 4],\n",
              "       [1, 2, 3, 4]])"
            ]
          },
          "metadata": {},
          "execution_count": 60
        }
      ]
    },
    {
      "cell_type": "code",
      "source": [
        "# El array original no es afectado\n",
        "d"
      ],
      "metadata": {
        "colab": {
          "base_uri": "https://localhost:8080/"
        },
        "id": "a1gKAinkTTJz",
        "outputId": "ee629b8d-9c45-403a-b7ea-006d449711e9"
      },
      "execution_count": 61,
      "outputs": [
        {
          "output_type": "execute_result",
          "data": {
            "text/plain": [
              "array([[1, 2],\n",
              "       [3, 4]])"
            ]
          },
          "metadata": {},
          "execution_count": 61
        }
      ]
    },
    {
      "cell_type": "markdown",
      "metadata": {
        "id": "2DLoHTXiujTc"
      },
      "source": [
        "## Transformaciones de arreglos a partir de sus ejes."
      ]
    },
    {
      "cell_type": "markdown",
      "metadata": {
        "id": "-pX2D-pVujTe"
      },
      "source": [
        "### Ejes de los arreglos de *Numpy*.\n",
        "\n",
        "En la terminología de *Numpy*, a cada dimensión de un arreglo le corresponde un número entero, a cada uno de estos enteros se le conoce como eje (axis).\n",
        "\n",
        "A partir de lo anterior:\n",
        "* Un arreglo unidimensional tiene al eje ```0```.\n",
        "* Un arreglo bidimensional tiene a los ejes ```0``` y ```1```.\n",
        "* Un arreglo tridimiensional tiene a los ejes ```0```, ```1``` y ```2```.\n",
        "* Así sucesivamente."
      ]
    },
    {
      "cell_type": "markdown",
      "metadata": {
        "id": "zRXFEs7jujTg"
      },
      "source": [
        "### El método ```transpose()```.\n",
        "\n",
        "Retorna un nuevo array con los ejes transpuestos (*reubicados*).\n",
        "\n",
        "```\n",
        "<array-np>.transpose(<ejes>)\n",
        "```\n",
        "- `<ejes>` Es una tupla para indicar cada eje que será transpuesto. *Por defecto* se invierte el orden. p.e. un array de forma `(2,4,1)` será traspuesto a `(1,4,2)`\n",
        "\n",
        "> **Recordar** que cada eje se representa con un número: `0` para la primera dimensión, `1` para la segunda y así sucesivamente.\n"
      ]
    },
    {
      "cell_type": "code",
      "source": [
        "a = np.array([[[1,  2,  3,  4],\n",
        "               [5,  6,  7,  8],\n",
        "               [9, 10, 11, 12]]])\n",
        "a.shape"
      ],
      "metadata": {
        "colab": {
          "base_uri": "https://localhost:8080/"
        },
        "id": "1xhxADs81lE8",
        "outputId": "e4c04ea9-a37d-4482-ad2a-f0967c0b3623"
      },
      "execution_count": 62,
      "outputs": [
        {
          "output_type": "execute_result",
          "data": {
            "text/plain": [
              "(1, 3, 4)"
            ]
          },
          "metadata": {},
          "execution_count": 62
        }
      ]
    },
    {
      "cell_type": "code",
      "source": [
        "# Transposición por defecto\n",
        "a_t = a.transpose()\n",
        "a_t.shape"
      ],
      "metadata": {
        "colab": {
          "base_uri": "https://localhost:8080/"
        },
        "id": "NLO768a3379_",
        "outputId": "8f1d5da4-5b54-4924-d761-4bc645e01a60"
      },
      "execution_count": 63,
      "outputs": [
        {
          "output_type": "execute_result",
          "data": {
            "text/plain": [
              "(4, 3, 1)"
            ]
          },
          "metadata": {},
          "execution_count": 63
        }
      ]
    },
    {
      "cell_type": "code",
      "source": [
        "# El array original no cambia\n",
        "a.shape"
      ],
      "metadata": {
        "colab": {
          "base_uri": "https://localhost:8080/"
        },
        "id": "3zFqd-Ab45Wk",
        "outputId": "d9b271c5-28e7-4c6a-c7b6-a573291fc67a"
      },
      "execution_count": 64,
      "outputs": [
        {
          "output_type": "execute_result",
          "data": {
            "text/plain": [
              "(1, 3, 4)"
            ]
          },
          "metadata": {},
          "execution_count": 64
        }
      ]
    },
    {
      "cell_type": "code",
      "source": [
        "# Ejemplo 2: Realizar una transposicion arbitraria\n",
        "a_t2 = a.transpose( (1,0,2) )\n",
        "a_t2.shape"
      ],
      "metadata": {
        "colab": {
          "base_uri": "https://localhost:8080/"
        },
        "id": "N1afqzGa5C89",
        "outputId": "b837b82c-7ffa-4edc-83df-09ca55263d04"
      },
      "execution_count": 65,
      "outputs": [
        {
          "output_type": "execute_result",
          "data": {
            "text/plain": [
              "(3, 1, 4)"
            ]
          },
          "metadata": {},
          "execution_count": 65
        }
      ]
    },
    {
      "cell_type": "code",
      "source": [
        "a_t2"
      ],
      "metadata": {
        "colab": {
          "base_uri": "https://localhost:8080/"
        },
        "id": "C2RCAC1x6Wqo",
        "outputId": "d348bd05-625d-4e78-d31b-ab02bd58b15d"
      },
      "execution_count": 66,
      "outputs": [
        {
          "output_type": "execute_result",
          "data": {
            "text/plain": [
              "array([[[ 1,  2,  3,  4]],\n",
              "\n",
              "       [[ 5,  6,  7,  8]],\n",
              "\n",
              "       [[ 9, 10, 11, 12]]])"
            ]
          },
          "metadata": {},
          "execution_count": 66
        }
      ]
    },
    {
      "cell_type": "markdown",
      "source": [
        "### El atributo `ndarray.T`\n",
        "\n",
        "Es la misma funcionalidad del método `ndarray.transpose()` *sin argumentos*\n",
        "\n",
        "\n",
        "\n",
        "```\n",
        "<array-np>.T\n",
        "```\n",
        "\n"
      ],
      "metadata": {
        "id": "lWPezZv7-LYu"
      }
    },
    {
      "cell_type": "code",
      "source": [
        "# Ejemplo\n",
        "b = np.array([[1,2],\n",
        "              [3,4]])\n",
        "b.T"
      ],
      "metadata": {
        "colab": {
          "base_uri": "https://localhost:8080/"
        },
        "id": "bar8jiAB-Bz5",
        "outputId": "f0588486-a27d-429d-d435-cb9d07d536c7"
      },
      "execution_count": 67,
      "outputs": [
        {
          "output_type": "execute_result",
          "data": {
            "text/plain": [
              "array([[1, 3],\n",
              "       [2, 4]])"
            ]
          },
          "metadata": {},
          "execution_count": 67
        }
      ]
    },
    {
      "cell_type": "markdown",
      "source": [
        "### La función ```np.transpose()```\n",
        "\n",
        "La función ```np.transpose()``` tiene la misma funcionalidad que el *método transpose*.\n",
        "\n",
        "```\n",
        "np.transpose(<array-np>, (<ejes>))\n",
        "```\n",
        "\n",
        "- `(<ejes>)` Es una tupla para indicar cada eje que será transpuesto. *Por defecto* se invierte el orden. p.e. un array de forma `(2,4,1)` será traspuesto a `(1,4,2)`\n",
        "\n",
        "> **Recordar** que cada eje se representa con un número: `0` para la primera dimensión, `1` para la segunda y así sucesivamente."
      ],
      "metadata": {
        "id": "NjvuXBp71cd1"
      }
    },
    {
      "cell_type": "code",
      "execution_count": 68,
      "metadata": {
        "id": "KsPT1JLnujTm",
        "colab": {
          "base_uri": "https://localhost:8080/"
        },
        "outputId": "bc070771-88c0-40d3-bafe-139245ad4841"
      },
      "outputs": [
        {
          "output_type": "execute_result",
          "data": {
            "text/plain": [
              "(3, 3)"
            ]
          },
          "metadata": {},
          "execution_count": 68
        }
      ],
      "source": [
        "c = np.array([[1, 2, 3],\n",
        "              [4, 5, 6],\n",
        "              [7, 8, 9]])\n",
        "c.shape"
      ]
    },
    {
      "cell_type": "code",
      "execution_count": 69,
      "metadata": {
        "id": "lQFPPqy3ujTn",
        "colab": {
          "base_uri": "https://localhost:8080/"
        },
        "outputId": "13b71a99-d81e-4aa5-a60f-e9a32a5a2d43"
      },
      "outputs": [
        {
          "output_type": "execute_result",
          "data": {
            "text/plain": [
              "array([[1, 4, 7],\n",
              "       [2, 5, 8],\n",
              "       [3, 6, 9]])"
            ]
          },
          "metadata": {},
          "execution_count": 69
        }
      ],
      "source": [
        "# Trasposición por defecto\n",
        "np.transpose(c)"
      ]
    },
    {
      "cell_type": "code",
      "source": [
        "# Ejemplo 2: trasposición personalizada\n",
        "d = np.arange(12).reshape((2,2,3))\n",
        "d"
      ],
      "metadata": {
        "colab": {
          "base_uri": "https://localhost:8080/"
        },
        "id": "ye2aWGK38PwN",
        "outputId": "915f7c0e-2c29-4b84-e8e2-509cdab38391"
      },
      "execution_count": 70,
      "outputs": [
        {
          "output_type": "execute_result",
          "data": {
            "text/plain": [
              "array([[[ 0,  1,  2],\n",
              "        [ 3,  4,  5]],\n",
              "\n",
              "       [[ 6,  7,  8],\n",
              "        [ 9, 10, 11]]])"
            ]
          },
          "metadata": {},
          "execution_count": 70
        }
      ]
    },
    {
      "cell_type": "code",
      "source": [
        "print(np.transpose(d, (0,2,1)))\n",
        "print(f\"shape:\\t{np.transpose(d, (0,2,1)).shape}\")"
      ],
      "metadata": {
        "colab": {
          "base_uri": "https://localhost:8080/"
        },
        "id": "79d-1TcG9Flm",
        "outputId": "fa346717-d692-4403-8a2e-4351256d6e42"
      },
      "execution_count": 71,
      "outputs": [
        {
          "output_type": "stream",
          "name": "stdout",
          "text": [
            "[[[ 0  3]\n",
            "  [ 1  4]\n",
            "  [ 2  5]]\n",
            "\n",
            " [[ 6  9]\n",
            "  [ 7 10]\n",
            "  [ 8 11]]]\n",
            "shape:\t(2, 3, 2)\n"
          ]
        }
      ]
    },
    {
      "cell_type": "markdown",
      "metadata": {
        "id": "HF3a1ucYujUD"
      },
      "source": [
        "### La función ```np.rollaxis()```.\n",
        "\n",
        "Retorna un nuevo arreglo que tiene **uno de sus ejes trasladado** a otra posición\n",
        "\n",
        "\n",
        "```\n",
        "np.rollaxis(<array-np>, <eje>, start=0)\n",
        "```\n",
        "\n",
        "- `<eje>` Se indica el eje que será reubicado\n",
        "- `start` Indica la posición a la que se reubicará al *eje*. *Por defecto* es `0`\n"
      ]
    },
    {
      "cell_type": "code",
      "source": [
        "e = np.array([[[ 0,  1,  2], [ 3,  4,  5]],\n",
        "              [[ 6,  7,  8], [ 9, 10, 11]]])\n",
        "e.shape"
      ],
      "metadata": {
        "colab": {
          "base_uri": "https://localhost:8080/"
        },
        "id": "D5jWV6318Ixq",
        "outputId": "4f6345b9-f6b5-4ad6-e2e9-fc93b5f533d3"
      },
      "execution_count": 72,
      "outputs": [
        {
          "output_type": "execute_result",
          "data": {
            "text/plain": [
              "(2, 2, 3)"
            ]
          },
          "metadata": {},
          "execution_count": 72
        }
      ]
    },
    {
      "cell_type": "code",
      "source": [
        "# Mover el 3er eje a la 1ra posición\n",
        "e_ra = np.rollaxis(e, 2)\n",
        "# Por defecto lo mueve al principio\n",
        "e_ra.shape"
      ],
      "metadata": {
        "colab": {
          "base_uri": "https://localhost:8080/"
        },
        "id": "L0Xsz0JJ8s50",
        "outputId": "40d59e6e-2754-4e60-b1f5-becc93a2774b"
      },
      "execution_count": 73,
      "outputs": [
        {
          "output_type": "execute_result",
          "data": {
            "text/plain": [
              "(3, 2, 2)"
            ]
          },
          "metadata": {},
          "execution_count": 73
        }
      ]
    },
    {
      "cell_type": "code",
      "source": [
        "# Mover el 3er eje a la 2da posición\n",
        "e_ra2 = np.rollaxis(e, 2, 1)\n",
        "e_ra2.shape"
      ],
      "metadata": {
        "colab": {
          "base_uri": "https://localhost:8080/"
        },
        "id": "mDsJTdCP9NWi",
        "outputId": "89f2b3ea-fa9d-423a-cb5d-58df94d97300"
      },
      "execution_count": 74,
      "outputs": [
        {
          "output_type": "execute_result",
          "data": {
            "text/plain": [
              "(2, 3, 2)"
            ]
          },
          "metadata": {},
          "execution_count": 74
        }
      ]
    },
    {
      "cell_type": "markdown",
      "metadata": {
        "id": "H5TlCn1PujUX"
      },
      "source": [
        "## Modificación de dimensiones de arreglos."
      ]
    },
    {
      "cell_type": "markdown",
      "metadata": {
        "id": "tu-n1SIDujUZ"
      },
      "source": [
        "### La función ```np.expand_dims()```.\n",
        "\n",
        "Esta función añade un nuevo eje a un array *Numpy*\n",
        "\n",
        "```\n",
        "np.expand_dims(<array-np>, <eje>)\n",
        "```\n",
        "\n",
        "Donde:\n",
        "\n",
        "* ```<eje>``` indica el índice de la dimensión (eje) donde se ubicará el nuevo eje."
      ]
    },
    {
      "cell_type": "code",
      "source": [
        "a = np.array([1,2,3])\n",
        "a.shape"
      ],
      "metadata": {
        "colab": {
          "base_uri": "https://localhost:8080/"
        },
        "id": "S5wlewDfLu94",
        "outputId": "e2ef443a-8b27-4162-c26e-d3e356762d71"
      },
      "execution_count": 75,
      "outputs": [
        {
          "output_type": "execute_result",
          "data": {
            "text/plain": [
              "(3,)"
            ]
          },
          "metadata": {},
          "execution_count": 75
        }
      ]
    },
    {
      "cell_type": "code",
      "source": [
        "# Añadir un nuevo eje en la primera posición\n",
        "a_exp = np.expand_dims(a, 0)\n",
        "a_exp.shape"
      ],
      "metadata": {
        "colab": {
          "base_uri": "https://localhost:8080/"
        },
        "id": "jnXBESByL3f6",
        "outputId": "520bf0a7-2f52-4f8f-f2e0-64265ca35ef7"
      },
      "execution_count": 76,
      "outputs": [
        {
          "output_type": "execute_result",
          "data": {
            "text/plain": [
              "(1, 3)"
            ]
          },
          "metadata": {},
          "execution_count": 76
        }
      ]
    },
    {
      "cell_type": "code",
      "source": [
        "a_exp"
      ],
      "metadata": {
        "colab": {
          "base_uri": "https://localhost:8080/"
        },
        "id": "w5u6ZlnmMPnA",
        "outputId": "eee6864f-931d-49f5-d71e-535cd5a803a1"
      },
      "execution_count": 77,
      "outputs": [
        {
          "output_type": "execute_result",
          "data": {
            "text/plain": [
              "array([[1, 2, 3]])"
            ]
          },
          "metadata": {},
          "execution_count": 77
        }
      ]
    },
    {
      "cell_type": "code",
      "source": [
        "# Añadir un nuevo eje en la segunda posicón\n",
        "a_exp2 = np.expand_dims(a, 1)\n",
        "a_exp2.shape"
      ],
      "metadata": {
        "colab": {
          "base_uri": "https://localhost:8080/"
        },
        "id": "lOwPDvEVMUAi",
        "outputId": "1f1c3feb-5aa4-4705-d75e-f3f683ead21d"
      },
      "execution_count": 78,
      "outputs": [
        {
          "output_type": "execute_result",
          "data": {
            "text/plain": [
              "(3, 1)"
            ]
          },
          "metadata": {},
          "execution_count": 78
        }
      ]
    },
    {
      "cell_type": "code",
      "source": [
        "a_exp2"
      ],
      "metadata": {
        "colab": {
          "base_uri": "https://localhost:8080/"
        },
        "id": "NR5zrOcVMlZG",
        "outputId": "9ccbdb87-32f2-4363-ab49-91f033fab6b7"
      },
      "execution_count": 79,
      "outputs": [
        {
          "output_type": "execute_result",
          "data": {
            "text/plain": [
              "array([[1],\n",
              "       [2],\n",
              "       [3]])"
            ]
          },
          "metadata": {},
          "execution_count": 79
        }
      ]
    },
    {
      "cell_type": "markdown",
      "metadata": {
        "id": "JduLBJOnujUm"
      },
      "source": [
        "### La función ```np.squeeze()```.\n",
        "\n",
        "Esta función eliminará una dimensión de un array *NumPy*.\n",
        "\n",
        "```\n",
        "np.squeeze(<array-np>, <eje>)\n",
        "```\n",
        "\n",
        "* ```<eje>``` indica el índice de la dimensión que será eliminada.\n",
        "\n",
        "**Importante**: Solo se puede eliminar eje que tiene un elemento.\n"
      ]
    },
    {
      "cell_type": "code",
      "source": [
        "b = np.arange(9).reshape(3, 1, 3)\n",
        "b"
      ],
      "metadata": {
        "colab": {
          "base_uri": "https://localhost:8080/"
        },
        "id": "qRHlcqa_NL7H",
        "outputId": "82def19b-24ef-4878-eb9e-df3077f357e9"
      },
      "execution_count": 80,
      "outputs": [
        {
          "output_type": "execute_result",
          "data": {
            "text/plain": [
              "array([[[0, 1, 2]],\n",
              "\n",
              "       [[3, 4, 5]],\n",
              "\n",
              "       [[6, 7, 8]]])"
            ]
          },
          "metadata": {},
          "execution_count": 80
        }
      ]
    },
    {
      "cell_type": "code",
      "source": [
        "# Eliminar el segundo eje\n",
        "b_sq = np.squeeze(b, 1)\n",
        "b_sq.shape"
      ],
      "metadata": {
        "colab": {
          "base_uri": "https://localhost:8080/"
        },
        "id": "oeOes2_bNX56",
        "outputId": "a32e950c-dea5-43dd-a7f9-805d352715b3"
      },
      "execution_count": 81,
      "outputs": [
        {
          "output_type": "execute_result",
          "data": {
            "text/plain": [
              "(3, 3)"
            ]
          },
          "metadata": {},
          "execution_count": 81
        }
      ]
    },
    {
      "cell_type": "code",
      "source": [
        "b_sq"
      ],
      "metadata": {
        "colab": {
          "base_uri": "https://localhost:8080/"
        },
        "id": "wtL9PnHyNqY6",
        "outputId": "e3da54f6-d334-4c5e-c580-6da7e7e60324"
      },
      "execution_count": 82,
      "outputs": [
        {
          "output_type": "execute_result",
          "data": {
            "text/plain": [
              "array([[0, 1, 2],\n",
              "       [3, 4, 5],\n",
              "       [6, 7, 8]])"
            ]
          },
          "metadata": {},
          "execution_count": 82
        }
      ]
    },
    {
      "cell_type": "code",
      "source": [
        "# Eliminar el primer eje lanzará error por que tiene 3 elementos\n",
        "np.squeeze(b, 0)"
      ],
      "metadata": {
        "colab": {
          "base_uri": "https://localhost:8080/",
          "height": 280
        },
        "id": "60152AWxN0XS",
        "outputId": "3de378cd-a84b-46ca-97cb-d1343d1a17ec"
      },
      "execution_count": 83,
      "outputs": [
        {
          "output_type": "error",
          "ename": "ValueError",
          "evalue": "cannot select an axis to squeeze out which has size not equal to one",
          "traceback": [
            "\u001b[0;31m---------------------------------------------------------------------------\u001b[0m",
            "\u001b[0;31mValueError\u001b[0m                                Traceback (most recent call last)",
            "\u001b[0;32m<ipython-input-83-7221d997fda3>\u001b[0m in \u001b[0;36m<cell line: 0>\u001b[0;34m()\u001b[0m\n\u001b[1;32m      1\u001b[0m \u001b[0;31m# Eliminar el primer eje lanzará error por que tiene 3 elementos\u001b[0m\u001b[0;34m\u001b[0m\u001b[0;34m\u001b[0m\u001b[0m\n\u001b[0;32m----> 2\u001b[0;31m \u001b[0mnp\u001b[0m\u001b[0;34m.\u001b[0m\u001b[0msqueeze\u001b[0m\u001b[0;34m(\u001b[0m\u001b[0mb\u001b[0m\u001b[0;34m,\u001b[0m \u001b[0;36m0\u001b[0m\u001b[0;34m)\u001b[0m\u001b[0;34m\u001b[0m\u001b[0;34m\u001b[0m\u001b[0m\n\u001b[0m",
            "\u001b[0;32m/usr/local/lib/python3.11/dist-packages/numpy/_core/fromnumeric.py\u001b[0m in \u001b[0;36msqueeze\u001b[0;34m(a, axis)\u001b[0m\n\u001b[1;32m   1630\u001b[0m         \u001b[0;32mreturn\u001b[0m \u001b[0msqueeze\u001b[0m\u001b[0;34m(\u001b[0m\u001b[0;34m)\u001b[0m\u001b[0;34m\u001b[0m\u001b[0;34m\u001b[0m\u001b[0m\n\u001b[1;32m   1631\u001b[0m     \u001b[0;32melse\u001b[0m\u001b[0;34m:\u001b[0m\u001b[0;34m\u001b[0m\u001b[0;34m\u001b[0m\u001b[0m\n\u001b[0;32m-> 1632\u001b[0;31m         \u001b[0;32mreturn\u001b[0m \u001b[0msqueeze\u001b[0m\u001b[0;34m(\u001b[0m\u001b[0maxis\u001b[0m\u001b[0;34m=\u001b[0m\u001b[0maxis\u001b[0m\u001b[0;34m)\u001b[0m\u001b[0;34m\u001b[0m\u001b[0;34m\u001b[0m\u001b[0m\n\u001b[0m\u001b[1;32m   1633\u001b[0m \u001b[0;34m\u001b[0m\u001b[0m\n\u001b[1;32m   1634\u001b[0m \u001b[0;34m\u001b[0m\u001b[0m\n",
            "\u001b[0;31mValueError\u001b[0m: cannot select an axis to squeeze out which has size not equal to one"
          ]
        }
      ]
    },
    {
      "cell_type": "markdown",
      "metadata": {
        "id": "QhcH9SV9ujUu"
      },
      "source": [
        "## Adición y eliminación de elementos a arreglos."
      ]
    },
    {
      "cell_type": "markdown",
      "metadata": {
        "id": "r4DzHiUrujUw"
      },
      "source": [
        "### La función ```np.concatenate()```.\n",
        "\n",
        "Une varios arreglos en un eje determinado.\n",
        "\n",
        "```\n",
        "np.concatenate( (<a1>, <a2>, ...), <eje>)\n",
        "```\n",
        "- `(<a1>, <a2>, ...)` **una colección** (p.e. tupla) d**e arreglos**, los arreglos deben tener la misma forma, excepto (opcional) en el `<eje>` afectado.\n",
        "- `<eje>` **indice de la dimensión** en donde se realizará la operación. *Por defecto es `0`*"
      ]
    },
    {
      "cell_type": "code",
      "source": [
        "a = np.array([[1, 2],\n",
        "              [3, 4]])\n",
        "print(f\"forma del array 'a':\\t{a.shape}\")\n",
        "\n",
        "b = np.array([[5,6]])\n",
        "print(f\"forma del array 'b':\\t{b.shape}\")"
      ],
      "metadata": {
        "colab": {
          "base_uri": "https://localhost:8080/"
        },
        "id": "jvYDjbyZSy-7",
        "outputId": "37326790-ba55-48a3-b4a8-39f374dadb69"
      },
      "execution_count": 118,
      "outputs": [
        {
          "output_type": "stream",
          "name": "stdout",
          "text": [
            "forma del array 'a':\t(2, 2)\n",
            "forma del array 'b':\t(1, 2)\n"
          ]
        }
      ]
    },
    {
      "cell_type": "code",
      "source": [
        "# Concatenar los arrays a y b\n",
        "np.concatenate((a,b)) # equivalente a np.concatenate((a,b), 0)"
      ],
      "metadata": {
        "colab": {
          "base_uri": "https://localhost:8080/"
        },
        "id": "SPmAQfVhTf1B",
        "outputId": "07579398-fe83-4397-cb31-894c381d7b18"
      },
      "execution_count": 126,
      "outputs": [
        {
          "output_type": "execute_result",
          "data": {
            "text/plain": [
              "array([[1, 2],\n",
              "       [3, 4],\n",
              "       [5, 6]])"
            ]
          },
          "metadata": {},
          "execution_count": 126
        }
      ]
    },
    {
      "cell_type": "code",
      "source": [
        "# Verificamos la forma resultante\n",
        "np.concatenate((a,b)).shape"
      ],
      "metadata": {
        "colab": {
          "base_uri": "https://localhost:8080/"
        },
        "id": "6fiA-8X3SeOr",
        "outputId": "dccd5fce-3a95-4745-8018-6a50a59cd37b"
      },
      "execution_count": 127,
      "outputs": [
        {
          "output_type": "execute_result",
          "data": {
            "text/plain": [
              "(3, 2)"
            ]
          },
          "metadata": {},
          "execution_count": 127
        }
      ]
    },
    {
      "cell_type": "code",
      "source": [
        "# Ejemplo 2\n",
        "c = np.array([[[1, 2],\n",
        "               [3, 4]],\n",
        "\n",
        "              [[1, 1],\n",
        "               [1, 1]]])\n",
        "print(f\"forma del array 'c':\\t{c.shape}\")\n",
        "\n",
        "d = np.array([[[5],\n",
        "               [6]],\n",
        "\n",
        "              [[7],\n",
        "               [8]]])\n",
        "print(f\"forma del array 'd':\\t{d.shape}\")"
      ],
      "metadata": {
        "colab": {
          "base_uri": "https://localhost:8080/"
        },
        "id": "HmDuii6uUHKd",
        "outputId": "b4487d6b-5e3c-4d90-afc1-c969fb3a6b94"
      },
      "execution_count": 121,
      "outputs": [
        {
          "output_type": "stream",
          "name": "stdout",
          "text": [
            "forma del array 'c':\t(2, 2, 2)\n",
            "forma del array 'd':\t(2, 2, 1)\n"
          ]
        }
      ]
    },
    {
      "cell_type": "code",
      "source": [
        "# Unir los arrays c y d\n",
        "np.concatenate((c,d), 2)"
      ],
      "metadata": {
        "colab": {
          "base_uri": "https://localhost:8080/"
        },
        "id": "NmTn3ZsOUYV7",
        "outputId": "4130497e-a4bb-464e-b89e-f844c7576e10"
      },
      "execution_count": 122,
      "outputs": [
        {
          "output_type": "execute_result",
          "data": {
            "text/plain": [
              "array([[[1, 2, 5],\n",
              "        [3, 4, 6]],\n",
              "\n",
              "       [[1, 1, 7],\n",
              "        [1, 1, 8]]])"
            ]
          },
          "metadata": {},
          "execution_count": 122
        }
      ]
    },
    {
      "cell_type": "code",
      "source": [
        "# Verificamos la forma resultante\n",
        "np.concatenate((c,d), 2).shape"
      ],
      "metadata": {
        "colab": {
          "base_uri": "https://localhost:8080/"
        },
        "id": "kOG208uQR1cA",
        "outputId": "6eee54b2-e866-4f6c-eb64-0496bb683744"
      },
      "execution_count": 125,
      "outputs": [
        {
          "output_type": "execute_result",
          "data": {
            "text/plain": [
              "(2, 2, 3)"
            ]
          },
          "metadata": {},
          "execution_count": 125
        }
      ]
    },
    {
      "cell_type": "markdown",
      "metadata": {
        "id": "wAIFLMaaujVN"
      },
      "source": [
        "### La función ```np.append()```.\n",
        "\n",
        "Retorna un nuevo array, al cual se le añadieron elementos al final de un array *Numpy*\n",
        "\n",
        "\n",
        "```\n",
        "np.append(<a-np-1>, <a-np-2>, axis=<eje>)\n",
        "```\n",
        "\n",
        "- `<a-np-1>` Array al que se le añadirá elementos\n",
        "- `<a-np-2>` Array del cual se obtendrán los elementos que se añadirán al array `<a-np-1>`. Este array debe tener la misma forma que `<a-np-1>` excepto en la dimensión correspondiente a `<eje>`.\n",
        "* ```<eje>``` El eje en el que se hará la inserción.\n",
        "\n",
        "**Importante**: Si no especifica el valore del `<eje>`, el **resultado será un array plano**."
      ]
    },
    {
      "cell_type": "code",
      "source": [
        "a = np.array([[1,2],[3,4]])\n",
        "b = np.array([5,6])\n",
        "\n",
        "a.shape"
      ],
      "metadata": {
        "colab": {
          "base_uri": "https://localhost:8080/"
        },
        "id": "zAGlXdfxf3w0",
        "outputId": "6de081f5-ad8d-4533-d429-7b65fbbea683"
      },
      "execution_count": 94,
      "outputs": [
        {
          "output_type": "execute_result",
          "data": {
            "text/plain": [
              "(2, 2)"
            ]
          },
          "metadata": {},
          "execution_count": 94
        }
      ]
    },
    {
      "cell_type": "code",
      "source": [
        "# Sin especificar el eje, resulta un array aplanado\n",
        "np.append(a, b)"
      ],
      "metadata": {
        "colab": {
          "base_uri": "https://localhost:8080/"
        },
        "id": "hFLW2_P8gI5B",
        "outputId": "087e2fa9-5dee-4b8e-85bc-1a396a0bcc00"
      },
      "execution_count": 95,
      "outputs": [
        {
          "output_type": "execute_result",
          "data": {
            "text/plain": [
              "array([1, 2, 3, 4, 5, 6])"
            ]
          },
          "metadata": {},
          "execution_count": 95
        }
      ]
    },
    {
      "cell_type": "code",
      "source": [
        "c = np.array([[7,8]])\n",
        "print(f\"shape de 'a':\\t{a.shape}\")\n",
        "print(f\"shape de 'c':\\t{c.shape}\")"
      ],
      "metadata": {
        "colab": {
          "base_uri": "https://localhost:8080/"
        },
        "id": "c4k9eYi_gvR0",
        "outputId": "6c71c5e0-89de-4c16-bbd9-5c4289abd231"
      },
      "execution_count": 96,
      "outputs": [
        {
          "output_type": "stream",
          "name": "stdout",
          "text": [
            "shape de 'a':\t(2, 2)\n",
            "shape de 'c':\t(1, 2)\n"
          ]
        }
      ]
    },
    {
      "cell_type": "code",
      "source": [
        "# añadir 'c' a 'a'\n",
        "np.append(a, c, axis=0)"
      ],
      "metadata": {
        "colab": {
          "base_uri": "https://localhost:8080/"
        },
        "id": "fjivhfq2hO6r",
        "outputId": "51dacdd7-394a-4fd3-e3b3-0b86c5af8364"
      },
      "execution_count": 97,
      "outputs": [
        {
          "output_type": "execute_result",
          "data": {
            "text/plain": [
              "array([[1, 2],\n",
              "       [3, 4],\n",
              "       [7, 8]])"
            ]
          },
          "metadata": {},
          "execution_count": 97
        }
      ]
    },
    {
      "cell_type": "code",
      "source": [
        "# Si intentamos añadir 'c' en 'a' por el eje equivocado, dará ERROR porque\n",
        "# no cumple con la restricción descrito en <a-np-2>\n",
        "np.append(a, c, axis=1)"
      ],
      "metadata": {
        "colab": {
          "base_uri": "https://localhost:8080/",
          "height": 314
        },
        "id": "gLQQ1utGhoiT",
        "outputId": "1c4d7b0c-61c9-4c5e-8995-bc6a6f8119ec"
      },
      "execution_count": 98,
      "outputs": [
        {
          "output_type": "error",
          "ename": "ValueError",
          "evalue": "all the input array dimensions except for the concatenation axis must match exactly, but along dimension 0, the array at index 0 has size 2 and the array at index 1 has size 1",
          "traceback": [
            "\u001b[0;31m---------------------------------------------------------------------------\u001b[0m",
            "\u001b[0;31mValueError\u001b[0m                                Traceback (most recent call last)",
            "\u001b[0;32m<ipython-input-98-1ca1ca2d9f94>\u001b[0m in \u001b[0;36m<cell line: 0>\u001b[0;34m()\u001b[0m\n\u001b[1;32m      1\u001b[0m \u001b[0;31m# Si intentamos añadir 'c' en 'a' por el eje equivocado, dará ERROR porque\u001b[0m\u001b[0;34m\u001b[0m\u001b[0;34m\u001b[0m\u001b[0m\n\u001b[1;32m      2\u001b[0m \u001b[0;31m# no cumple con la restricción descrito en <a-np-2>\u001b[0m\u001b[0;34m\u001b[0m\u001b[0;34m\u001b[0m\u001b[0m\n\u001b[0;32m----> 3\u001b[0;31m \u001b[0mnp\u001b[0m\u001b[0;34m.\u001b[0m\u001b[0mappend\u001b[0m\u001b[0;34m(\u001b[0m\u001b[0ma\u001b[0m\u001b[0;34m,\u001b[0m \u001b[0mc\u001b[0m\u001b[0;34m,\u001b[0m \u001b[0maxis\u001b[0m\u001b[0;34m=\u001b[0m\u001b[0;36m1\u001b[0m\u001b[0;34m)\u001b[0m\u001b[0;34m\u001b[0m\u001b[0;34m\u001b[0m\u001b[0m\n\u001b[0m",
            "\u001b[0;32m/usr/local/lib/python3.11/dist-packages/numpy/lib/_function_base_impl.py\u001b[0m in \u001b[0;36mappend\u001b[0;34m(arr, values, axis)\u001b[0m\n\u001b[1;32m   5819\u001b[0m         \u001b[0mvalues\u001b[0m \u001b[0;34m=\u001b[0m \u001b[0mravel\u001b[0m\u001b[0;34m(\u001b[0m\u001b[0mvalues\u001b[0m\u001b[0;34m)\u001b[0m\u001b[0;34m\u001b[0m\u001b[0;34m\u001b[0m\u001b[0m\n\u001b[1;32m   5820\u001b[0m         \u001b[0maxis\u001b[0m \u001b[0;34m=\u001b[0m \u001b[0marr\u001b[0m\u001b[0;34m.\u001b[0m\u001b[0mndim\u001b[0m\u001b[0;34m-\u001b[0m\u001b[0;36m1\u001b[0m\u001b[0;34m\u001b[0m\u001b[0;34m\u001b[0m\u001b[0m\n\u001b[0;32m-> 5821\u001b[0;31m     \u001b[0;32mreturn\u001b[0m \u001b[0mconcatenate\u001b[0m\u001b[0;34m(\u001b[0m\u001b[0;34m(\u001b[0m\u001b[0marr\u001b[0m\u001b[0;34m,\u001b[0m \u001b[0mvalues\u001b[0m\u001b[0;34m)\u001b[0m\u001b[0;34m,\u001b[0m \u001b[0maxis\u001b[0m\u001b[0;34m=\u001b[0m\u001b[0maxis\u001b[0m\u001b[0;34m)\u001b[0m\u001b[0;34m\u001b[0m\u001b[0;34m\u001b[0m\u001b[0m\n\u001b[0m\u001b[1;32m   5822\u001b[0m \u001b[0;34m\u001b[0m\u001b[0m\n\u001b[1;32m   5823\u001b[0m \u001b[0;34m\u001b[0m\u001b[0m\n",
            "\u001b[0;31mValueError\u001b[0m: all the input array dimensions except for the concatenation axis must match exactly, but along dimension 0, the array at index 0 has size 2 and the array at index 1 has size 1"
          ]
        }
      ]
    },
    {
      "cell_type": "markdown",
      "metadata": {
        "id": "UOFHJ7CdujWd"
      },
      "source": [
        "### La función ```np.insert()```.\n",
        "\n",
        "Inserta elementos a un arreglo en un eje indicado.\n",
        "\n",
        "```\n",
        "np.insert(<arr-np-1>, <posición>, <arr-np-2>, axis=<n>)\n",
        "```\n",
        "\n",
        "Donde:\n",
        "\n",
        "* ```<arr-np-1>``` es un arreglo que se utilizará como referencia para hacer las inserciones.\n",
        "* ```<posición>``` es un índice o un rango que indica dónde se hará la inserción.\n",
        "* ```<arr-np-2>``` el array que será insertado. Should be shaped so that `arr-np-1[...,posición,...] = <arr-np-2` is legal..\n",
        "* ```axis=<n>``` define el eje de referencia. En caso de no definirse, se regresará un arreglo aplanado."
      ]
    },
    {
      "cell_type": "code",
      "source": [
        "a = np.array([[1,2],[3,4]])\n",
        "b = np.array([7,8])\n",
        "\n",
        "print(f\"shape de 'a':\\t{a.shape}\")\n",
        "print(f\"shape de 'b':\\t{b.shape}\")"
      ],
      "metadata": {
        "colab": {
          "base_uri": "https://localhost:8080/"
        },
        "id": "rvMFH4NtknCW",
        "outputId": "bd7567b9-9a04-49c4-9eef-1ae5a82518a4"
      },
      "execution_count": 107,
      "outputs": [
        {
          "output_type": "stream",
          "name": "stdout",
          "text": [
            "shape de 'a':\t(2, 2)\n",
            "shape de 'b':\t(2,)\n"
          ]
        }
      ]
    },
    {
      "cell_type": "code",
      "source": [
        "# Insertar 'b' en 'a' en la segunda posición correspondiente a la primera dimensión\n",
        "np.insert(a, 1, b, axis=0)"
      ],
      "metadata": {
        "colab": {
          "base_uri": "https://localhost:8080/"
        },
        "id": "SpJV7lA6kyp1",
        "outputId": "f8f1abea-9cfc-4953-b7ae-023c3d975c68"
      },
      "execution_count": 108,
      "outputs": [
        {
          "output_type": "execute_result",
          "data": {
            "text/plain": [
              "array([[1, 2],\n",
              "       [7, 8],\n",
              "       [3, 4]])"
            ]
          },
          "metadata": {},
          "execution_count": 108
        }
      ]
    },
    {
      "cell_type": "code",
      "source": [
        "# Si no se especifica el axis, se aplanará el array\n",
        "np.insert(a, 1, b)"
      ],
      "metadata": {
        "colab": {
          "base_uri": "https://localhost:8080/"
        },
        "id": "Q-zYmrOdlT1G",
        "outputId": "5d6efd01-1b2c-41b0-cb98-fcbb2cc01016"
      },
      "execution_count": 109,
      "outputs": [
        {
          "output_type": "execute_result",
          "data": {
            "text/plain": [
              "array([1, 7, 8, 2, 3, 4])"
            ]
          },
          "metadata": {},
          "execution_count": 109
        }
      ]
    },
    {
      "cell_type": "markdown",
      "metadata": {
        "id": "lFQlMPR-ujW2"
      },
      "source": [
        "### La función ```np.delete()```"
      ]
    },
    {
      "cell_type": "code",
      "execution_count": 110,
      "metadata": {
        "id": "YQ2cP5g5ujW3"
      },
      "outputs": [],
      "source": [
        "numerico = np.arange(20).reshape(4, 5)"
      ]
    },
    {
      "cell_type": "code",
      "execution_count": 111,
      "metadata": {
        "id": "Tzsv8NOwujW5",
        "colab": {
          "base_uri": "https://localhost:8080/"
        },
        "outputId": "d88cf98b-e10d-47dc-e36d-2967f84a2f0e"
      },
      "outputs": [
        {
          "output_type": "execute_result",
          "data": {
            "text/plain": [
              "array([[ 0,  1,  2,  3,  4],\n",
              "       [ 5,  6,  7,  8,  9],\n",
              "       [10, 11, 12, 13, 14],\n",
              "       [15, 16, 17, 18, 19]])"
            ]
          },
          "metadata": {},
          "execution_count": 111
        }
      ],
      "source": [
        "numerico"
      ]
    },
    {
      "cell_type": "code",
      "execution_count": 112,
      "metadata": {
        "id": "2J0jsM_fujW7",
        "colab": {
          "base_uri": "https://localhost:8080/"
        },
        "outputId": "8eb09cf7-fd77-4db6-84c9-269dd71e7058"
      },
      "outputs": [
        {
          "output_type": "execute_result",
          "data": {
            "text/plain": [
              "array([ 0,  2,  3,  4,  5,  6,  7,  8,  9, 10, 11, 12, 13, 14, 15, 16, 17,\n",
              "       18, 19])"
            ]
          },
          "metadata": {},
          "execution_count": 112
        }
      ],
      "source": [
        "np.delete(numerico, 1)"
      ]
    },
    {
      "cell_type": "code",
      "execution_count": 113,
      "metadata": {
        "id": "Cw53rtIRujW9",
        "colab": {
          "base_uri": "https://localhost:8080/"
        },
        "outputId": "8ab62722-3192-44c4-c958-1e3c571a9e89"
      },
      "outputs": [
        {
          "output_type": "execute_result",
          "data": {
            "text/plain": [
              "array([[ 0,  1,  2,  3,  4],\n",
              "       [ 5,  6,  7,  8,  9],\n",
              "       [15, 16, 17, 18, 19]])"
            ]
          },
          "metadata": {},
          "execution_count": 113
        }
      ],
      "source": [
        "np.delete(numerico, 2, axis=0)"
      ]
    },
    {
      "cell_type": "code",
      "execution_count": 114,
      "metadata": {
        "id": "dRY0ICdSujW_",
        "colab": {
          "base_uri": "https://localhost:8080/"
        },
        "outputId": "8a16dba3-530b-45fc-905d-a19023238956"
      },
      "outputs": [
        {
          "output_type": "execute_result",
          "data": {
            "text/plain": [
              "array([[ 0,  1,  3,  4],\n",
              "       [ 5,  6,  8,  9],\n",
              "       [10, 11, 13, 14],\n",
              "       [15, 16, 18, 19]])"
            ]
          },
          "metadata": {},
          "execution_count": 114
        }
      ],
      "source": [
        "np.delete(numerico, 2, axis=1)"
      ]
    },
    {
      "cell_type": "code",
      "execution_count": 115,
      "metadata": {
        "id": "2JF4mJrVujXA",
        "colab": {
          "base_uri": "https://localhost:8080/"
        },
        "outputId": "dca24c4a-87e5-45f2-b3f8-063da6ae7e2e"
      },
      "outputs": [
        {
          "output_type": "execute_result",
          "data": {
            "text/plain": [
              "array([[ 1,  3],\n",
              "       [ 6,  8],\n",
              "       [11, 13],\n",
              "       [16, 18]])"
            ]
          },
          "metadata": {},
          "execution_count": 115
        }
      ],
      "source": [
        "np.delete(numerico, [0, 4, 2], axis=1)"
      ]
    },
    {
      "cell_type": "code",
      "execution_count": 116,
      "metadata": {
        "id": "m8yET_tXujXB",
        "colab": {
          "base_uri": "https://localhost:8080/"
        },
        "outputId": "fcafbce3-eda9-47f1-9442-9d1fc8102df7"
      },
      "outputs": [
        {
          "output_type": "execute_result",
          "data": {
            "text/plain": [
              "array([[ 0,  1,  2,  3,  4],\n",
              "       [15, 16, 17, 18, 19]])"
            ]
          },
          "metadata": {},
          "execution_count": 116
        }
      ],
      "source": [
        "np.delete(numerico, np.s_[1:3], axis=0)"
      ]
    }
  ],
  "metadata": {
    "kernelspec": {
      "display_name": "Python 3 (ipykernel)",
      "language": "python",
      "name": "python3"
    },
    "language_info": {
      "codemirror_mode": {
        "name": "ipython",
        "version": 3
      },
      "file_extension": ".py",
      "mimetype": "text/x-python",
      "name": "python",
      "nbconvert_exporter": "python",
      "pygments_lexer": "ipython3",
      "version": "3.9.7"
    },
    "colab": {
      "provenance": [],
      "toc_visible": true,
      "include_colab_link": true
    }
  },
  "nbformat": 4,
  "nbformat_minor": 0
}