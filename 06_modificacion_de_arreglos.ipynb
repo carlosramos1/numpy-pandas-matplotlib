{
  "cells": [
    {
      "cell_type": "markdown",
      "metadata": {
        "id": "view-in-github",
        "colab_type": "text"
      },
      "source": [
        "<a href=\"https://colab.research.google.com/github/carlosramos1/numpy-pandas-matplotlib/blob/main/06_modificacion_de_arreglos.ipynb\" target=\"_parent\"><img src=\"https://colab.research.google.com/assets/colab-badge.svg\" alt=\"Open In Colab\"/></a>"
      ]
    },
    {
      "cell_type": "markdown",
      "metadata": {
        "id": "buYzi71bujQC"
      },
      "source": [
        "# Recursos para arreglos de Numpy."
      ]
    },
    {
      "cell_type": "code",
      "execution_count": null,
      "metadata": {
        "id": "oAas50ytujQF"
      },
      "outputs": [],
      "source": [
        "import numpy as np"
      ]
    },
    {
      "cell_type": "markdown",
      "metadata": {
        "id": "XRD7qajUujQM"
      },
      "source": [
        "## \"Aplanado\" de arreglos.\n",
        "\n",
        "En algunos casos es conveniente obtener una lista o un arreglo de una dimensión que contenga a todos los elementos de un arreglo."
      ]
    },
    {
      "cell_type": "markdown",
      "metadata": {
        "id": "v3tP0kb4ujQP"
      },
      "source": [
        "### El atributo ```flat```.\n",
        "\n",
        "Este atributo es un objeto iterador ```np.flatiter``` capaz de regresar cada uno de los valores que contiene un arreglo.\n",
        "\n",
        "\n",
        "https://numpy.org/devdocs/reference/generated/numpy.ndarray.flat.html"
      ]
    },
    {
      "cell_type": "markdown",
      "metadata": {
        "id": "6mil4g0aujQQ"
      },
      "source": [
        "**Ejemplo:**"
      ]
    },
    {
      "cell_type": "code",
      "execution_count": null,
      "metadata": {
        "id": "hZJedsiMujQV"
      },
      "outputs": [],
      "source": [
        "arreglo_1 = np.array([[1,  2,  3,  4],\n",
        "                      [5,  6,  7,  8],\n",
        "                      [9, 10, 11, 12]])"
      ]
    },
    {
      "cell_type": "code",
      "source": [
        "type(arreglo_1.flat)"
      ],
      "metadata": {
        "colab": {
          "base_uri": "https://localhost:8080/"
        },
        "id": "uGOvcJSoyg66",
        "outputId": "d33e59d3-9202-482f-8f31-1488b4bb8bdc"
      },
      "execution_count": null,
      "outputs": [
        {
          "output_type": "execute_result",
          "data": {
            "text/plain": [
              "numpy.flatiter"
            ]
          },
          "metadata": {},
          "execution_count": 4
        }
      ]
    },
    {
      "cell_type": "code",
      "source": [
        "# Usar con ciclo for\n",
        "for i in arreglo_1.flat:\n",
        "  print(i, end=\" ,\")"
      ],
      "metadata": {
        "colab": {
          "base_uri": "https://localhost:8080/"
        },
        "id": "3vpwblW7vokP",
        "outputId": "b3a2f015-3952-44d1-e0f3-8ad7a0c0ec8f"
      },
      "execution_count": null,
      "outputs": [
        {
          "output_type": "stream",
          "name": "stdout",
          "text": [
            "1 ,2 ,3 ,4 ,5 ,6 ,7 ,8 ,9 ,10 ,11 ,12 ,"
          ]
        }
      ]
    },
    {
      "cell_type": "code",
      "source": [
        "# Convertir a lista el iterador\n",
        "list(arreglo_1.flat)"
      ],
      "metadata": {
        "colab": {
          "base_uri": "https://localhost:8080/"
        },
        "id": "AI2_pCqwxudO",
        "outputId": "903cf024-603b-4a52-df4e-2a4f8d63132c"
      },
      "execution_count": null,
      "outputs": [
        {
          "output_type": "execute_result",
          "data": {
            "text/plain": [
              "[1, 2, 3, 4, 5, 6, 7, 8, 9, 10, 11, 12]"
            ]
          },
          "metadata": {},
          "execution_count": 6
        }
      ]
    },
    {
      "cell_type": "markdown",
      "metadata": {
        "id": "w6ESC217ujQg"
      },
      "source": [
        "### El método ```flatten()```.\n",
        "\n",
        "El método ```np.ndarray.flatten()``` **regresa un arreglo *NumPy* de una dimensión** que contiene una copia de cada uno de los elementos del arreglo original.\n",
        "\n",
        "https://numpy.org/devdocs/reference/generated/numpy.ndarray.flatten.html"
      ]
    },
    {
      "cell_type": "code",
      "source": [
        "a = np.array([[1,2], [3,4]])\n",
        "a"
      ],
      "metadata": {
        "colab": {
          "base_uri": "https://localhost:8080/"
        },
        "id": "R2vrSfeqyqC_",
        "outputId": "0915b3f1-bc96-42c6-a2b3-51c9049ace9e"
      },
      "execution_count": null,
      "outputs": [
        {
          "output_type": "execute_result",
          "data": {
            "text/plain": [
              "array([[1, 2],\n",
              "       [3, 4]])"
            ]
          },
          "metadata": {},
          "execution_count": 7
        }
      ]
    },
    {
      "cell_type": "code",
      "source": [
        "type(a.flatten())"
      ],
      "metadata": {
        "colab": {
          "base_uri": "https://localhost:8080/"
        },
        "id": "P0Pa4qPdy0rK",
        "outputId": "845672dc-db1e-4703-a4f8-9aa26bea1bcf"
      },
      "execution_count": null,
      "outputs": [
        {
          "output_type": "execute_result",
          "data": {
            "text/plain": [
              "numpy.ndarray"
            ]
          },
          "metadata": {},
          "execution_count": 8
        }
      ]
    },
    {
      "cell_type": "code",
      "source": [
        "a.flatten()"
      ],
      "metadata": {
        "id": "29j_aAVYzAqN",
        "colab": {
          "base_uri": "https://localhost:8080/"
        },
        "outputId": "8d75ecad-a0a2-4330-cd6f-9184852cd016"
      },
      "execution_count": null,
      "outputs": [
        {
          "output_type": "execute_result",
          "data": {
            "text/plain": [
              "array([1, 2, 3, 4])"
            ]
          },
          "metadata": {},
          "execution_count": 9
        }
      ]
    },
    {
      "cell_type": "markdown",
      "metadata": {
        "id": "7cKMaFP2ujQh"
      },
      "source": [
        "### El método ```ravel()```.\n",
        "\n",
        "El método ```np.ndarray.ravel()``` **regresa un array *NumPy* de una dimensión que contiene la <u>referencia</u> de cada uno de los elementos** del arreglo original. Por lo que, si se hace alguna modificación en el arreglo original se reflejará en el array aplanado.\n",
        "\n",
        "https://numpy.org/devdocs/reference/generated/numpy.ndarray.ravel.html"
      ]
    },
    {
      "cell_type": "code",
      "source": [
        "a = np.array([[1,2], [3,4]])\n",
        "a"
      ],
      "metadata": {
        "colab": {
          "base_uri": "https://localhost:8080/"
        },
        "id": "CNdCSmgkDwUO",
        "outputId": "eb165ba9-fabe-4bfc-fb58-e6bd043c4def"
      },
      "execution_count": null,
      "outputs": [
        {
          "output_type": "execute_result",
          "data": {
            "text/plain": [
              "array([[1, 2],\n",
              "       [3, 4]])"
            ]
          },
          "metadata": {},
          "execution_count": 14
        }
      ]
    },
    {
      "cell_type": "code",
      "source": [
        "a_ravel = a.ravel()\n",
        "a_ravel"
      ],
      "metadata": {
        "colab": {
          "base_uri": "https://localhost:8080/"
        },
        "id": "wpbNEFbOEKfu",
        "outputId": "152c91e2-3a3f-4b2d-d949-e0dd16aac8de"
      },
      "execution_count": null,
      "outputs": [
        {
          "output_type": "execute_result",
          "data": {
            "text/plain": [
              "array([1, 2, 3, 4])"
            ]
          },
          "metadata": {},
          "execution_count": 15
        }
      ]
    },
    {
      "cell_type": "code",
      "source": [
        "# Modificamos un elemento del array `a`\n",
        "a[0,1] = 9\n",
        "a"
      ],
      "metadata": {
        "colab": {
          "base_uri": "https://localhost:8080/"
        },
        "id": "9x8KsrQMETvT",
        "outputId": "6a88aef9-5189-4d78-bfb1-1b943e0eb906"
      },
      "execution_count": null,
      "outputs": [
        {
          "output_type": "execute_result",
          "data": {
            "text/plain": [
              "array([[1, 9],\n",
              "       [3, 4]])"
            ]
          },
          "metadata": {},
          "execution_count": 16
        }
      ]
    },
    {
      "cell_type": "code",
      "source": [
        "# Verificar si se ha modificado el array aplanado\n",
        "a_ravel"
      ],
      "metadata": {
        "colab": {
          "base_uri": "https://localhost:8080/"
        },
        "id": "SOCBLGn7Ege9",
        "outputId": "0d8ddfb7-f972-45b6-cd56-7ecb4c9c4659"
      },
      "execution_count": null,
      "outputs": [
        {
          "output_type": "execute_result",
          "data": {
            "text/plain": [
              "array([1, 9, 3, 4])"
            ]
          },
          "metadata": {},
          "execution_count": 17
        }
      ]
    },
    {
      "cell_type": "markdown",
      "metadata": {
        "id": "9980CwJ5ujQh"
      },
      "source": [
        "### La función ```np.ravel()```.\n",
        "\n",
        "Tiene la misma funcionalidad que el método `ndarray.ravel()`.\n",
        "\n",
        "La función `np.ravel(<array-np>)` Retorna un arreglo de una dimensión que **contiene la <u>referencia</u>** de cada uno de los elementos del arreglo que se ingresa como argumento.\n",
        "\n",
        "https://numpy.org/devdocs/reference/generated/numpy.ravel.html"
      ]
    },
    {
      "cell_type": "code",
      "source": [
        "a = np.array([[1,2], [3,4]])\n",
        "a_ravel = np.ravel(a)\n",
        "a_ravel"
      ],
      "metadata": {
        "colab": {
          "base_uri": "https://localhost:8080/"
        },
        "id": "7FcN9LAtPbAO",
        "outputId": "de5e0f91-bcb6-4d7d-9325-5f2fd0b53f28"
      },
      "execution_count": null,
      "outputs": [
        {
          "output_type": "execute_result",
          "data": {
            "text/plain": [
              "array([1, 2, 3, 4])"
            ]
          },
          "metadata": {},
          "execution_count": 2
        }
      ]
    },
    {
      "cell_type": "code",
      "source": [
        "# Modificamos el elemento 0,0\n",
        "a[0,0] = 9\n",
        "# Verificamos que el array aplanado también cambió\n",
        "a_ravel"
      ],
      "metadata": {
        "colab": {
          "base_uri": "https://localhost:8080/"
        },
        "id": "jJ1fEUfuCwum",
        "outputId": "a3d74af9-94d8-4158-f7a9-36471a93140a"
      },
      "execution_count": null,
      "outputs": [
        {
          "output_type": "execute_result",
          "data": {
            "text/plain": [
              "array([9, 2, 3, 4])"
            ]
          },
          "metadata": {},
          "execution_count": 5
        }
      ]
    },
    {
      "cell_type": "markdown",
      "metadata": {
        "id": "hjcdF4NRujQ6"
      },
      "source": [
        "## Modificación de la forma de los arreglos.\n",
        "\n",
        "Existe dos maneras de **modificar la forma** de un arreglo:\n",
        "\n",
        "- El método `np.ndarray.reshape()`\n",
        "- La función `np.reshape()`"
      ]
    },
    {
      "cell_type": "markdown",
      "metadata": {
        "id": "i4U4q7_lujQ6"
      },
      "source": [
        "### El método ```reshape()```.\n",
        "\n",
        "El método ```np.ndarray.reshape()``` retorna un arreglo compuesto por el mismo número de elementos que el arreglo original, pero con la forma que se ingrese como argumento.\n",
        "\n",
        "Las nuevas dimensiones deben de coincidir con el numero total de elementos del arreglo de origen.\n",
        "\n",
        "```\n",
        "<arreglo>.reshape(<forma>)\n",
        "```\n",
        "\n",
        "* ```<forma>``` es una *tupla* que describe la forma del arreglo resultante.\n",
        "\n",
        "https://numpy.org/devdocs/reference/generated/numpy.ndarray.reshape.html"
      ]
    },
    {
      "cell_type": "code",
      "source": [
        "a = np.array([[1,2], [3,4]])\n",
        "a.shape"
      ],
      "metadata": {
        "colab": {
          "base_uri": "https://localhost:8080/"
        },
        "id": "TGpf3E5tQW0C",
        "outputId": "a4e08cdc-b0c4-47ed-95b5-2c9f79f22e05"
      },
      "execution_count": null,
      "outputs": [
        {
          "output_type": "execute_result",
          "data": {
            "text/plain": [
              "(2, 2)"
            ]
          },
          "metadata": {},
          "execution_count": 21
        }
      ]
    },
    {
      "cell_type": "code",
      "source": [
        "# Modificar a la forma (4,1)\n",
        "a.reshape((4,1))"
      ],
      "metadata": {
        "colab": {
          "base_uri": "https://localhost:8080/"
        },
        "id": "D47uFOzjQpaC",
        "outputId": "b273a796-0b5a-4e4a-c4a7-a9c63e300c3b"
      },
      "execution_count": null,
      "outputs": [
        {
          "output_type": "execute_result",
          "data": {
            "text/plain": [
              "array([[1],\n",
              "       [2],\n",
              "       [3],\n",
              "       [4]])"
            ]
          },
          "metadata": {},
          "execution_count": 22
        }
      ]
    },
    {
      "cell_type": "code",
      "source": [
        "# Ejemplo 2:\n",
        "b = np.array([[1,2,3],[4,5,6],[6,7,8],[6,5,4]])\n",
        "b.shape"
      ],
      "metadata": {
        "colab": {
          "base_uri": "https://localhost:8080/"
        },
        "id": "We59hOt_Q5B5",
        "outputId": "fab11d92-8582-4991-a3fe-288f8e57639d"
      },
      "execution_count": null,
      "outputs": [
        {
          "output_type": "execute_result",
          "data": {
            "text/plain": [
              "(4, 3)"
            ]
          },
          "metadata": {},
          "execution_count": 23
        }
      ]
    },
    {
      "cell_type": "code",
      "source": [
        "# Modificar a la forma (2,2,3)\n",
        "b.reshape((2,2,3))"
      ],
      "metadata": {
        "colab": {
          "base_uri": "https://localhost:8080/"
        },
        "id": "sU38_WT6RQ1E",
        "outputId": "216b7ffa-c883-483c-ba52-00f29be6196d"
      },
      "execution_count": null,
      "outputs": [
        {
          "output_type": "execute_result",
          "data": {
            "text/plain": [
              "array([[[1, 2, 3],\n",
              "        [4, 5, 6]],\n",
              "\n",
              "       [[6, 7, 8],\n",
              "        [6, 5, 4]]])"
            ]
          },
          "metadata": {},
          "execution_count": 25
        }
      ]
    },
    {
      "cell_type": "code",
      "source": [
        "# Ejemplo 3:\n",
        "a = np.array([[1,2], [3,4]])\n",
        "a.shape"
      ],
      "metadata": {
        "colab": {
          "base_uri": "https://localhost:8080/"
        },
        "id": "Rh6ylPp5D90k",
        "outputId": "d4d2db6d-fd3b-4c7c-c44a-049eee9bdffc"
      },
      "execution_count": null,
      "outputs": [
        {
          "output_type": "execute_result",
          "data": {
            "text/plain": [
              "(2, 2)"
            ]
          },
          "metadata": {},
          "execution_count": 6
        }
      ]
    },
    {
      "cell_type": "code",
      "source": [
        "# Modificar a la forma (3,1)\n",
        "a.reshape((3,1))\n",
        "# Error, porque el numero de elementos es menor al original"
      ],
      "metadata": {
        "colab": {
          "base_uri": "https://localhost:8080/",
          "height": 158
        },
        "id": "YVirGSGKEEpN",
        "outputId": "250b7afe-3e37-4782-c3ac-92cc219c4e62"
      },
      "execution_count": null,
      "outputs": [
        {
          "output_type": "error",
          "ename": "ValueError",
          "evalue": "cannot reshape array of size 4 into shape (3,1)",
          "traceback": [
            "\u001b[0;31m---------------------------------------------------------------------------\u001b[0m",
            "\u001b[0;31mValueError\u001b[0m                                Traceback (most recent call last)",
            "\u001b[0;32m<ipython-input-7-ec14690975d8>\u001b[0m in \u001b[0;36m<cell line: 0>\u001b[0;34m()\u001b[0m\n\u001b[1;32m      1\u001b[0m \u001b[0;31m# Modificar a la forma (3,1)\u001b[0m\u001b[0;34m\u001b[0m\u001b[0;34m\u001b[0m\u001b[0m\n\u001b[0;32m----> 2\u001b[0;31m \u001b[0ma\u001b[0m\u001b[0;34m.\u001b[0m\u001b[0mreshape\u001b[0m\u001b[0;34m(\u001b[0m\u001b[0;34m(\u001b[0m\u001b[0;36m3\u001b[0m\u001b[0;34m,\u001b[0m\u001b[0;36m1\u001b[0m\u001b[0;34m)\u001b[0m\u001b[0;34m)\u001b[0m\u001b[0;34m\u001b[0m\u001b[0;34m\u001b[0m\u001b[0m\n\u001b[0m",
            "\u001b[0;31mValueError\u001b[0m: cannot reshape array of size 4 into shape (3,1)"
          ]
        }
      ]
    },
    {
      "cell_type": "markdown",
      "metadata": {
        "id": "l7__NN3uujRK"
      },
      "source": [
        "### La función ```np.reshape()```.\n",
        "\n",
        "La función ```np.reshape()``` tiene la misma funcionalidad que el método `ndarray.reshape()`.\n",
        "\n",
        "```\n",
        "np.reshape(<arreglo>, <forma>)\n",
        "```\n",
        "\n",
        "* ```<arreglo>``` es un arreglo de *Numpy*.\n",
        "* ```<forma>``` es un un objeto de tipo ```tuple``` que describe la forma del arreglo resultante.\n",
        "\n",
        "https://numpy.org/devdocs/reference/generated/numpy.reshape.html\n"
      ]
    },
    {
      "cell_type": "code",
      "source": [
        "c = np.array([[1,2,3],[4,5,6],[6,7,8],[6,5,4,]])\n",
        "np.reshape(c, (2,2,3))"
      ],
      "metadata": {
        "colab": {
          "base_uri": "https://localhost:8080/"
        },
        "id": "t2Cj5tSHSPKF",
        "outputId": "6522ccff-c6a3-419b-8497-7f5ab2fca523"
      },
      "execution_count": null,
      "outputs": [
        {
          "output_type": "execute_result",
          "data": {
            "text/plain": [
              "array([[[1, 2, 3],\n",
              "        [4, 5, 6]],\n",
              "\n",
              "       [[6, 7, 8],\n",
              "        [6, 5, 4]]])"
            ]
          },
          "metadata": {},
          "execution_count": 26
        }
      ]
    },
    {
      "cell_type": "markdown",
      "metadata": {
        "id": "8os7JB8wujRZ"
      },
      "source": [
        "## Modificación de la forma y tamaño de un arreglo.\n",
        "\n",
        "Existen dos maneras de **modificar la forma y el tamaño**:\n",
        "\n",
        "- El método ```np.ndarray.resize()```\n",
        "- La función ```np.resize()```"
      ]
    },
    {
      "cell_type": "markdown",
      "metadata": {
        "id": "Sb4PCTEjujRa"
      },
      "source": [
        "### El método ```resize()```.\n",
        "\n",
        "El método ```np.ndarray.resize()``` cambia la forma y el tamaño (si así fuese el caso) del arreglo.\n",
        "\n",
        "- En caso de que las nuevas dimensiones sean menores al tamaño original, se recortarán los últimos de ellos.\n",
        "\n",
        "- En caso de que las nuevas dimensiones sean mayores al tamaño original, los elementos faltantes serán sustituidos por una secuencia de ```0```.\n",
        "```\n",
        "<array-np>.resize(<forma>)\n",
        "```\n",
        "\n",
        "* ```<forma>``` es un objeto de tipo ```tuple``` que describe la nueva forma del arreglo resultante.\n",
        "\n",
        "https://numpy.org/devdocs/reference/generated/numpy.ndarray.resize.html\n"
      ]
    },
    {
      "cell_type": "code",
      "source": [
        "d = np.array([[1, 2],\n",
        "              [3, 4]])\n",
        "print(f\"Antes:\\t {d.shape}\")\n",
        "\n",
        "d.resize((3,5))\n",
        "\n",
        "print(f\"Después: {d.shape}\")\n",
        "\n",
        "print(d)"
      ],
      "metadata": {
        "colab": {
          "base_uri": "https://localhost:8080/"
        },
        "id": "ap_RX4uQTdLQ",
        "outputId": "6ed461cc-f20f-462d-8011-018d195f806e"
      },
      "execution_count": null,
      "outputs": [
        {
          "output_type": "stream",
          "name": "stdout",
          "text": [
            "Antes:\t (2, 2)\n",
            "Después: (3, 5)\n",
            "[[1 2 3 4 0]\n",
            " [0 0 0 0 0]\n",
            " [0 0 0 0 0]]\n"
          ]
        }
      ]
    },
    {
      "cell_type": "markdown",
      "source": [
        "**Nota**: Si se intenta invocar al método `resize()` desde otro bloque de código, se genera un error `ValueError: cannot resize an array that references or is referenced\n",
        "by another array in this way.`"
      ],
      "metadata": {
        "id": "OPPN5p4vo_ad"
      }
    },
    {
      "cell_type": "code",
      "source": [
        "# Redimensionar el array\n",
        "d.resize((3, 3, 2))"
      ],
      "metadata": {
        "colab": {
          "base_uri": "https://localhost:8080/",
          "height": 202
        },
        "id": "MnCRLxJMTx1q",
        "outputId": "e1fcbf9c-5e84-44cb-80e0-fa9da1133e35"
      },
      "execution_count": null,
      "outputs": [
        {
          "output_type": "error",
          "ename": "ValueError",
          "evalue": "cannot resize an array that references or is referenced\nby another array in this way.\nUse the np.resize function or refcheck=False",
          "traceback": [
            "\u001b[0;31m---------------------------------------------------------------------------\u001b[0m",
            "\u001b[0;31mValueError\u001b[0m                                Traceback (most recent call last)",
            "\u001b[0;32m<ipython-input-10-612d31ad7856>\u001b[0m in \u001b[0;36m<cell line: 2>\u001b[0;34m()\u001b[0m\n\u001b[1;32m      1\u001b[0m \u001b[0;31m# Redimensionar el array\u001b[0m\u001b[0;34m\u001b[0m\u001b[0;34m\u001b[0m\u001b[0m\n\u001b[0;32m----> 2\u001b[0;31m \u001b[0md\u001b[0m\u001b[0;34m.\u001b[0m\u001b[0mresize\u001b[0m\u001b[0;34m(\u001b[0m\u001b[0;34m(\u001b[0m\u001b[0;36m3\u001b[0m\u001b[0;34m,\u001b[0m \u001b[0;36m3\u001b[0m\u001b[0;34m,\u001b[0m \u001b[0;36m2\u001b[0m\u001b[0;34m)\u001b[0m\u001b[0;34m)\u001b[0m\u001b[0;34m\u001b[0m\u001b[0;34m\u001b[0m\u001b[0m\n\u001b[0m",
            "\u001b[0;31mValueError\u001b[0m: cannot resize an array that references or is referenced\nby another array in this way.\nUse the np.resize function or refcheck=False"
          ]
        }
      ]
    },
    {
      "cell_type": "markdown",
      "metadata": {
        "id": "t3eF1pQjujRj"
      },
      "source": [
        "### La función ```np.resize()```.\n",
        "\n",
        "**Retorna un nuevo arreglo** a partir del arreglo que se ingrese como primer argumento, con la forma que se ingrese como segundo argumento.\n",
        "\n",
        "```\n",
        "np.resize(<array-np>, <forma>)\n",
        "```\n",
        "\n",
        "* ```<forma>``` es un objeto de tipo ```tuple``` que describe la nueva forma del arreglo resultante.\n",
        "\n",
        "**Consideraciones**:\n",
        "\n",
        "- En caso de que las nuevas dimensiones sean menores a tamaño original, **se recortarán los últimos** de ellos.\n",
        "\n",
        "- En caso de que las nuevas dimensiones sean mayores al tamaño original, los elementos faltantes **serán sustituidos por una secuencia iterativa de los elementos contenidos en el arreglo original**.\n",
        "\n",
        "https://numpy.org/devdocs/reference/generated/numpy.resize.html"
      ]
    },
    {
      "cell_type": "code",
      "source": [
        "d = np.array([[1, 2],\n",
        "              [3, 4]])\n",
        "\n",
        "d.shape"
      ],
      "metadata": {
        "colab": {
          "base_uri": "https://localhost:8080/"
        },
        "id": "ciG7yhfiS1-l",
        "outputId": "b7c4c110-b773-4f73-aa53-5bf4223f77ac"
      },
      "execution_count": null,
      "outputs": [
        {
          "output_type": "execute_result",
          "data": {
            "text/plain": [
              "(2, 2)"
            ]
          },
          "metadata": {},
          "execution_count": 3
        }
      ]
    },
    {
      "cell_type": "code",
      "source": [
        "# Redimensionar la forma y tamaño\n",
        "d_resize = np.resize(d, (2, 4))\n",
        "d_resize.shape\n"
      ],
      "metadata": {
        "colab": {
          "base_uri": "https://localhost:8080/"
        },
        "id": "vs16Kno2S7tb",
        "outputId": "0a0c18df-380c-4b5e-8b64-e26f0646112a"
      },
      "execution_count": null,
      "outputs": [
        {
          "output_type": "execute_result",
          "data": {
            "text/plain": [
              "(2, 4)"
            ]
          },
          "metadata": {},
          "execution_count": 7
        }
      ]
    },
    {
      "cell_type": "code",
      "source": [
        "# Verificamos sus elementos\n",
        "d_resize"
      ],
      "metadata": {
        "colab": {
          "base_uri": "https://localhost:8080/"
        },
        "id": "betL2eFUVE7F",
        "outputId": "28837c02-cd47-4f94-bea5-52e60e78c3c8"
      },
      "execution_count": null,
      "outputs": [
        {
          "output_type": "execute_result",
          "data": {
            "text/plain": [
              "array([[1, 2, 3, 4],\n",
              "       [1, 2, 3, 4]])"
            ]
          },
          "metadata": {},
          "execution_count": 8
        }
      ]
    },
    {
      "cell_type": "code",
      "source": [
        "# El array original no es afectado\n",
        "d"
      ],
      "metadata": {
        "colab": {
          "base_uri": "https://localhost:8080/"
        },
        "id": "a1gKAinkTTJz",
        "outputId": "c15c1b59-6006-4faf-cad5-fa805140e893"
      },
      "execution_count": null,
      "outputs": [
        {
          "output_type": "execute_result",
          "data": {
            "text/plain": [
              "array([[1, 2],\n",
              "       [3, 4]])"
            ]
          },
          "metadata": {},
          "execution_count": 9
        }
      ]
    },
    {
      "cell_type": "markdown",
      "metadata": {
        "id": "2DLoHTXiujTc"
      },
      "source": [
        "## Transformaciones de arreglos a partir de sus ejes."
      ]
    },
    {
      "cell_type": "markdown",
      "metadata": {
        "id": "-pX2D-pVujTe"
      },
      "source": [
        "### Ejes de los arreglos de *Numpy*.\n",
        "\n",
        "En la terminología de *Numpy*, a cada dimensión de un arreglo le corresponde un número entero, a cada uno de estos enteros se le conoce como eje (axis).\n",
        "\n",
        "A partir de lo anterior:\n",
        "* Un arreglo unidimensional tiene al eje ```0```.\n",
        "* Un arreglo bidimensional tiene a los ejes ```0``` y ```1```.\n",
        "* Un arreglo tridimiensional tiene a los ejes ```0```, ```1``` y ```2```.\n",
        "* Así sucesivamente."
      ]
    },
    {
      "cell_type": "markdown",
      "metadata": {
        "id": "zRXFEs7jujTg"
      },
      "source": [
        "### El método ```transpose()```.\n",
        "\n",
        "Retorna un nuevo array con los ejes transpuestos (*reubicados*).\n",
        "\n",
        "```\n",
        "<array-np>.transpose(<ejes>)\n",
        "```\n",
        "- `<ejes>` Es una tupla para indicar cada eje que será transpuesto. *Por defecto* se invierte el orden. p.e. un array de forma `(2,4,1)` será traspuesto a `(1,4,2)`\n",
        "\n",
        "> **Recordar** que cada eje se representa con un número: `0` para la primera dimensión, `1` para la segunda y así sucesivamente.\n"
      ]
    },
    {
      "cell_type": "code",
      "source": [
        "a = np.array([[[1,  2,  3,  4],\n",
        "               [5,  6,  7,  8],\n",
        "               [9, 10, 11, 12]]])\n",
        "a.shape"
      ],
      "metadata": {
        "colab": {
          "base_uri": "https://localhost:8080/"
        },
        "id": "1xhxADs81lE8",
        "outputId": "d88e1c3e-3d82-4d98-af9b-0cd9ee612cb2"
      },
      "execution_count": null,
      "outputs": [
        {
          "output_type": "execute_result",
          "data": {
            "text/plain": [
              "(1, 3, 4)"
            ]
          },
          "metadata": {},
          "execution_count": 15
        }
      ]
    },
    {
      "cell_type": "code",
      "source": [
        "# Transposición por defecto\n",
        "a_t = a.transpose()\n",
        "a_t.shape"
      ],
      "metadata": {
        "colab": {
          "base_uri": "https://localhost:8080/"
        },
        "id": "NLO768a3379_",
        "outputId": "cb6d65c6-2672-481e-b741-7e8bb9abe914"
      },
      "execution_count": null,
      "outputs": [
        {
          "output_type": "execute_result",
          "data": {
            "text/plain": [
              "(4, 3, 1)"
            ]
          },
          "metadata": {},
          "execution_count": 17
        }
      ]
    },
    {
      "cell_type": "code",
      "source": [
        "# El array original no cambia\n",
        "a.shape"
      ],
      "metadata": {
        "colab": {
          "base_uri": "https://localhost:8080/"
        },
        "id": "3zFqd-Ab45Wk",
        "outputId": "be8b188e-a922-4693-92de-528adaf7863b"
      },
      "execution_count": null,
      "outputs": [
        {
          "output_type": "execute_result",
          "data": {
            "text/plain": [
              "(1, 3, 4)"
            ]
          },
          "metadata": {},
          "execution_count": 19
        }
      ]
    },
    {
      "cell_type": "code",
      "source": [
        "# Ejemplo 2: Realizar una transposicion arbitraria\n",
        "a_t2 = a.transpose( (1,0,2) )\n",
        "a_t2.shape"
      ],
      "metadata": {
        "colab": {
          "base_uri": "https://localhost:8080/"
        },
        "id": "N1afqzGa5C89",
        "outputId": "b5c1b832-7b85-4605-f5c9-8e6efb196323"
      },
      "execution_count": null,
      "outputs": [
        {
          "output_type": "execute_result",
          "data": {
            "text/plain": [
              "(3, 1, 4)"
            ]
          },
          "metadata": {},
          "execution_count": 26
        }
      ]
    },
    {
      "cell_type": "code",
      "source": [
        "a_t2"
      ],
      "metadata": {
        "colab": {
          "base_uri": "https://localhost:8080/"
        },
        "id": "C2RCAC1x6Wqo",
        "outputId": "4d414348-3441-498a-da0d-8a4a08ea7d86"
      },
      "execution_count": null,
      "outputs": [
        {
          "output_type": "execute_result",
          "data": {
            "text/plain": [
              "array([[[ 1,  2,  3,  4]],\n",
              "\n",
              "       [[ 5,  6,  7,  8]],\n",
              "\n",
              "       [[ 9, 10, 11, 12]]])"
            ]
          },
          "metadata": {},
          "execution_count": 27
        }
      ]
    },
    {
      "cell_type": "markdown",
      "source": [
        "### El atributo `ndarray.T`\n",
        "\n",
        "Es la misma funcionalidad del método `ndarray.transpose()` *sin argumentos*\n",
        "\n",
        "\n",
        "\n",
        "```\n",
        "<array-np>.T\n",
        "```\n",
        "\n"
      ],
      "metadata": {
        "id": "lWPezZv7-LYu"
      }
    },
    {
      "cell_type": "code",
      "source": [
        "# Ejemplo\n",
        "b = np.array([[1,2],\n",
        "              [3,4]])\n",
        "b.T"
      ],
      "metadata": {
        "colab": {
          "base_uri": "https://localhost:8080/"
        },
        "id": "bar8jiAB-Bz5",
        "outputId": "4412ef0f-8694-46a8-aa4d-71a680967c6c"
      },
      "execution_count": null,
      "outputs": [
        {
          "output_type": "execute_result",
          "data": {
            "text/plain": [
              "array([[1, 3],\n",
              "       [2, 4]])"
            ]
          },
          "metadata": {},
          "execution_count": 41
        }
      ]
    },
    {
      "cell_type": "markdown",
      "source": [
        "### La función ```np.transpose()```\n",
        "\n",
        "La función ```np.transpose()``` tiene la misma funcionalidad que el *método transpose*.\n",
        "\n",
        "```\n",
        "np.transpose(<array-np>, (<ejes>))\n",
        "```\n",
        "\n",
        "- `(<ejes>)` Es una tupla para indicar cada eje que será transpuesto. *Por defecto* se invierte el orden. p.e. un array de forma `(2,4,1)` será traspuesto a `(1,4,2)`\n",
        "\n",
        "> **Recordar** que cada eje se representa con un número: `0` para la primera dimensión, `1` para la segunda y así sucesivamente."
      ],
      "metadata": {
        "id": "NjvuXBp71cd1"
      }
    },
    {
      "cell_type": "code",
      "execution_count": null,
      "metadata": {
        "id": "KsPT1JLnujTm",
        "colab": {
          "base_uri": "https://localhost:8080/"
        },
        "outputId": "58593180-f57f-465e-cc48-dce2b81b4f43"
      },
      "outputs": [
        {
          "output_type": "execute_result",
          "data": {
            "text/plain": [
              "(3, 3)"
            ]
          },
          "metadata": {},
          "execution_count": 42
        }
      ],
      "source": [
        "c = np.array([[1, 2, 3],\n",
        "              [4, 5, 6],\n",
        "              [7, 8, 9]])\n",
        "c.shape"
      ]
    },
    {
      "cell_type": "code",
      "execution_count": null,
      "metadata": {
        "id": "lQFPPqy3ujTn",
        "colab": {
          "base_uri": "https://localhost:8080/"
        },
        "outputId": "42b2d346-126b-4518-c87d-114c81514b54"
      },
      "outputs": [
        {
          "output_type": "execute_result",
          "data": {
            "text/plain": [
              "array([[1, 4, 7],\n",
              "       [2, 5, 8],\n",
              "       [3, 6, 9]])"
            ]
          },
          "metadata": {},
          "execution_count": 43
        }
      ],
      "source": [
        "# Trasposición por defecto\n",
        "np.transpose(c)"
      ]
    },
    {
      "cell_type": "code",
      "source": [
        "# Ejemplo 2: trasposición personalizada\n",
        "d = np.arange(12).reshape((2,2,3))\n",
        "d"
      ],
      "metadata": {
        "colab": {
          "base_uri": "https://localhost:8080/"
        },
        "id": "ye2aWGK38PwN",
        "outputId": "c81f3f89-25a9-40f7-ad5d-8207452a02a6"
      },
      "execution_count": null,
      "outputs": [
        {
          "output_type": "execute_result",
          "data": {
            "text/plain": [
              "array([[[ 0,  1,  2],\n",
              "        [ 3,  4,  5]],\n",
              "\n",
              "       [[ 6,  7,  8],\n",
              "        [ 9, 10, 11]]])"
            ]
          },
          "metadata": {},
          "execution_count": 44
        }
      ]
    },
    {
      "cell_type": "code",
      "source": [
        "print(np.transpose(d, (0,2,1)))\n",
        "print(f\"shape:\\t{np.transpose(d, (0,2,1)).shape}\")"
      ],
      "metadata": {
        "colab": {
          "base_uri": "https://localhost:8080/"
        },
        "id": "79d-1TcG9Flm",
        "outputId": "d13b05ff-bf45-483d-833e-761063d11708"
      },
      "execution_count": null,
      "outputs": [
        {
          "output_type": "stream",
          "name": "stdout",
          "text": [
            "[[[ 0  3]\n",
            "  [ 1  4]\n",
            "  [ 2  5]]\n",
            "\n",
            " [[ 6  9]\n",
            "  [ 7 10]\n",
            "  [ 8 11]]]\n",
            "shape:\t(2, 3, 2)\n"
          ]
        }
      ]
    },
    {
      "cell_type": "markdown",
      "metadata": {
        "id": "HF3a1ucYujUD"
      },
      "source": [
        "### La función ```np.rollaxis()```.\n",
        "\n",
        "Retorna un nuevo arreglo que tiene **uno de sus ejes trasladado** a otra posición\n",
        "\n",
        "\n",
        "```\n",
        "np.rollaxis(<array-np>, <eje>, start=0)\n",
        "```\n",
        "\n",
        "- `<eje>` Se indica el eje que será reubicado\n",
        "- `start` Indica la posición a la que se reubicará al *eje*. *Por defecto* es `0`\n"
      ]
    },
    {
      "cell_type": "code",
      "source": [
        "e = np.array([[[ 0,  1,  2], [ 3,  4,  5]],\n",
        "              [[ 6,  7,  8], [ 9, 10, 11]]])\n",
        "e.shape"
      ],
      "metadata": {
        "colab": {
          "base_uri": "https://localhost:8080/"
        },
        "id": "D5jWV6318Ixq",
        "outputId": "99d7f690-0d54-4c5b-c4db-b6414142a011"
      },
      "execution_count": null,
      "outputs": [
        {
          "output_type": "execute_result",
          "data": {
            "text/plain": [
              "(2, 2, 3)"
            ]
          },
          "metadata": {},
          "execution_count": 2
        }
      ]
    },
    {
      "cell_type": "code",
      "source": [
        "# Mover el 3er eje a la 1ra posición\n",
        "e_ra = np.rollaxis(e, 2)\n",
        "# Por defecto lo mueve al principio\n",
        "e_ra.shape"
      ],
      "metadata": {
        "colab": {
          "base_uri": "https://localhost:8080/"
        },
        "id": "L0Xsz0JJ8s50",
        "outputId": "2faaa557-7170-40e8-d7e3-78faf6e64553"
      },
      "execution_count": null,
      "outputs": [
        {
          "output_type": "execute_result",
          "data": {
            "text/plain": [
              "(3, 2, 2)"
            ]
          },
          "metadata": {},
          "execution_count": 7
        }
      ]
    },
    {
      "cell_type": "code",
      "source": [
        "# Mover el 3er eje a la 2da posición\n",
        "e_ra2 = np.rollaxis(e, 2, 1)\n",
        "e_ra2.shape"
      ],
      "metadata": {
        "colab": {
          "base_uri": "https://localhost:8080/"
        },
        "id": "mDsJTdCP9NWi",
        "outputId": "b15e5ed6-221d-4748-8ac3-b3ded2da6655"
      },
      "execution_count": null,
      "outputs": [
        {
          "output_type": "execute_result",
          "data": {
            "text/plain": [
              "(2, 3, 2)"
            ]
          },
          "metadata": {},
          "execution_count": 9
        }
      ]
    },
    {
      "cell_type": "markdown",
      "metadata": {
        "id": "H5TlCn1PujUX"
      },
      "source": [
        "## Modificación de dimensiones de arreglos."
      ]
    },
    {
      "cell_type": "markdown",
      "metadata": {
        "id": "tu-n1SIDujUZ"
      },
      "source": [
        "### La función ```np.expand_dims()```.\n",
        "\n",
        "Esta función añade un nuevo eje a un array *Numpy*\n",
        "\n",
        "```\n",
        "np.expand_dims(<array-np>, <eje>)\n",
        "```\n",
        "\n",
        "Donde:\n",
        "\n",
        "* ```<eje>``` indica el índice de la dimensión (eje) donde se ubicará el nuevo eje."
      ]
    },
    {
      "cell_type": "code",
      "source": [
        "a = np.array([1,2,3])\n",
        "a.shape"
      ],
      "metadata": {
        "colab": {
          "base_uri": "https://localhost:8080/"
        },
        "id": "S5wlewDfLu94",
        "outputId": "572d2d7d-a555-4ac1-b201-f27be208e307"
      },
      "execution_count": null,
      "outputs": [
        {
          "output_type": "execute_result",
          "data": {
            "text/plain": [
              "(3,)"
            ]
          },
          "metadata": {},
          "execution_count": 24
        }
      ]
    },
    {
      "cell_type": "code",
      "source": [
        "# Añadir un nuevo eje en la primera posición\n",
        "a_exp = np.expand_dims(a, 0)\n",
        "a_exp.shape"
      ],
      "metadata": {
        "colab": {
          "base_uri": "https://localhost:8080/"
        },
        "id": "jnXBESByL3f6",
        "outputId": "174192d8-68e7-4012-eef6-c55520be6ab6"
      },
      "execution_count": null,
      "outputs": [
        {
          "output_type": "execute_result",
          "data": {
            "text/plain": [
              "(1, 3)"
            ]
          },
          "metadata": {},
          "execution_count": 26
        }
      ]
    },
    {
      "cell_type": "code",
      "source": [
        "a_exp"
      ],
      "metadata": {
        "colab": {
          "base_uri": "https://localhost:8080/"
        },
        "id": "w5u6ZlnmMPnA",
        "outputId": "f9275fa1-3790-4cad-a10a-ee2049d4d500"
      },
      "execution_count": null,
      "outputs": [
        {
          "output_type": "execute_result",
          "data": {
            "text/plain": [
              "array([[1, 2, 3]])"
            ]
          },
          "metadata": {},
          "execution_count": 27
        }
      ]
    },
    {
      "cell_type": "code",
      "source": [
        "# Añadir un nuevo eje en la segunda posicón\n",
        "a_exp2 = np.expand_dims(a, 1)\n",
        "a_exp2.shape"
      ],
      "metadata": {
        "colab": {
          "base_uri": "https://localhost:8080/"
        },
        "id": "lOwPDvEVMUAi",
        "outputId": "106a62c9-b13e-436e-b0a9-88ec621d3012"
      },
      "execution_count": null,
      "outputs": [
        {
          "output_type": "execute_result",
          "data": {
            "text/plain": [
              "(3, 1)"
            ]
          },
          "metadata": {},
          "execution_count": 30
        }
      ]
    },
    {
      "cell_type": "code",
      "source": [
        "a_exp2"
      ],
      "metadata": {
        "colab": {
          "base_uri": "https://localhost:8080/"
        },
        "id": "NR5zrOcVMlZG",
        "outputId": "880770e8-586e-408a-ef38-b8669e9fe7db"
      },
      "execution_count": null,
      "outputs": [
        {
          "output_type": "execute_result",
          "data": {
            "text/plain": [
              "array([[1],\n",
              "       [2],\n",
              "       [3]])"
            ]
          },
          "metadata": {},
          "execution_count": 31
        }
      ]
    },
    {
      "cell_type": "markdown",
      "metadata": {
        "id": "JduLBJOnujUm"
      },
      "source": [
        "### La función ```np.squeeze()```.\n",
        "\n",
        "Esta función eliminará una dimensión de un array *NumPy*.\n",
        "\n",
        "```\n",
        "np.squeeze(<array-np>, <eje>)\n",
        "```\n",
        "\n",
        "* ```<eje>``` indica el índice de la dimensión que será eliminada.\n",
        "\n",
        "**Importante**: Solo se puede eliminar eje que tiene un elemento.\n"
      ]
    },
    {
      "cell_type": "code",
      "source": [
        "b = np.arange(9).reshape(3, 1, 3)\n",
        "b"
      ],
      "metadata": {
        "colab": {
          "base_uri": "https://localhost:8080/"
        },
        "id": "qRHlcqa_NL7H",
        "outputId": "94ef3137-c45b-4360-8a44-52415c3d8067"
      },
      "execution_count": null,
      "outputs": [
        {
          "output_type": "execute_result",
          "data": {
            "text/plain": [
              "array([[[0, 1, 2]],\n",
              "\n",
              "       [[3, 4, 5]],\n",
              "\n",
              "       [[6, 7, 8]]])"
            ]
          },
          "metadata": {},
          "execution_count": 34
        }
      ]
    },
    {
      "cell_type": "code",
      "source": [
        "# Eliminar el segundo eje\n",
        "b_sq = np.squeeze(b, 1)\n",
        "b_sq.shape"
      ],
      "metadata": {
        "colab": {
          "base_uri": "https://localhost:8080/"
        },
        "id": "oeOes2_bNX56",
        "outputId": "e3805046-5e24-4edf-d0b1-8451c9d8b274"
      },
      "execution_count": null,
      "outputs": [
        {
          "output_type": "execute_result",
          "data": {
            "text/plain": [
              "(3, 3)"
            ]
          },
          "metadata": {},
          "execution_count": 35
        }
      ]
    },
    {
      "cell_type": "code",
      "source": [
        "b_sq"
      ],
      "metadata": {
        "colab": {
          "base_uri": "https://localhost:8080/"
        },
        "id": "wtL9PnHyNqY6",
        "outputId": "0a53b145-3016-47bc-94c6-13f31b3c5f07"
      },
      "execution_count": null,
      "outputs": [
        {
          "output_type": "execute_result",
          "data": {
            "text/plain": [
              "array([[0, 1, 2],\n",
              "       [3, 4, 5],\n",
              "       [6, 7, 8]])"
            ]
          },
          "metadata": {},
          "execution_count": 36
        }
      ]
    },
    {
      "cell_type": "code",
      "source": [
        "# Eliminar el primer eje lanzará error por que tiene 3 elementos\n",
        "np.squeeze(b, 0)"
      ],
      "metadata": {
        "colab": {
          "base_uri": "https://localhost:8080/",
          "height": 280
        },
        "id": "60152AWxN0XS",
        "outputId": "3131a41a-1a32-4bb1-957f-df0e46269e1d"
      },
      "execution_count": null,
      "outputs": [
        {
          "output_type": "error",
          "ename": "ValueError",
          "evalue": "cannot select an axis to squeeze out which has size not equal to one",
          "traceback": [
            "\u001b[0;31m---------------------------------------------------------------------------\u001b[0m",
            "\u001b[0;31mValueError\u001b[0m                                Traceback (most recent call last)",
            "\u001b[0;32m<ipython-input-45-7221d997fda3>\u001b[0m in \u001b[0;36m<cell line: 2>\u001b[0;34m()\u001b[0m\n\u001b[1;32m      1\u001b[0m \u001b[0;31m# Eliminar el primer eje lanzará error por que tiene 3 elementos\u001b[0m\u001b[0;34m\u001b[0m\u001b[0;34m\u001b[0m\u001b[0m\n\u001b[0;32m----> 2\u001b[0;31m \u001b[0mnp\u001b[0m\u001b[0;34m.\u001b[0m\u001b[0msqueeze\u001b[0m\u001b[0;34m(\u001b[0m\u001b[0mb\u001b[0m\u001b[0;34m,\u001b[0m \u001b[0;36m0\u001b[0m\u001b[0;34m)\u001b[0m\u001b[0;34m\u001b[0m\u001b[0;34m\u001b[0m\u001b[0m\n\u001b[0m",
            "\u001b[0;32m/usr/local/lib/python3.10/dist-packages/numpy/core/fromnumeric.py\u001b[0m in \u001b[0;36msqueeze\u001b[0;34m(a, axis)\u001b[0m\n\u001b[1;32m   1556\u001b[0m         \u001b[0;32mreturn\u001b[0m \u001b[0msqueeze\u001b[0m\u001b[0;34m(\u001b[0m\u001b[0;34m)\u001b[0m\u001b[0;34m\u001b[0m\u001b[0;34m\u001b[0m\u001b[0m\n\u001b[1;32m   1557\u001b[0m     \u001b[0;32melse\u001b[0m\u001b[0;34m:\u001b[0m\u001b[0;34m\u001b[0m\u001b[0;34m\u001b[0m\u001b[0m\n\u001b[0;32m-> 1558\u001b[0;31m         \u001b[0;32mreturn\u001b[0m \u001b[0msqueeze\u001b[0m\u001b[0;34m(\u001b[0m\u001b[0maxis\u001b[0m\u001b[0;34m=\u001b[0m\u001b[0maxis\u001b[0m\u001b[0;34m)\u001b[0m\u001b[0;34m\u001b[0m\u001b[0;34m\u001b[0m\u001b[0m\n\u001b[0m\u001b[1;32m   1559\u001b[0m \u001b[0;34m\u001b[0m\u001b[0m\n\u001b[1;32m   1560\u001b[0m \u001b[0;34m\u001b[0m\u001b[0m\n",
            "\u001b[0;31mValueError\u001b[0m: cannot select an axis to squeeze out which has size not equal to one"
          ]
        }
      ]
    },
    {
      "cell_type": "markdown",
      "metadata": {
        "id": "QhcH9SV9ujUu"
      },
      "source": [
        "## Adición y eliminación de elementos a arreglos."
      ]
    },
    {
      "cell_type": "markdown",
      "metadata": {
        "id": "r4DzHiUrujUw"
      },
      "source": [
        "### La función ```np.concatenate()```.\n",
        "\n",
        "Une una secuencia de arreglos a un eje existente, se puede indicar el eje en el que se realizará la operación ingresando su número correspondiente como segundo argumento.\n",
        "\n",
        "```\n",
        "np.concatenate( (<a-np-1>, <a-np-2>), <eje>)\n",
        "```\n",
        "- Los array deben tener la misma forma, excepto en la dimensión del `<eje>`.\n",
        "- `<eje>` indice de la dimensión en donde se realizará la operación. *Por defecto es `0`*"
      ]
    },
    {
      "cell_type": "code",
      "source": [
        "a = np.array([[1, 2],\n",
        "              [3, 4]])\n",
        "print(f\"forma del array 'a':\\t{a.shape}\")\n",
        "\n",
        "b = np.array([[5,6]])\n",
        "print(f\"forma del array 'b':\\t{b.shape}\")"
      ],
      "metadata": {
        "colab": {
          "base_uri": "https://localhost:8080/"
        },
        "id": "jvYDjbyZSy-7",
        "outputId": "7027fbc6-f908-4ed5-f295-1d95c834675d"
      },
      "execution_count": null,
      "outputs": [
        {
          "output_type": "stream",
          "name": "stdout",
          "text": [
            "forma del array 'a':\t(2, 2)\n",
            "forma del array 'b':\t(1, 2)\n"
          ]
        }
      ]
    },
    {
      "cell_type": "code",
      "source": [
        "# Concatenar los arrays a y b\n",
        "np.concatenate((a,b))\n",
        "# np.concatenate((a,b), 0) es lo mismo"
      ],
      "metadata": {
        "colab": {
          "base_uri": "https://localhost:8080/"
        },
        "id": "SPmAQfVhTf1B",
        "outputId": "605bbf6e-6a4b-4757-d598-a0ed1587d605"
      },
      "execution_count": null,
      "outputs": [
        {
          "output_type": "execute_result",
          "data": {
            "text/plain": [
              "array([[1, 2],\n",
              "       [3, 4],\n",
              "       [5, 6]])"
            ]
          },
          "metadata": {},
          "execution_count": 73
        }
      ]
    },
    {
      "cell_type": "code",
      "source": [
        "c = np.array([[[1, 2],\n",
        "               [3, 4]],\n",
        "\n",
        "              [[1, 1],\n",
        "               [1, 1]]])\n",
        "print(f\"forma del array 'c':\\t{c.shape}\")\n",
        "\n",
        "d = np.array([[[5],\n",
        "               [6]],\n",
        "\n",
        "              [[7],\n",
        "               [8]]])\n",
        "print(f\"forma del array 'd':\\t{d.shape}\")"
      ],
      "metadata": {
        "colab": {
          "base_uri": "https://localhost:8080/"
        },
        "id": "HmDuii6uUHKd",
        "outputId": "d3089bc9-f86f-43a6-8e3a-da660f2dea73"
      },
      "execution_count": null,
      "outputs": [
        {
          "output_type": "stream",
          "name": "stdout",
          "text": [
            "forma del array 'c':\t(2, 2, 2)\n",
            "forma del array 'd':\t(2, 2, 1)\n"
          ]
        }
      ]
    },
    {
      "cell_type": "code",
      "source": [
        "# Unir los arrays c y d\n",
        "np.concatenate((c,d), 2)"
      ],
      "metadata": {
        "colab": {
          "base_uri": "https://localhost:8080/"
        },
        "id": "NmTn3ZsOUYV7",
        "outputId": "8f9389ea-d226-460c-ee0b-591b41d1e6e5"
      },
      "execution_count": null,
      "outputs": [
        {
          "output_type": "execute_result",
          "data": {
            "text/plain": [
              "array([[[1, 2, 5],\n",
              "        [3, 4, 6]],\n",
              "\n",
              "       [[1, 1, 7],\n",
              "        [1, 1, 8]]])"
            ]
          },
          "metadata": {},
          "execution_count": 71
        }
      ]
    },
    {
      "cell_type": "markdown",
      "metadata": {
        "id": "wAIFLMaaujVN"
      },
      "source": [
        "### La función ```np.append()```.\n",
        "\n",
        "Retorna un nuevo array, al cual se le añadieron elementos al final de un array *Numpy*\n",
        "\n",
        "\n",
        "```\n",
        "np.append(<a-np-1>, <a-np-2>, axis=<eje>)\n",
        "```\n",
        "\n",
        "- `<a-np-1>` Array al que se le añadirá elementos\n",
        "- `<a-np-2>` Array del cual se obtendrán los elementos que se añadirán al array `<a-np-1>`. Este array debe tener la misma forma que `<a-np-1>` excepto en la dimensión correspondiente a `<eje>`.\n",
        "* ```<eje>``` El eje en el que se hará la inserción.\n",
        "\n",
        "**Importante**: Si no especifica el valore del `<eje>`, el **resultado será un array plano**."
      ]
    },
    {
      "cell_type": "code",
      "source": [
        "a = np.array([[1,2],[3,4]])\n",
        "b = np.array([5,6])\n",
        "\n",
        "a.shape"
      ],
      "metadata": {
        "colab": {
          "base_uri": "https://localhost:8080/"
        },
        "id": "zAGlXdfxf3w0",
        "outputId": "5eb68d44-0616-49c6-fc29-de72aad075b2"
      },
      "execution_count": null,
      "outputs": [
        {
          "output_type": "execute_result",
          "data": {
            "text/plain": [
              "(2, 2)"
            ]
          },
          "metadata": {},
          "execution_count": 79
        }
      ]
    },
    {
      "cell_type": "code",
      "source": [
        "# Sin especificar el eje, resulta un array aplanado\n",
        "np.append(a, b)"
      ],
      "metadata": {
        "colab": {
          "base_uri": "https://localhost:8080/"
        },
        "id": "hFLW2_P8gI5B",
        "outputId": "bf247ed3-33ae-433e-d66b-1a19aeb881fb"
      },
      "execution_count": null,
      "outputs": [
        {
          "output_type": "execute_result",
          "data": {
            "text/plain": [
              "array([1, 2, 3, 4, 4, 5])"
            ]
          },
          "metadata": {},
          "execution_count": 76
        }
      ]
    },
    {
      "cell_type": "code",
      "source": [
        "c = np.array([[7,8]])\n",
        "print(f\"shape de 'a':\\t{a.shape}\")\n",
        "print(f\"shape de 'c':\\t{c.shape}\")"
      ],
      "metadata": {
        "colab": {
          "base_uri": "https://localhost:8080/"
        },
        "id": "c4k9eYi_gvR0",
        "outputId": "61f45a38-13e5-4285-ad22-22aa794fb01d"
      },
      "execution_count": null,
      "outputs": [
        {
          "output_type": "stream",
          "name": "stdout",
          "text": [
            "shape de 'a':\t(2, 2)\n",
            "shape de 'c':\t(1, 2)\n"
          ]
        }
      ]
    },
    {
      "cell_type": "code",
      "source": [
        "# añadir 'c' a 'a'\n",
        "np.append(a, c, axis=0)"
      ],
      "metadata": {
        "colab": {
          "base_uri": "https://localhost:8080/"
        },
        "id": "fjivhfq2hO6r",
        "outputId": "02ccb77e-a4b8-4f7d-bd49-174516d54727"
      },
      "execution_count": null,
      "outputs": [
        {
          "output_type": "execute_result",
          "data": {
            "text/plain": [
              "array([[1, 2],\n",
              "       [3, 4],\n",
              "       [7, 8]])"
            ]
          },
          "metadata": {},
          "execution_count": 84
        }
      ]
    },
    {
      "cell_type": "code",
      "source": [
        "# Si intentamos añadir 'c' en 'a' por el eje equivocado, dará ERROR porque\n",
        "# no cumple con la restricción descrito en <a-np-2>\n",
        "np.append(a, c, axis=1)"
      ],
      "metadata": {
        "colab": {
          "base_uri": "https://localhost:8080/",
          "height": 297
        },
        "id": "gLQQ1utGhoiT",
        "outputId": "1ff738b5-9b89-4072-d42b-72511c0fbf17"
      },
      "execution_count": null,
      "outputs": [
        {
          "output_type": "error",
          "ename": "ValueError",
          "evalue": "all the input array dimensions except for the concatenation axis must match exactly, but along dimension 0, the array at index 0 has size 2 and the array at index 1 has size 1",
          "traceback": [
            "\u001b[0;31m---------------------------------------------------------------------------\u001b[0m",
            "\u001b[0;31mValueError\u001b[0m                                Traceback (most recent call last)",
            "\u001b[0;32m<ipython-input-85-c7e22ead9e55>\u001b[0m in \u001b[0;36m<cell line: 2>\u001b[0;34m()\u001b[0m\n\u001b[1;32m      1\u001b[0m \u001b[0;31m# Si intentamos añadir 'c' en 'a' por el eje equivocado, dará ERROR\u001b[0m\u001b[0;34m\u001b[0m\u001b[0;34m\u001b[0m\u001b[0m\n\u001b[0;32m----> 2\u001b[0;31m \u001b[0mnp\u001b[0m\u001b[0;34m.\u001b[0m\u001b[0mappend\u001b[0m\u001b[0;34m(\u001b[0m\u001b[0ma\u001b[0m\u001b[0;34m,\u001b[0m \u001b[0mc\u001b[0m\u001b[0;34m,\u001b[0m \u001b[0maxis\u001b[0m\u001b[0;34m=\u001b[0m\u001b[0;36m1\u001b[0m\u001b[0;34m)\u001b[0m\u001b[0;34m\u001b[0m\u001b[0;34m\u001b[0m\u001b[0m\n\u001b[0m",
            "\u001b[0;32m/usr/local/lib/python3.10/dist-packages/numpy/lib/function_base.py\u001b[0m in \u001b[0;36mappend\u001b[0;34m(arr, values, axis)\u001b[0m\n\u001b[1;32m   5616\u001b[0m         \u001b[0mvalues\u001b[0m \u001b[0;34m=\u001b[0m \u001b[0mravel\u001b[0m\u001b[0;34m(\u001b[0m\u001b[0mvalues\u001b[0m\u001b[0;34m)\u001b[0m\u001b[0;34m\u001b[0m\u001b[0;34m\u001b[0m\u001b[0m\n\u001b[1;32m   5617\u001b[0m         \u001b[0maxis\u001b[0m \u001b[0;34m=\u001b[0m \u001b[0marr\u001b[0m\u001b[0;34m.\u001b[0m\u001b[0mndim\u001b[0m\u001b[0;34m-\u001b[0m\u001b[0;36m1\u001b[0m\u001b[0;34m\u001b[0m\u001b[0;34m\u001b[0m\u001b[0m\n\u001b[0;32m-> 5618\u001b[0;31m     \u001b[0;32mreturn\u001b[0m \u001b[0mconcatenate\u001b[0m\u001b[0;34m(\u001b[0m\u001b[0;34m(\u001b[0m\u001b[0marr\u001b[0m\u001b[0;34m,\u001b[0m \u001b[0mvalues\u001b[0m\u001b[0;34m)\u001b[0m\u001b[0;34m,\u001b[0m \u001b[0maxis\u001b[0m\u001b[0;34m=\u001b[0m\u001b[0maxis\u001b[0m\u001b[0;34m)\u001b[0m\u001b[0;34m\u001b[0m\u001b[0;34m\u001b[0m\u001b[0m\n\u001b[0m\u001b[1;32m   5619\u001b[0m \u001b[0;34m\u001b[0m\u001b[0m\n\u001b[1;32m   5620\u001b[0m \u001b[0;34m\u001b[0m\u001b[0m\n",
            "\u001b[0;31mValueError\u001b[0m: all the input array dimensions except for the concatenation axis must match exactly, but along dimension 0, the array at index 0 has size 2 and the array at index 1 has size 1"
          ]
        }
      ]
    },
    {
      "cell_type": "markdown",
      "metadata": {
        "id": "UOFHJ7CdujWd"
      },
      "source": [
        "### La función ```np.insert()```.\n",
        "\n",
        "Inserta elementos a un arreglo en un eje indicado.\n",
        "\n",
        "```\n",
        "np.insert(<arr-np-1>, <posición>, <arr-np-2>, axis=<n>)\n",
        "```\n",
        "\n",
        "Donde:\n",
        "\n",
        "* ```<arr-np-1>``` es un arreglo que se utilizará como referencia para hacer las inserciones.\n",
        "* ```<posición>``` es un índice o un rango que indica dónde se hará la inserción.\n",
        "* ```<arr-np-2>``` el array que será insertado. Should be shaped so that `arr-np-1[...,posición,...] = <arr-np-2` is legal..\n",
        "* ```axis=<n>``` define el eje de referencia. En caso de no definirse, se regresará un arreglo aplanado."
      ]
    },
    {
      "cell_type": "code",
      "source": [
        "a = np.array([[1,2],[3,4]])\n",
        "b = np.array([7,8])\n",
        "\n",
        "print(f\"shape de 'a':\\t{a.shape}\")\n",
        "print(f\"shape de 'b':\\t{b.shape}\")"
      ],
      "metadata": {
        "colab": {
          "base_uri": "https://localhost:8080/"
        },
        "id": "rvMFH4NtknCW",
        "outputId": "1af48859-bf4f-420a-d3c1-f31624487ec7"
      },
      "execution_count": null,
      "outputs": [
        {
          "output_type": "stream",
          "name": "stdout",
          "text": [
            "shape de 'a':\t(2, 2)\n",
            "shape de 'b':\t(2,)\n"
          ]
        }
      ]
    },
    {
      "cell_type": "code",
      "source": [
        "# Insertar 'b' en 'a' en la segunda posición correspondiente a la primera dimensión\n",
        "np.insert(a, 1, b, axis=0)"
      ],
      "metadata": {
        "colab": {
          "base_uri": "https://localhost:8080/"
        },
        "id": "SpJV7lA6kyp1",
        "outputId": "d8e1bf72-02ca-4382-e2e3-7eecd76990d2"
      },
      "execution_count": null,
      "outputs": [
        {
          "output_type": "execute_result",
          "data": {
            "text/plain": [
              "array([[1, 2],\n",
              "       [7, 8],\n",
              "       [3, 4]])"
            ]
          },
          "metadata": {},
          "execution_count": 95
        }
      ]
    },
    {
      "cell_type": "code",
      "source": [
        "# Si no se especifica el axis, se aplanará el array\n",
        "np.insert(a, 1, b)"
      ],
      "metadata": {
        "colab": {
          "base_uri": "https://localhost:8080/"
        },
        "id": "Q-zYmrOdlT1G",
        "outputId": "c05d9a60-c0bf-4e6f-dbc3-a08d57a8acf4"
      },
      "execution_count": null,
      "outputs": [
        {
          "output_type": "execute_result",
          "data": {
            "text/plain": [
              "array([1, 7, 8, 2, 3, 4])"
            ]
          },
          "metadata": {},
          "execution_count": 96
        }
      ]
    },
    {
      "cell_type": "markdown",
      "metadata": {
        "id": "lFQlMPR-ujW2"
      },
      "source": [
        "### La función ```np.delete()```"
      ]
    },
    {
      "cell_type": "code",
      "execution_count": null,
      "metadata": {
        "id": "YQ2cP5g5ujW3"
      },
      "outputs": [],
      "source": [
        "numerico = np.arange(20).reshape(4, 5)"
      ]
    },
    {
      "cell_type": "code",
      "execution_count": null,
      "metadata": {
        "id": "Tzsv8NOwujW5",
        "colab": {
          "base_uri": "https://localhost:8080/"
        },
        "outputId": "8b4f161d-c19e-4199-963b-ecad01c27e07"
      },
      "outputs": [
        {
          "output_type": "execute_result",
          "data": {
            "text/plain": [
              "array([[ 0,  1,  2,  3,  4],\n",
              "       [ 5,  6,  7,  8,  9],\n",
              "       [10, 11, 12, 13, 14],\n",
              "       [15, 16, 17, 18, 19]])"
            ]
          },
          "metadata": {},
          "execution_count": 98
        }
      ],
      "source": [
        "numerico"
      ]
    },
    {
      "cell_type": "code",
      "execution_count": null,
      "metadata": {
        "id": "2J0jsM_fujW7",
        "colab": {
          "base_uri": "https://localhost:8080/"
        },
        "outputId": "e2005e99-7edc-4811-e913-5c5519848ba1"
      },
      "outputs": [
        {
          "output_type": "execute_result",
          "data": {
            "text/plain": [
              "array([ 0,  2,  3,  4,  5,  6,  7,  8,  9, 10, 11, 12, 13, 14, 15, 16, 17,\n",
              "       18, 19])"
            ]
          },
          "metadata": {},
          "execution_count": 99
        }
      ],
      "source": [
        "np.delete(numerico, 1)"
      ]
    },
    {
      "cell_type": "code",
      "execution_count": null,
      "metadata": {
        "id": "Cw53rtIRujW9",
        "colab": {
          "base_uri": "https://localhost:8080/"
        },
        "outputId": "995a4f80-d594-49dd-ca83-7271cafdd243"
      },
      "outputs": [
        {
          "output_type": "execute_result",
          "data": {
            "text/plain": [
              "array([[ 0,  1,  2,  3,  4],\n",
              "       [ 5,  6,  7,  8,  9],\n",
              "       [15, 16, 17, 18, 19]])"
            ]
          },
          "metadata": {},
          "execution_count": 100
        }
      ],
      "source": [
        "np.delete(numerico, 2, axis=0)"
      ]
    },
    {
      "cell_type": "code",
      "execution_count": null,
      "metadata": {
        "id": "dRY0ICdSujW_",
        "colab": {
          "base_uri": "https://localhost:8080/"
        },
        "outputId": "63225480-3393-4cdb-d238-6b5e3d85cb63"
      },
      "outputs": [
        {
          "output_type": "execute_result",
          "data": {
            "text/plain": [
              "array([[ 0,  1,  3,  4],\n",
              "       [ 5,  6,  8,  9],\n",
              "       [10, 11, 13, 14],\n",
              "       [15, 16, 18, 19]])"
            ]
          },
          "metadata": {},
          "execution_count": 101
        }
      ],
      "source": [
        "np.delete(numerico, 2, axis=1)"
      ]
    },
    {
      "cell_type": "code",
      "execution_count": null,
      "metadata": {
        "id": "2JF4mJrVujXA",
        "colab": {
          "base_uri": "https://localhost:8080/"
        },
        "outputId": "f39f1a68-8f6a-4923-84d4-8c659364c352"
      },
      "outputs": [
        {
          "output_type": "execute_result",
          "data": {
            "text/plain": [
              "array([[ 1,  3],\n",
              "       [ 6,  8],\n",
              "       [11, 13],\n",
              "       [16, 18]])"
            ]
          },
          "metadata": {},
          "execution_count": 102
        }
      ],
      "source": [
        "np.delete(numerico, [0, 4, 2], axis=1)"
      ]
    },
    {
      "cell_type": "code",
      "execution_count": null,
      "metadata": {
        "id": "m8yET_tXujXB",
        "colab": {
          "base_uri": "https://localhost:8080/"
        },
        "outputId": "796211b1-89a7-4e75-b5ac-742c94499e1b"
      },
      "outputs": [
        {
          "output_type": "execute_result",
          "data": {
            "text/plain": [
              "array([[ 0,  1,  2,  3,  4],\n",
              "       [15, 16, 17, 18, 19]])"
            ]
          },
          "metadata": {},
          "execution_count": 103
        }
      ],
      "source": [
        "np.delete(numerico, np.s_[1:3], axis=0)"
      ]
    }
  ],
  "metadata": {
    "kernelspec": {
      "display_name": "Python 3 (ipykernel)",
      "language": "python",
      "name": "python3"
    },
    "language_info": {
      "codemirror_mode": {
        "name": "ipython",
        "version": 3
      },
      "file_extension": ".py",
      "mimetype": "text/x-python",
      "name": "python",
      "nbconvert_exporter": "python",
      "pygments_lexer": "ipython3",
      "version": "3.9.7"
    },
    "colab": {
      "provenance": [],
      "toc_visible": true,
      "include_colab_link": true
    }
  },
  "nbformat": 4,
  "nbformat_minor": 0
}