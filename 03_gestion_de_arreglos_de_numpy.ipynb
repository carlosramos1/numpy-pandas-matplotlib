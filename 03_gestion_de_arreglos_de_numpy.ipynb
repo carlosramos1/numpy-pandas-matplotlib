{
  "cells": [
    {
      "cell_type": "markdown",
      "metadata": {
        "id": "view-in-github",
        "colab_type": "text"
      },
      "source": [
        "<a href=\"https://colab.research.google.com/github/crasil/numpy-pandas-matplotlib/blob/main/03_gestion_de_arreglos_de_numpy.ipynb\" target=\"_parent\"><img src=\"https://colab.research.google.com/assets/colab-badge.svg\" alt=\"Open In Colab\"/></a>"
      ]
    },
    {
      "cell_type": "markdown",
      "metadata": {
        "id": "vYUHVgaD-fZV"
      },
      "source": [
        "# Gestión de arreglos de Numpy"
      ]
    },
    {
      "cell_type": "code",
      "execution_count": 1,
      "metadata": {
        "scrolled": true,
        "id": "2fbilc5D-fZW"
      },
      "outputs": [],
      "source": [
        "import numpy as np"
      ]
    },
    {
      "cell_type": "markdown",
      "metadata": {
        "id": "7VsOFgFv-fZY"
      },
      "source": [
        "## Creación de arreglos.\n",
        "\n",
        "Además de ```np.array(<list|tupla>)``` es posible crear arreglos con ciertas características particulares."
      ]
    },
    {
      "cell_type": "markdown",
      "metadata": {
        "id": "SFu_U-rP-fZk"
      },
      "source": [
        "### La función ```np.empty()```.\n",
        "\n",
        "Crea un arreglo con valores arbitrarios (que no siempre se repite en cada ejecución).\n",
        "\n",
        "```\n",
        "np.empty(<forma> [, dtype=<tipo de dato>])\n",
        "```\n",
        "\n",
        "Donde:\n",
        "\n",
        "* ```<forma>``` es una tupla que indica la forma del arreglo.\n",
        "* ```<tipo de dato>``` es el tipo de dato que tendrá el arreglo.\n",
        "\n",
        "El valor por defecto del parámetro ```dtype``` es ```np.float```."
      ]
    },
    {
      "cell_type": "markdown",
      "metadata": {
        "id": "dDyuaAqj-fZl"
      },
      "source": [
        "**Ejemplos:**"
      ]
    },
    {
      "cell_type": "code",
      "source": [
        "# Crear un arreglo de forma (2,2)\n",
        "np.empty((2, 2))"
      ],
      "metadata": {
        "colab": {
          "base_uri": "https://localhost:8080/"
        },
        "id": "L3a04PvEusz5",
        "outputId": "4ede7891-eda0-411c-baf2-96614b7feaf7"
      },
      "execution_count": 2,
      "outputs": [
        {
          "output_type": "execute_result",
          "data": {
            "text/plain": [
              "array([[4.92681618e-310, 0.00000000e+000],\n",
              "       [4.03347227e-270, 4.15833851e-221]])"
            ]
          },
          "metadata": {},
          "execution_count": 2
        }
      ]
    },
    {
      "cell_type": "code",
      "source": [
        "# Crear un array de tipo entero\n",
        "np.empty((2, 3), dtype=np.int32)"
      ],
      "metadata": {
        "colab": {
          "base_uri": "https://localhost:8080/"
        },
        "id": "wXk8q6_HyXUP",
        "outputId": "e39ab99b-c291-4c79-be22-21208803399c"
      },
      "execution_count": 3,
      "outputs": [
        {
          "output_type": "execute_result",
          "data": {
            "text/plain": [
              "array([[-680982936,      23217,  134349314],\n",
              "       [ 134286337,  150929921,  305008647]], dtype=int32)"
            ]
          },
          "metadata": {},
          "execution_count": 3
        }
      ]
    },
    {
      "cell_type": "code",
      "execution_count": 4,
      "metadata": {
        "scrolled": true,
        "colab": {
          "base_uri": "https://localhost:8080/"
        },
        "id": "epVc9G6n-fZn",
        "outputId": "1ec8b2b2-1239-44ad-b013-aea8b2bd5fa9"
      },
      "outputs": [
        {
          "output_type": "execute_result",
          "data": {
            "text/plain": [
              "array([[[ True,  True],\n",
              "        [ True,  True]],\n",
              "\n",
              "       [[ True,  True],\n",
              "        [ True,  True]]])"
            ]
          },
          "metadata": {},
          "execution_count": 4
        }
      ],
      "source": [
        "# Crear un array de tipo bool\n",
        "np.empty((2, 2, 2), dtype=np.bool_)"
      ]
    },
    {
      "cell_type": "code",
      "source": [
        "# Crear un array de tipo texto\n",
        "np.empty((2, 2, 4), dtype='>U10')"
      ],
      "metadata": {
        "colab": {
          "base_uri": "https://localhost:8080/"
        },
        "id": "nAUKutf6yp_x",
        "outputId": "728cb640-6b9d-42e8-b62d-9dda2fbe69fb"
      },
      "execution_count": 5,
      "outputs": [
        {
          "output_type": "execute_result",
          "data": {
            "text/plain": [
              "array([[['', '', '', ''],\n",
              "        ['', '', '', '']],\n",
              "\n",
              "       [['', '', '', ''],\n",
              "        ['', '', '', '']]], dtype='>U10')"
            ]
          },
          "metadata": {},
          "execution_count": 5
        }
      ]
    },
    {
      "cell_type": "markdown",
      "metadata": {
        "id": "y2xdalCf-fZd"
      },
      "source": [
        "### La función ```np.ones()```.\n",
        "\n",
        "Crea un array de valores `1`.\n",
        "\n",
        "\n",
        "```\n",
        "np.ones(<forma> [, dtype=<tipo de dato>])\n",
        "```\n",
        "\n",
        "Donde:\n",
        "\n",
        "* ```<forma>``` es una tupla que indica la forma del arreglo.\n",
        "* ```<tipo de dato>``` es el tipo de dato que tendrá el arreglo.\n",
        "\n",
        "El tipo de dato **por defecto** es ```np.float```."
      ]
    },
    {
      "cell_type": "markdown",
      "metadata": {
        "id": "Bzfu2HC0-fZe"
      },
      "source": [
        "**Ejemplos:**"
      ]
    },
    {
      "cell_type": "code",
      "source": [
        "# Crear un array de 1s, de forma (2,3)\n",
        "np.ones((2, 3))"
      ],
      "metadata": {
        "colab": {
          "base_uri": "https://localhost:8080/"
        },
        "id": "X47ZLi5rtHW_",
        "outputId": "52bb5f51-6002-4ae2-f81d-21b210080e17"
      },
      "execution_count": 6,
      "outputs": [
        {
          "output_type": "execute_result",
          "data": {
            "text/plain": [
              "array([[1., 1., 1.],\n",
              "       [1., 1., 1.]])"
            ]
          },
          "metadata": {},
          "execution_count": 6
        }
      ]
    },
    {
      "cell_type": "code",
      "source": [
        "# Crar un array de tipo booleano\n",
        "np.ones((2 ,3), dtype=np.bool_)"
      ],
      "metadata": {
        "colab": {
          "base_uri": "https://localhost:8080/"
        },
        "id": "ovYT0iPTuX4K",
        "outputId": "e74ba539-b25d-4496-9026-3a4116c4310b"
      },
      "execution_count": 7,
      "outputs": [
        {
          "output_type": "execute_result",
          "data": {
            "text/plain": [
              "array([[ True,  True,  True],\n",
              "       [ True,  True,  True]])"
            ]
          },
          "metadata": {},
          "execution_count": 7
        }
      ]
    },
    {
      "cell_type": "code",
      "source": [
        "# Crear un array de tipo string\n",
        "np.ones((3, 3), dtype='|S1')"
      ],
      "metadata": {
        "colab": {
          "base_uri": "https://localhost:8080/"
        },
        "id": "Zqi67otStj2n",
        "outputId": "bdc9c806-ec7a-43b3-c98a-bb103e2dc1eb"
      },
      "execution_count": 8,
      "outputs": [
        {
          "output_type": "execute_result",
          "data": {
            "text/plain": [
              "array([[b'1', b'1', b'1'],\n",
              "       [b'1', b'1', b'1'],\n",
              "       [b'1', b'1', b'1']], dtype='|S1')"
            ]
          },
          "metadata": {},
          "execution_count": 8
        }
      ]
    },
    {
      "cell_type": "markdown",
      "metadata": {
        "id": "5r3kidtF-fZh"
      },
      "source": [
        "### La función ```np.zeros()```.\n",
        "\n",
        "Crea un array que contiene sólo valores `0`.\n",
        "\n",
        "```\n",
        "np.zeros(<forma> [, dtype=<tipo de dato>])\n",
        "```\n",
        "\n",
        "Donde:\n",
        "\n",
        "* ```<forma>``` es una tupla que indica la forma del arreglo.\n",
        "* ```<tipo de dato>``` es el tipo de dato que tendrá el arreglo.\n",
        "\n",
        "El valor **por defecto** del parámetro ```dtype``` es ```np.float```."
      ]
    },
    {
      "cell_type": "markdown",
      "metadata": {
        "id": "4PoEDmGE-fZi"
      },
      "source": [
        "**Ejemplos:**"
      ]
    },
    {
      "cell_type": "code",
      "source": [
        "# Crear un array de 0s\n",
        "np.zeros((2, 3))"
      ],
      "metadata": {
        "colab": {
          "base_uri": "https://localhost:8080/"
        },
        "id": "3c2T_Fk6t53g",
        "outputId": "fd9db3ea-e01b-4043-8d56-8bd6fdff699e"
      },
      "execution_count": 9,
      "outputs": [
        {
          "output_type": "execute_result",
          "data": {
            "text/plain": [
              "array([[0., 0., 0.],\n",
              "       [0., 0., 0.]])"
            ]
          },
          "metadata": {},
          "execution_count": 9
        }
      ]
    },
    {
      "cell_type": "code",
      "source": [
        "# Crear un array de booleanos\n",
        "np.zeros((2, 3), dtype=np.bool_)"
      ],
      "metadata": {
        "colab": {
          "base_uri": "https://localhost:8080/"
        },
        "id": "U-ipz_DGuKfX",
        "outputId": "47dbc0b1-be94-4764-d59b-38a7ce030d88"
      },
      "execution_count": 10,
      "outputs": [
        {
          "output_type": "execute_result",
          "data": {
            "text/plain": [
              "array([[False, False, False],\n",
              "       [False, False, False]])"
            ]
          },
          "metadata": {},
          "execution_count": 10
        }
      ]
    },
    {
      "cell_type": "markdown",
      "metadata": {
        "id": "ShyHp4Xa-fZo"
      },
      "source": [
        "### La función ```np.arange()```.\n",
        "\n",
        "La función ```np.arange()``` **generará un arreglo de una dimensión** definidos en un rango al estilo de ```range()```.\n",
        "\n",
        "```\n",
        "np.arange(<inicio>, <fin>, <incrementos>, dtype=<tipo de dato>)\n",
        "```\n",
        "Donde:\n",
        "\n",
        "* ```<inicio>``` corresponde al número a partir del cual comenzará la secuencia. *Por defecto es `0`*\n",
        "* ```<fin>``` corresponde al número (menos el último `<incremento>`) en el que terminará la secuencia (es excluyente).\n",
        "* ```<incrementos>``` corresponde al número  unidades que se incrementarán sucesivamente. *Por defecto es `1`*\n",
        "* ```<tipo de dato>``` es el tipo de dato del arreglo. Si no se especifica, se inferirá."
      ]
    },
    {
      "cell_type": "markdown",
      "metadata": {
        "id": "1FO1vphE-fZp"
      },
      "source": [
        "**Ejemplos:**"
      ]
    },
    {
      "cell_type": "code",
      "source": [
        "# Crear un array de enteros que va del 5 al 10 inclusive con increm. de 1.\n",
        "np.arange(5, 11)"
      ],
      "metadata": {
        "colab": {
          "base_uri": "https://localhost:8080/"
        },
        "id": "WWl6gBSE13mD",
        "outputId": "c283dc9e-9c7f-480e-ef25-b7b126cf6b04"
      },
      "execution_count": 11,
      "outputs": [
        {
          "output_type": "execute_result",
          "data": {
            "text/plain": [
              "array([ 5,  6,  7,  8,  9, 10])"
            ]
          },
          "metadata": {},
          "execution_count": 11
        }
      ]
    },
    {
      "cell_type": "code",
      "source": [
        "# Crear un array de valores flotantes que va del 5 al 10 exclusivo con incrementos de 0.5\n",
        "np.arange(5, 10, 0.5)"
      ],
      "metadata": {
        "colab": {
          "base_uri": "https://localhost:8080/"
        },
        "id": "xmVtY2j82K5B",
        "outputId": "37fa0894-3982-44bb-99f7-d0af581b7f00"
      },
      "execution_count": 12,
      "outputs": [
        {
          "output_type": "execute_result",
          "data": {
            "text/plain": [
              "array([5. , 5.5, 6. , 6.5, 7. , 7.5, 8. , 8.5, 9. , 9.5])"
            ]
          },
          "metadata": {},
          "execution_count": 12
        }
      ]
    },
    {
      "cell_type": "markdown",
      "metadata": {
        "id": "AwiwQMxS-fZs"
      },
      "source": [
        "### La función ```np.linspace()```.\n",
        "\n",
        "Crea un array de una dimensión que contiene una secuencia lineal de números dentro de un rango dado.\n",
        "\n",
        "```\n",
        "np.linspace(<inicio, <fin>, num=<segmentos>, dtype=<tipo de dato>)\n",
        "```\n",
        "\n",
        "Donde:\n",
        "\n",
        "* ```<inicio>``` corresponde al número a partir del cual comenzará la secuencia.\n",
        "* ```<fin>``` corresponde al número en el que terminará la secuencia (inclusivo)\n",
        "* ```<segmentos>``` correpsonde al número de segmentos, incluyendo el valor inicial y el final que se generarán, que contendrá el arreglo. *Valor por defecto es `50`*\n",
        "* ```<tipo de dato>``` es el tipo de dato que tendrá el arreglo. *Por defecto es `np.float`*"
      ]
    },
    {
      "cell_type": "markdown",
      "metadata": {
        "id": "VyTFktTX-fZt"
      },
      "source": [
        "**Ejemplos:**"
      ]
    },
    {
      "cell_type": "code",
      "execution_count": 13,
      "metadata": {
        "colab": {
          "base_uri": "https://localhost:8080/"
        },
        "id": "g4HIVZ8d-fZu",
        "outputId": "08c3d201-2e66-4090-d1bd-d08e0e62a760"
      },
      "outputs": [
        {
          "output_type": "execute_result",
          "data": {
            "text/plain": [
              "array([0.        , 0.14285714, 0.28571429, 0.42857143, 0.57142857,\n",
              "       0.71428571, 0.85714286, 1.        , 1.14285714, 1.28571429,\n",
              "       1.42857143, 1.57142857, 1.71428571, 1.85714286, 2.        ,\n",
              "       2.14285714, 2.28571429, 2.42857143, 2.57142857, 2.71428571,\n",
              "       2.85714286, 3.        , 3.14285714, 3.28571429, 3.42857143,\n",
              "       3.57142857, 3.71428571, 3.85714286, 4.        , 4.14285714,\n",
              "       4.28571429, 4.42857143, 4.57142857, 4.71428571, 4.85714286,\n",
              "       5.        , 5.14285714, 5.28571429, 5.42857143, 5.57142857,\n",
              "       5.71428571, 5.85714286, 6.        , 6.14285714, 6.28571429,\n",
              "       6.42857143, 6.57142857, 6.71428571, 6.85714286, 7.        ])"
            ]
          },
          "metadata": {},
          "execution_count": 13
        }
      ],
      "source": [
        "# Crear un array compuesto por una secuencia lineal de 50 segmentos que van del 0 al 7.\n",
        "np.linspace(0, 7)"
      ]
    },
    {
      "cell_type": "code",
      "source": [
        "# Crear un array compuesto por una secuencia lineal de 100 segmentos que van del 0 al 10.\n",
        "np.linspace(0, 10, num=100)"
      ],
      "metadata": {
        "colab": {
          "base_uri": "https://localhost:8080/"
        },
        "id": "8se9ci3X56hB",
        "outputId": "2e17c36c-ccb2-4173-bceb-5ff23d4ccb12"
      },
      "execution_count": 14,
      "outputs": [
        {
          "output_type": "execute_result",
          "data": {
            "text/plain": [
              "array([ 0.        ,  0.1010101 ,  0.2020202 ,  0.3030303 ,  0.4040404 ,\n",
              "        0.50505051,  0.60606061,  0.70707071,  0.80808081,  0.90909091,\n",
              "        1.01010101,  1.11111111,  1.21212121,  1.31313131,  1.41414141,\n",
              "        1.51515152,  1.61616162,  1.71717172,  1.81818182,  1.91919192,\n",
              "        2.02020202,  2.12121212,  2.22222222,  2.32323232,  2.42424242,\n",
              "        2.52525253,  2.62626263,  2.72727273,  2.82828283,  2.92929293,\n",
              "        3.03030303,  3.13131313,  3.23232323,  3.33333333,  3.43434343,\n",
              "        3.53535354,  3.63636364,  3.73737374,  3.83838384,  3.93939394,\n",
              "        4.04040404,  4.14141414,  4.24242424,  4.34343434,  4.44444444,\n",
              "        4.54545455,  4.64646465,  4.74747475,  4.84848485,  4.94949495,\n",
              "        5.05050505,  5.15151515,  5.25252525,  5.35353535,  5.45454545,\n",
              "        5.55555556,  5.65656566,  5.75757576,  5.85858586,  5.95959596,\n",
              "        6.06060606,  6.16161616,  6.26262626,  6.36363636,  6.46464646,\n",
              "        6.56565657,  6.66666667,  6.76767677,  6.86868687,  6.96969697,\n",
              "        7.07070707,  7.17171717,  7.27272727,  7.37373737,  7.47474747,\n",
              "        7.57575758,  7.67676768,  7.77777778,  7.87878788,  7.97979798,\n",
              "        8.08080808,  8.18181818,  8.28282828,  8.38383838,  8.48484848,\n",
              "        8.58585859,  8.68686869,  8.78787879,  8.88888889,  8.98989899,\n",
              "        9.09090909,  9.19191919,  9.29292929,  9.39393939,  9.49494949,\n",
              "        9.5959596 ,  9.6969697 ,  9.7979798 ,  9.8989899 , 10.        ])"
            ]
          },
          "metadata": {},
          "execution_count": 14
        }
      ]
    },
    {
      "cell_type": "markdown",
      "metadata": {
        "id": "IR4YIgFV-fZv"
      },
      "source": [
        "### La función ```np.geomspace()```.\n",
        "\n",
        "Esta función creará un arreglo de una dimensión que contiene una secuencia de números en una **escala logarítmica** dentro de un rango dado.\n",
        "\n",
        "```\n",
        "np.geomspace(<inicio, <fin>, num=<segmentos>, dtype=<tipo de dato>)\n",
        "```\n",
        "\n",
        "Donde:\n",
        "\n",
        "* ```<inicio>``` corresponde al número a partir del cual comenzará la secuencia.\n",
        "* ```<fin>``` corresponde al número en el que terminará la secuencia (inclusive)\n",
        "* ```<segmentos>``` corresponde al número de segmentos, incluyendo el valor inicial y el final que se generarán, que contendrá el arreglo. *Por defecto es `50`*\n",
        "* ```<tipo de dato>``` es el tipo de dato que tendrá el arreglo. *Por defecto es `np.float`*\n"
      ]
    },
    {
      "cell_type": "markdown",
      "metadata": {
        "id": "urRmAlyv-fZv"
      },
      "source": [
        "**Ejemplo:**"
      ]
    },
    {
      "cell_type": "markdown",
      "metadata": {
        "id": "m9tP0Woq-fZv"
      },
      "source": [
        "* La siguiente celda creará un arreglo compuesto por una secuencia logarítmica de 100 segmentos que van del ```0``` al ```100```."
      ]
    },
    {
      "cell_type": "code",
      "execution_count": 15,
      "metadata": {
        "colab": {
          "base_uri": "https://localhost:8080/"
        },
        "id": "kxeNczEk-fZw",
        "outputId": "a8c2ee59-7deb-4951-b6c3-31cafda31e2a"
      },
      "outputs": [
        {
          "output_type": "execute_result",
          "data": {
            "text/plain": [
              "array([  1.        ,   1.04761575,   1.09749877,   1.149757  ,\n",
              "         1.20450354,   1.26185688,   1.32194115,   1.38488637,\n",
              "         1.45082878,   1.51991108,   1.59228279,   1.66810054,\n",
              "         1.7475284 ,   1.83073828,   1.91791026,   2.009233  ,\n",
              "         2.10490414,   2.20513074,   2.3101297 ,   2.42012826,\n",
              "         2.53536449,   2.65608778,   2.7825594 ,   2.91505306,\n",
              "         3.05385551,   3.19926714,   3.35160265,   3.51119173,\n",
              "         3.67837977,   3.85352859,   4.03701726,   4.22924287,\n",
              "         4.43062146,   4.64158883,   4.86260158,   5.09413801,\n",
              "         5.33669923,   5.59081018,   5.85702082,   6.13590727,\n",
              "         6.42807312,   6.73415066,   7.05480231,   7.39072203,\n",
              "         7.74263683,   8.11130831,   8.49753436,   8.90215085,\n",
              "         9.32603347,   9.77009957,  10.23531022,  10.72267222,\n",
              "        11.23324033,  11.76811952,  12.32846739,  12.91549665,\n",
              "        13.53047775,  14.17474163,  14.84968262,  15.55676144,\n",
              "        16.29750835,  17.07352647,  17.88649529,  18.73817423,\n",
              "        19.6304065 ,  20.56512308,  21.5443469 ,  22.5701972 ,\n",
              "        23.64489413,  24.77076356,  25.95024211,  27.18588243,\n",
              "        28.48035868,  29.8364724 ,  31.2571585 ,  32.74549163,\n",
              "        34.30469286,  35.93813664,  37.64935807,  39.44206059,\n",
              "        41.320124  ,  43.28761281,  45.34878508,  47.50810162,\n",
              "        49.77023564,  52.14008288,  54.62277218,  57.22367659,\n",
              "        59.94842503,  62.80291442,  65.79332247,  68.92612104,\n",
              "        72.20809018,  75.64633276,  79.24828984,  83.02175681,\n",
              "        86.97490026,  91.11627561,  95.45484567, 100.        ])"
            ]
          },
          "metadata": {},
          "execution_count": 15
        }
      ],
      "source": [
        "# Crear un arreglo compuesto por una secuencia logarítmica de 100 segmentos que van del 0 al 100.\n",
        "np.geomspace(1, 100, num=100)"
      ]
    },
    {
      "cell_type": "markdown",
      "metadata": {
        "id": "BuOo-0fC-fZw"
      },
      "source": [
        "### La función ```np.logspace()```.\n",
        "\n",
        "Esta función creará un arreglo de una dimensión que contiene una secuencia de números en una escala logarítmica que va de un rango dado entre $e^{incio}$ y un  $e^{fin}$ . El número de segmentos incluyendo el valor incial y el valor final es definido meduante el parámentro ```num```. El valor por defecto del parámetro ```num``` es de ```50```.\n",
        "\n",
        "```\n",
        "np.logspace(<inicio, <fin>, num=<segmentos>, dtype=<tipo de dato>)\n",
        "```\n",
        "\n",
        "Donde:\n",
        "\n",
        "* ```<inicio>``` define el valor inicial de la secuencia. Este valor se calcula como $e^{<inicio>}$.\n",
        "* ```<fin>``` define el valor final de la secuencia. Este valor se calcula como $e^{<fin>}$.\n",
        "* ```<segmentos>``` corresponde al número de segmentos, incluyendo el valor inicial y el final que se generarán, que contendrá el arreglo. *Por defecto es `50`*.\n",
        "* ```<tipo de dato>``` es el tipo de dato que tendrá el arreglo. *Por defecto es `np.float`*."
      ]
    },
    {
      "cell_type": "markdown",
      "metadata": {
        "id": "uayKfaY--fZw"
      },
      "source": [
        "**Ejemplo:**"
      ]
    },
    {
      "cell_type": "markdown",
      "metadata": {
        "id": "6rvcLnRI-fZx"
      },
      "source": [
        "* La siguiente celda creará un arreglo compuesto por una secuencia logarítmica de 100 segmentos que van del $e^{12}$ a $e^{25}$."
      ]
    },
    {
      "cell_type": "code",
      "execution_count": 16,
      "metadata": {
        "scrolled": false,
        "colab": {
          "base_uri": "https://localhost:8080/"
        },
        "id": "ZEX3HBos-fZx",
        "outputId": "00086965-d157-4df5-ab78-7c3e434715ad"
      },
      "outputs": [
        {
          "output_type": "execute_result",
          "data": {
            "text/plain": [
              "array([1.00000000e+12, 1.35304777e+12, 1.83073828e+12, 2.47707636e+12,\n",
              "       3.35160265e+12, 4.53487851e+12, 6.13590727e+12, 8.30217568e+12,\n",
              "       1.12332403e+13, 1.51991108e+13, 2.05651231e+13, 2.78255940e+13,\n",
              "       3.76493581e+13, 5.09413801e+13, 6.89261210e+13, 9.32603347e+13,\n",
              "       1.26185688e+14, 1.70735265e+14, 2.31012970e+14, 3.12571585e+14,\n",
              "       4.22924287e+14, 5.72236766e+14, 7.74263683e+14, 1.04761575e+15,\n",
              "       1.41747416e+15, 1.91791026e+15, 2.59502421e+15, 3.51119173e+15,\n",
              "       4.75081016e+15, 6.42807312e+15, 8.69749003e+15, 1.17681195e+16,\n",
              "       1.59228279e+16, 2.15443469e+16, 2.91505306e+16, 3.94420606e+16,\n",
              "       5.33669923e+16, 7.22080902e+16, 9.77009957e+16, 1.32194115e+17,\n",
              "       1.78864953e+17, 2.42012826e+17, 3.27454916e+17, 4.43062146e+17,\n",
              "       5.99484250e+17, 8.11130831e+17, 1.09749877e+18, 1.48496826e+18,\n",
              "       2.00923300e+18, 2.71858824e+18, 3.67837977e+18, 4.97702356e+18,\n",
              "       6.73415066e+18, 9.11162756e+18, 1.23284674e+19, 1.66810054e+19,\n",
              "       2.25701972e+19, 3.05385551e+19, 4.13201240e+19, 5.59081018e+19,\n",
              "       7.56463328e+19, 1.02353102e+20, 1.38488637e+20, 1.87381742e+20,\n",
              "       2.53536449e+20, 3.43046929e+20, 4.64158883e+20, 6.28029144e+20,\n",
              "       8.49753436e+20, 1.14975700e+21, 1.55567614e+21, 2.10490414e+21,\n",
              "       2.84803587e+21, 3.85352859e+21, 5.21400829e+21, 7.05480231e+21,\n",
              "       9.54548457e+21, 1.29154967e+22, 1.74752840e+22, 2.36448941e+22,\n",
              "       3.19926714e+22, 4.32876128e+22, 5.85702082e+22, 7.92482898e+22,\n",
              "       1.07226722e+23, 1.45082878e+23, 1.96304065e+23, 2.65608778e+23,\n",
              "       3.59381366e+23, 4.86260158e+23, 6.57933225e+23, 8.90215085e+23,\n",
              "       1.20450354e+24, 1.62975083e+24, 2.20513074e+24, 2.98364724e+24,\n",
              "       4.03701726e+24, 5.46227722e+24, 7.39072203e+24, 1.00000000e+25])"
            ]
          },
          "metadata": {},
          "execution_count": 16
        }
      ],
      "source": [
        "np.logspace(12, 25, num=100)"
      ]
    },
    {
      "cell_type": "markdown",
      "metadata": {
        "id": "uEhGdPfK-fZx"
      },
      "source": [
        "## Copiado de un arreglo.\n",
        "\n",
        "La función ```np.copy()``` permite crear un nuevo arreglo a partir del que se ingresa como argumento.\n",
        "\n",
        "```\n",
        "np.copy(<arreglo>)\n",
        "```"
      ]
    },
    {
      "cell_type": "markdown",
      "metadata": {
        "id": "4YNNgwcg-fZx"
      },
      "source": [
        "**Ejemplos:**"
      ]
    },
    {
      "cell_type": "code",
      "execution_count": 17,
      "metadata": {
        "scrolled": true,
        "id": "yX5_M4co-fZy",
        "colab": {
          "base_uri": "https://localhost:8080/"
        },
        "outputId": "a0034af2-42f1-4686-c5d8-473ef44db668"
      },
      "outputs": [
        {
          "output_type": "stream",
          "name": "stdout",
          "text": [
            "[[1 2]\n",
            " [3 4]]\n",
            "[[1 2]\n",
            " [3 4]]\n"
          ]
        }
      ],
      "source": [
        "arreglo_original = np.array(([1, 2], [3, 4]))\n",
        "print(arreglo_original)\n",
        "\n",
        "arreglo_copia = np.copy(arreglo_original)\n",
        "print(arreglo_copia)"
      ]
    },
    {
      "cell_type": "code",
      "source": [
        "arreglo_original is arreglo_copia"
      ],
      "metadata": {
        "colab": {
          "base_uri": "https://localhost:8080/"
        },
        "id": "r_I66KLRpYHu",
        "outputId": "422ebf05-dedd-4141-b90c-7c9147e708ac"
      },
      "execution_count": 20,
      "outputs": [
        {
          "output_type": "execute_result",
          "data": {
            "text/plain": [
              "False"
            ]
          },
          "metadata": {},
          "execution_count": 20
        }
      ]
    },
    {
      "cell_type": "markdown",
      "metadata": {
        "id": "6YjwF3c2-fZ1"
      },
      "source": [
        "## Escritura y lectura de arreglos en el sistema de archivos.\n",
        "\n",
        "Numpy cuenta con varias funciones para almacenar y extraer arreglos a partir de archivos."
      ]
    },
    {
      "cell_type": "markdown",
      "metadata": {
        "id": "wjfpw3IM-fZ2"
      },
      "source": [
        "### Escritura de un arreglo  en un archivo de texto\n",
        "\n",
        "La función ```np.savetxt()``` permite guardar un arreglo en un archivo  de texto\n",
        "\n",
        "```\n",
        "np.savetxt('<ruta>', <arreglo>, delimiter='<caracter delimitador>')\n",
        "```\n",
        "\n",
        "- Por defecto el  `<caracter delimitador>` es un espacio."
      ]
    },
    {
      "cell_type": "markdown",
      "metadata": {
        "id": "dPkf5O-g-fZ2"
      },
      "source": [
        "**Ejemplo:**"
      ]
    },
    {
      "cell_type": "code",
      "source": [
        "arreglo = np.array(([1, 2], [3, 4]), dtype=np.int8)\n",
        "print(arreglo)\n",
        "\n",
        "# Guardar el contenido en un archivo de texto\n",
        "np.savetxt('arreglo.txt', arreglo)\n",
        "print('>>>> Guardando el array en arreglo.txt')\n",
        "\n",
        "# Visualizar el archivo creado con el comando cat\n",
        "print('>>>> Visualizando el archivo')\n",
        "%cat arreglo.txt"
      ],
      "metadata": {
        "colab": {
          "base_uri": "https://localhost:8080/"
        },
        "id": "a9ONk-MXhgoY",
        "outputId": "5cb530af-b07a-4f08-f614-1e71576d309a"
      },
      "execution_count": 21,
      "outputs": [
        {
          "output_type": "stream",
          "name": "stdout",
          "text": [
            "[[1 2]\n",
            " [3 4]]\n",
            ">>>> Guardando el array en arreglo.txt\n",
            ">>>> Visualizando el archivo\n",
            "1.000000000000000000e+00 2.000000000000000000e+00\n",
            "3.000000000000000000e+00 4.000000000000000000e+00\n"
          ]
        }
      ]
    },
    {
      "cell_type": "markdown",
      "metadata": {
        "id": "-odZAP_U-fZ_"
      },
      "source": [
        "### Lectura de un arreglo a partir de un archivo de texto\n",
        "\n",
        "\n",
        "La función ```np.loadtxt()``` permite leer un arreglo en un archivo de texto.\n",
        "\n",
        "```\n",
        "np.loadtxt('<ruta>', delimiter='<caracter delimitador>')\n",
        "```"
      ]
    },
    {
      "cell_type": "markdown",
      "metadata": {
        "id": "4RNFneYd-fZ_"
      },
      "source": [
        "**Ejemplo:**"
      ]
    },
    {
      "cell_type": "code",
      "execution_count": 22,
      "metadata": {
        "id": "NmYJQufp-fZ_",
        "colab": {
          "base_uri": "https://localhost:8080/"
        },
        "outputId": "d3566a65-c9d3-43cc-8b96-a1d78ca87df6"
      },
      "outputs": [
        {
          "output_type": "execute_result",
          "data": {
            "text/plain": [
              "array([[1., 2.],\n",
              "       [3., 4.]])"
            ]
          },
          "metadata": {},
          "execution_count": 22
        }
      ],
      "source": [
        "np.loadtxt(\"arreglo.txt\")"
      ]
    },
    {
      "cell_type": "markdown",
      "source": [
        "### Escritura de arreglos en un archivo binario"
      ],
      "metadata": {
        "id": "Krznyi2UowBd"
      }
    },
    {
      "cell_type": "markdown",
      "metadata": {
        "id": "H00GTTT_-fZ5"
      },
      "source": [
        "#### Escritura de un arreglo\n",
        "\n",
        "Esta función guardar un arreglo de *Numpy* en formato binario con la extensión ```.npy```.\n",
        "\n",
        "```\n",
        "np.save('<ruta>', <arreglo>)\n",
        "```\n",
        "- No es necesario poner la extensión del archivo, éste se añadirá automáticamente (ver ejemplo)."
      ]
    },
    {
      "cell_type": "markdown",
      "metadata": {
        "id": "u67XNQ3w-fZ5"
      },
      "source": [
        "**Ejemplo:**"
      ]
    },
    {
      "cell_type": "code",
      "source": [
        "arreglo = np.array(([1, 2], [3, 4]))\n",
        "print(arreglo)\n",
        "\n",
        "# Guardando el arreglo en un archivo binario.\n",
        "# Nota: La extension .npy se añadirá automáticamente\n",
        "np.save('arreglo', arreglo)\n",
        "\n",
        "# Visualizar el archivo creado\n",
        "print('\\n>>>> Visualizando el archivo')\n",
        "%cat arreglo.npy"
      ],
      "metadata": {
        "colab": {
          "base_uri": "https://localhost:8080/"
        },
        "id": "nsX_S2vaiw63",
        "outputId": "883498db-5639-4c88-c707-c2c0e59c6bdb"
      },
      "execution_count": 23,
      "outputs": [
        {
          "output_type": "stream",
          "name": "stdout",
          "text": [
            "[[1 2]\n",
            " [3 4]]\n",
            "\n",
            ">>>> Visualizando el archivo\n",
            "�NUMPY\u0001\u0000v\u0000{'descr': '<i8', 'fortran_order': False, 'shape': (2, 2), }                                                          \n",
            "\u0001\u0000\u0000\u0000\u0000\u0000\u0000\u0000\u0002\u0000\u0000\u0000\u0000\u0000\u0000\u0000\u0003\u0000\u0000\u0000\u0000\u0000\u0000\u0000\u0004\u0000\u0000\u0000\u0000\u0000\u0000\u0000"
          ]
        }
      ]
    },
    {
      "cell_type": "markdown",
      "metadata": {
        "id": "gD5MqmUA-fZ8"
      },
      "source": [
        "#### Escritura de varios arreglos\n",
        "\n",
        "Esta función es capaz de guardar más de un arreglo de *Numpy* en formato binario con la extensión La extensión ```.npz```.\n",
        "\n",
        "```\n",
        "np.savez('<ruta>', <arreglo 1>, <arreglo 2>,... <arreglo n>)\n",
        "```\n",
        "- No es necesario poner la extensión del archivo, éste se añadirá automáticamente (ver ejemplo)."
      ]
    },
    {
      "cell_type": "markdown",
      "metadata": {
        "id": "kNFlPJcD-fZ8"
      },
      "source": [
        "**Ejemplo:**"
      ]
    },
    {
      "cell_type": "code",
      "source": [
        "arreglo_1 = np.array(([1, 2], [3, 4]))\n",
        "arreglo_2 = np.array(([5, 6], [7, 8]))\n",
        "\n",
        "# Guardar los arreglos en un archivo binario\n",
        "# Nota: La extension .npz se añadirá automáticamente\n",
        "np.savez('arreglos', arreglo_1, arreglo_2)\n",
        "\n",
        "# Visualizar el archivo\n",
        "%cat arreglos.npz"
      ],
      "metadata": {
        "colab": {
          "base_uri": "https://localhost:8080/"
        },
        "id": "GyQe1G3vkcp0",
        "outputId": "6c66d2c7-4ba9-443c-88d1-0ce5ab15efa9"
      },
      "execution_count": 24,
      "outputs": [
        {
          "output_type": "stream",
          "name": "stdout",
          "text": [
            "PK\u0003\u0004\u0014\u0000\u0000\u0000\u0000\u0000\u0000\u0000!\u0000�DK[�\u0000\u0000\u0000�\u0000\u0000\u0000\t\u0000\u0014\u0000arr_0.npy\u0001\u0000\u0010\u0000�\u0000\u0000\u0000\u0000\u0000\u0000\u0000�\u0000\u0000\u0000\u0000\u0000\u0000\u0000�NUMPY\u0001\u0000v\u0000{'descr': '<i8', 'fortran_order': False, 'shape': (2, 2), }                                                          \n",
            "\u0001\u0000\u0000\u0000\u0000\u0000\u0000\u0000\u0002\u0000\u0000\u0000\u0000\u0000\u0000\u0000\u0003\u0000\u0000\u0000\u0000\u0000\u0000\u0000\u0004\u0000\u0000\u0000\u0000\u0000\u0000\u0000PK\u0003\u0004\u0014\u0000\u0000\u0000\u0000\u0000\u0000\u0000!\u0000\u001d�Y��\u0000\u0000\u0000�\u0000\u0000\u0000\t\u0000\u0014\u0000arr_1.npy\u0001\u0000\u0010\u0000�\u0000\u0000\u0000\u0000\u0000\u0000\u0000�\u0000\u0000\u0000\u0000\u0000\u0000\u0000�NUMPY\u0001\u0000v\u0000{'descr': '<i8', 'fortran_order': False, 'shape': (2, 2), }                                                          \n",
            "\u0005\u0000\u0000\u0000\u0000\u0000\u0000\u0000\u0006\u0000\u0000\u0000\u0000\u0000\u0000\u0000\u0007\u0000\u0000\u0000\u0000\u0000\u0000\u0000\b\u0000\u0000\u0000\u0000\u0000\u0000\u0000PK\u0001\u0002\u0014\u0003\u0014\u0000\u0000\u0000\u0000\u0000\u0000\u0000!\u0000�DK[�\u0000\u0000\u0000�\u0000\u0000\u0000\t\u0000\u0000\u0000\u0000\u0000\u0000\u0000\u0000\u0000\u0000\u0000�\u0001\u0000\u0000\u0000\u0000arr_0.npyPK\u0001\u0002\u0014\u0003\u0014\u0000\u0000\u0000\u0000\u0000\u0000\u0000!\u0000\u001d�Y��\u0000\u0000\u0000�\u0000\u0000\u0000\t\u0000\u0000\u0000\u0000\u0000\u0000\u0000\u0000\u0000\u0000\u0000�\u0001�\u0000\u0000\u0000arr_1.npyPK\u0005\u0006\u0000\u0000\u0000\u0000\u0002\u0000\u0002\u0000n\u0000\u0000\u0000�\u0001\u0000\u0000\u0000\u0000"
          ]
        }
      ]
    },
    {
      "cell_type": "markdown",
      "metadata": {
        "id": "jlMPlFF5-faA"
      },
      "source": [
        "### Lectura de arreglos a partir de un archivo binario\n",
        "\n",
        "La función ```np.load()``` permite leer arreglos a partir de un archivo con extensión ```.npy``` o ```npz```.\n",
        "\n",
        "```\n",
        "np.load('<ruta>')\n",
        "```"
      ]
    },
    {
      "cell_type": "markdown",
      "metadata": {
        "id": "glMxxOoZ-faA"
      },
      "source": [
        "#### Lectura de archivos ```.npy```.\n",
        "\n",
        "La función ```np.load()``` devuelve un arreglo de tipo ```np.ndarray```."
      ]
    },
    {
      "cell_type": "markdown",
      "metadata": {
        "id": "NUR83ooY-faA"
      },
      "source": [
        "**Ejemplo:**"
      ]
    },
    {
      "cell_type": "code",
      "source": [
        "# Leer el archivo arreglo.npy y guardar en una variable\n",
        "arreglo_leido = np.load('arreglo.npy')\n",
        "print(arreglo_leido)"
      ],
      "metadata": {
        "colab": {
          "base_uri": "https://localhost:8080/"
        },
        "id": "PsmucGhrl2h0",
        "outputId": "07db38a8-c036-4235-b645-67ca95dd702a"
      },
      "execution_count": 25,
      "outputs": [
        {
          "output_type": "stream",
          "name": "stdout",
          "text": [
            "[[1 2]\n",
            " [3 4]]\n"
          ]
        }
      ]
    },
    {
      "cell_type": "markdown",
      "metadata": {
        "id": "D5eSFPBj-faC"
      },
      "source": [
        "#### Lectura de archivos ```.npz```.\n",
        "\n",
        "En el caso de los archivos ```.npz```, la función ```np.load()``` regresará un objeto del tipo ```numpy.lib.npyio.NpzFile```.\n",
        "\n",
        "Los arreglos pueden ser accedidos ya sea mediante iteraciones con ```for``` o mediante una clave.\n",
        "\n",
        "```\n",
        "<objeto-NpzFile>['arr_<n>']\n",
        "```\n",
        "\n",
        "- `<objeto-NpzFile>` es la variable que referencia al objeto NpzFile el cual contiene los arreglos.\n",
        "- ```<n>``` es el índice del arreglo correspondiente a un número entero que va en orden ascendente a partir de ```0```."
      ]
    },
    {
      "cell_type": "markdown",
      "metadata": {
        "id": "pFkdhnf--faC"
      },
      "source": [
        "**Ejemplo:**"
      ]
    },
    {
      "cell_type": "code",
      "execution_count": 26,
      "metadata": {
        "id": "fDkDlDCD-faC",
        "colab": {
          "base_uri": "https://localhost:8080/"
        },
        "outputId": "36a0eb9e-7ffb-40a8-b1a5-263d03ead9f8"
      },
      "outputs": [
        {
          "output_type": "stream",
          "name": "stdout",
          "text": [
            "<class 'numpy.lib.npyio.NpzFile'>\n",
            "[[1 2]\n",
            " [3 4]]\n"
          ]
        }
      ],
      "source": [
        "# Leer el archivo binario arreglos.npz\n",
        "arreglos_cargados = np.load('arreglos.npz')\n",
        "\n",
        "# Visualizar el tipo del objeto\n",
        "print(type(arreglos_cargados))\n",
        "\n",
        "# Acceder al primer arreglo\n",
        "print(arreglos_cargados['arr_0'])\n"
      ]
    },
    {
      "cell_type": "code",
      "source": [
        "# Acceder a todos los arreglos con un iterador for\n",
        "for idx_arr in arreglos_cargados:\n",
        "  print(idx_arr, arreglos_cargados[idx_arr])"
      ],
      "metadata": {
        "colab": {
          "base_uri": "https://localhost:8080/"
        },
        "id": "Xqi_TZE-npPN",
        "outputId": "9e30c9a1-36c2-4c9d-a246-9d682dce0e0a"
      },
      "execution_count": 27,
      "outputs": [
        {
          "output_type": "stream",
          "name": "stdout",
          "text": [
            "arr_0 [[1 2]\n",
            " [3 4]]\n",
            "arr_1 [[5 6]\n",
            " [7 8]]\n"
          ]
        }
      ]
    }
  ],
  "metadata": {
    "kernelspec": {
      "display_name": "Python 3 (ipykernel)",
      "language": "python",
      "name": "python3"
    },
    "language_info": {
      "codemirror_mode": {
        "name": "ipython",
        "version": 3
      },
      "file_extension": ".py",
      "mimetype": "text/x-python",
      "name": "python",
      "nbconvert_exporter": "python",
      "pygments_lexer": "ipython3",
      "version": "3.9.7"
    },
    "colab": {
      "provenance": [],
      "toc_visible": true,
      "include_colab_link": true
    }
  },
  "nbformat": 4,
  "nbformat_minor": 0
}