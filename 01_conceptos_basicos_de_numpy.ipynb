{
  "cells": [
    {
      "cell_type": "markdown",
      "metadata": {
        "id": "view-in-github",
        "colab_type": "text"
      },
      "source": [
        "<a href=\"https://colab.research.google.com/github/carlosramos1/numpy-pandas-matplotlib/blob/main/01_conceptos_basicos_de_numpy.ipynb\" target=\"_parent\"><img src=\"https://colab.research.google.com/assets/colab-badge.svg\" alt=\"Open In Colab\"/></a>"
      ]
    },
    {
      "cell_type": "markdown",
      "metadata": {
        "id": "wgbek0aq6qH6"
      },
      "source": [
        "# Conceptos básicos de *Numpy*."
      ]
    },
    {
      "cell_type": "markdown",
      "metadata": {
        "id": "2oqKn9B36qH7"
      },
      "source": [
        "[*Numpy*](http://www.numpy.org/) es un paquete de Python, el cual provee un **objeto array multidimensional** (vectores y matrices), además de una variedad de **operaciones especializada para dichos arrays** (operaciones matemáticas, lógicas, algebra líneal, etc.).\n",
        "\n",
        "> Documentación: https://docs.scipy.org/doc/numpy/."
      ]
    },
    {
      "cell_type": "markdown",
      "metadata": {
        "id": "T-9mtdCQ6qH-"
      },
      "source": [
        "## Instalación e importación del paquete ```numpy```.\n",
        "\n",
        "- Se puede instalar mediante ```pip```:\n",
        "\n",
        "\n",
        "```\n",
        "pip install numpy\n",
        "```\n",
        "\n",
        "- Se debe importar el paquete *NumPy* al proyecto:"
      ]
    },
    {
      "cell_type": "code",
      "execution_count": null,
      "metadata": {
        "id": "9OIATEV66qIE"
      },
      "outputs": [],
      "source": [
        "import numpy as np\n",
        "# Por convención se usa 'np' como alias de numpy"
      ]
    },
    {
      "cell_type": "markdown",
      "metadata": {
        "id": "G2A9qre16qIF"
      },
      "source": [
        "## Arreglos en *Numpy* `ndarray`.\n",
        "\n",
        "El elemento primordial de *Numpy* es el objeto `ndarray`, Este objeto encapsula un array multidimensional de tipos de **datos homogéneos**.\n",
        "\n",
        "Los arrays de *NumPy*:\n",
        "\n",
        "- Son de **tamaño fijo**.\n",
        "- Todos **los elementos** deben ser del **mismo tipo**.\n",
        "- Son más eficientes que las secuencias estándar de Python."
      ]
    },
    {
      "cell_type": "code",
      "source": [
        "type(np.array([]))"
      ],
      "metadata": {
        "colab": {
          "base_uri": "https://localhost:8080/"
        },
        "id": "YOEAKB3WyGHI",
        "outputId": "4a2ac15b-fec7-4764-bf7f-b030910874e4"
      },
      "execution_count": null,
      "outputs": [
        {
          "output_type": "execute_result",
          "data": {
            "text/plain": [
              "numpy.ndarray"
            ]
          },
          "metadata": {},
          "execution_count": 2
        }
      ]
    },
    {
      "cell_type": "markdown",
      "source": [
        "### Crear arreglos *Numpy*\n",
        "Existen muchas maneras para crear arreglos, la manera más usual es mediante la función:\n",
        "\n",
        "```\n",
        "np.array(<estructura del arreglo> [,dtype=<tipo>])\n",
        "```\n",
        "\n",
        "* `<estructura del arreglo>` es una **colección de datos indexables** (listas, tuplas, etc.) que pueden contener a su vez otras colecciones.\n",
        "\n",
        "* `dtype=<tipo>` indica el **tipo de dato de los elementos del arreglo**. En caso de que no se defina, *NumPy*  tratará de deducirlo."
      ],
      "metadata": {
        "id": "tBwXbGr0VHzG"
      }
    },
    {
      "cell_type": "code",
      "source": [
        "# Crear un array Numpy a partir de una lista\n",
        "arr = np.array([1,2,3,4])\n",
        "arr"
      ],
      "metadata": {
        "colab": {
          "base_uri": "https://localhost:8080/"
        },
        "id": "K4cCXIO2ptsg",
        "outputId": "32b2455a-02fc-4adf-d19f-10fe014c7019"
      },
      "execution_count": null,
      "outputs": [
        {
          "output_type": "execute_result",
          "data": {
            "text/plain": [
              "array([1, 2, 3, 4])"
            ]
          },
          "metadata": {},
          "execution_count": 3
        }
      ]
    },
    {
      "cell_type": "code",
      "source": [
        "# Crear un array Numpy a partir de tuplas\n",
        "np.array(((1,2),(3,4)))"
      ],
      "metadata": {
        "id": "W9lxZW9g5jXU",
        "outputId": "90bd1f9c-72e6-437a-e570-983d3b1a9cfd",
        "colab": {
          "base_uri": "https://localhost:8080/"
        }
      },
      "execution_count": null,
      "outputs": [
        {
          "output_type": "execute_result",
          "data": {
            "text/plain": [
              "array([[1, 2],\n",
              "       [3, 4]])"
            ]
          },
          "metadata": {},
          "execution_count": 4
        }
      ]
    },
    {
      "cell_type": "markdown",
      "metadata": {
        "id": "HIV_i65b6qIN"
      },
      "source": [
        "### Dimensión, forma y tamaño de los arreglos.\n",
        "\n",
        "Los arreglos de *Numpy* son estructuras que a su vez pueden contener arreglos, a esto se denomina \"dimensiones\".\n",
        "\n",
        "Todos los arreglos en una dimensión específica deben de contener el mismo número de elementos.\n",
        "\n",
        "**El atributo `ndim`**\n",
        "\n",
        "Indica el número de dimensiones del arreglo. *Retorna un número entero*.\n",
        "\n",
        "**El atributo `shape`**\n",
        "\n",
        "Describe el número de elementos que contiene cada dimensión. *Retorna una tupla*\n",
        "\n",
        "```\n",
        "(<n1>, <n2>, <n3> ... <nm>)\n",
        "```\n",
        "\n",
        "* Donde ```<n1>``` corresponde al número de elementos en la primera dimensión, así sucesivamente hasta la última dimensión ```<nm>```.\n",
        "\n",
        "**El atributo `size`**\n",
        "\n",
        "Contiene el número total de elementos del arreglo. *Retorna un número entero*."
      ]
    },
    {
      "cell_type": "markdown",
      "source": [
        "#### Ejemplos ilustrativos\n",
        "\n",
        "```\n",
        "[1,2,3]         -> ndim:1, shape:(3,), size: 3\n",
        "\n",
        "[[1,2,3],\n",
        " [4,5,6]]       -> ndim:2, shape:(2,3), size: 6\n",
        "\n",
        "[[[1,2,3],\n",
        "  [3,2,1]],\n",
        " [[5,6,7],\n",
        "  [7,6,5]]]     -> ndim:3, shape:(2,2,3), size: 12\n",
        "\n",
        "[[[1,2,3,4],\n",
        "  [4,3,2,1]],\n",
        " [[5,6,7,8],\n",
        "  [8,7,6,5]],\n",
        " [[7,8,9,0],\n",
        "  [0,9,8,7]]]   -> ndim:?, shape:(?), size: ?\n",
        "```"
      ],
      "metadata": {
        "id": "eJ0arf1wcVRs"
      }
    },
    {
      "cell_type": "markdown",
      "source": [
        "**Ejemplo**: Array de una dimensión"
      ],
      "metadata": {
        "id": "iqeuc8Whn74q"
      }
    },
    {
      "cell_type": "code",
      "source": [
        "# Creando un arreglo de 1 dimensión\n",
        "one_dim = np.array([1,2,3])\n",
        "print(one_dim)\n",
        "print(f\"ndim:  \\t{one_dim.ndim}\")\n",
        "print(f\"shape: \\t{one_dim.shape}\")\n",
        "print(f\"size:  \\t{one_dim.size}\")"
      ],
      "metadata": {
        "colab": {
          "base_uri": "https://localhost:8080/"
        },
        "id": "FJ9g_iMERwQW",
        "outputId": "16edeee5-02f0-46ec-e35c-00c8adf1ae09"
      },
      "execution_count": null,
      "outputs": [
        {
          "output_type": "stream",
          "name": "stdout",
          "text": [
            "[1 2 3]\n",
            "ndim:  \t1\n",
            "shape: \t(3,)\n",
            "size:  \t3\n"
          ]
        }
      ]
    },
    {
      "cell_type": "markdown",
      "source": [
        "**Ejemplo**: Array de dos dimensiones"
      ],
      "metadata": {
        "id": "DQ_Sb-MDn_i_"
      }
    },
    {
      "cell_type": "code",
      "source": [
        "# Creando un arreglo de 2 dimensiones\n",
        "two_dim = np.array([[1,2,3],\n",
        "                    [4,5,6]])\n",
        "print(two_dim)\n",
        "print(f\"ndim:  \\t{two_dim.ndim}\")\n",
        "print(f\"shape: \\t{two_dim.shape}\")\n",
        "print(f\"size:  \\t{two_dim.size}\")\n"
      ],
      "metadata": {
        "outputId": "ca06566a-af0c-4c23-b814-610553bc749e",
        "colab": {
          "base_uri": "https://localhost:8080/"
        },
        "id": "08EyudIxTBY_"
      },
      "execution_count": null,
      "outputs": [
        {
          "output_type": "stream",
          "name": "stdout",
          "text": [
            "[[1 2 3]\n",
            " [4 5 6]]\n",
            "ndim:  \t2\n",
            "shape: \t(2, 3)\n",
            "size:  \t6\n"
          ]
        }
      ]
    },
    {
      "cell_type": "markdown",
      "source": [
        "**Ejemplo:** Array de tres dimensiones"
      ],
      "metadata": {
        "id": "dbFQX5LRUKPe"
      }
    },
    {
      "cell_type": "code",
      "source": [
        "# Creando un array de 3 dimensiones\n",
        "three_dim = np.array([[[1,2,3],\n",
        "                       [3,2,1]],\n",
        "                      [[5,6,7],\n",
        "                       [7,6,5]]])\n",
        "print(three_dim)\n",
        "print(f\"ndim:  \\t{three_dim.ndim}\")\n",
        "print(f\"shape: \\t{three_dim.shape}\")\n",
        "print(f\"size:  \\t{three_dim.size}\")"
      ],
      "metadata": {
        "colab": {
          "base_uri": "https://localhost:8080/"
        },
        "id": "AkG6YnQkTcJV",
        "outputId": "672c381a-7bdc-49f7-b564-de58d035d533"
      },
      "execution_count": null,
      "outputs": [
        {
          "output_type": "stream",
          "name": "stdout",
          "text": [
            "[[[1 2 3]\n",
            "  [3 2 1]]\n",
            "\n",
            " [[5 6 7]\n",
            "  [7 6 5]]]\n",
            "ndim:  \t3\n",
            "shape: \t(2, 2, 3)\n",
            "size:  \t12\n"
          ]
        }
      ]
    },
    {
      "cell_type": "code",
      "source": [
        "# Ejercicio. Crear el array restante del ejemplo ilustrativo\n"
      ],
      "metadata": {
        "colab": {
          "base_uri": "https://localhost:8080/"
        },
        "id": "huoQYpL5oJaU",
        "outputId": "789baad3-243c-4fc6-b643-6a5ca6d66821"
      },
      "execution_count": null,
      "outputs": [
        {
          "output_type": "stream",
          "name": "stdout",
          "text": [
            "3\n",
            "(3, 2, 4)\n",
            "24\n"
          ]
        }
      ]
    },
    {
      "cell_type": "markdown",
      "metadata": {
        "id": "0vo8D1eW6qIj"
      },
      "source": [
        "## Tipos de datos de *Numpy*.\n",
        "\n",
        "*Numpy* define tipos de datos que **extienden a los tipos de datos de Python**.\n",
        "\n",
        "Existen tipos numéricos, booleanos, strings, entre otros. Cada tipo a su vez puede subcategorizarce dependiendo del número de bits asignado.\n",
        "\n",
        "Más info: https://numpy.org/devdocs/user/basics.types.html"
      ]
    },
    {
      "cell_type": "markdown",
      "metadata": {
        "id": "jTlo5C3X6qIj"
      },
      "source": [
        "### El atributo ```dtype```.\n",
        "\n",
        "Este atributo contiene el tipo de dato de un arreglo."
      ]
    },
    {
      "cell_type": "code",
      "execution_count": null,
      "metadata": {
        "id": "wPeFIaz66qIk",
        "colab": {
          "base_uri": "https://localhost:8080/"
        },
        "outputId": "2ff87490-a97b-4dd1-8d39-eb9754ce265b"
      },
      "outputs": [
        {
          "output_type": "execute_result",
          "data": {
            "text/plain": [
              "dtype('int64')"
            ]
          },
          "metadata": {},
          "execution_count": 12
        }
      ],
      "source": [
        "a = np.array([[1, 2, 3],\n",
        "              [4, 5, 6]])\n",
        "a.dtype"
      ]
    },
    {
      "cell_type": "markdown",
      "metadata": {
        "id": "vzhRI9O46qIk"
      },
      "source": [
        "### Tipos enteros.\n",
        "\n",
        "* Es posible definir enteros de distintos tamaños como ```np.int```, ```np.int8```, ```np.int16```, ```np.int32``` y ```np.int64```, los cuales pueden ser positivos, negativos o cero.\n",
        "\n",
        "* Es posible definir **enteros sin signo**, tales como ```np.uint```,  ```np.uint8```, ```np.uint16```, ```np.uint32``` y ```np.uint64```.\n",
        "\n",
        "> **Nota**: Si no se define el tipo de dato, Python definirá: ```int32``` o ```int64``` dependiendo del sistema en el que se ejecute."
      ]
    },
    {
      "cell_type": "markdown",
      "metadata": {
        "id": "w6iH4UYR6qIk"
      },
      "source": [
        "**Ejemplos:**"
      ]
    },
    {
      "cell_type": "code",
      "execution_count": null,
      "metadata": {
        "id": "UNTQcAAN6qIl",
        "colab": {
          "base_uri": "https://localhost:8080/"
        },
        "outputId": "fd7339e4-fa67-4bca-fb36-811ab9a43659"
      },
      "outputs": [
        {
          "output_type": "execute_result",
          "data": {
            "text/plain": [
              "dtype('int64')"
            ]
          },
          "metadata": {},
          "execution_count": 13
        }
      ],
      "source": [
        "# por defecto\n",
        "np.array(((-1, 2), (3, 4))).dtype"
      ]
    },
    {
      "cell_type": "code",
      "execution_count": null,
      "metadata": {
        "id": "8h41dLSi6qIm",
        "colab": {
          "base_uri": "https://localhost:8080/"
        },
        "outputId": "dddebd80-ffff-4c0b-b6ba-dc82aa7ae1b7"
      },
      "outputs": [
        {
          "output_type": "execute_result",
          "data": {
            "text/plain": [
              "dtype('int16')"
            ]
          },
          "metadata": {},
          "execution_count": 8
        }
      ],
      "source": [
        "# Definiendo el tipo int16\n",
        "np.array(((1, 2), (-3, -4)), dtype = np.int16).dtype"
      ]
    },
    {
      "cell_type": "code",
      "execution_count": null,
      "metadata": {
        "scrolled": true,
        "id": "wV5O5nw46qIm",
        "colab": {
          "base_uri": "https://localhost:8080/"
        },
        "outputId": "d17f118d-d9fd-4e35-ad3f-d7e56b0fb5d2"
      },
      "outputs": [
        {
          "output_type": "execute_result",
          "data": {
            "text/plain": [
              "dtype('uint64')"
            ]
          },
          "metadata": {},
          "execution_count": 100
        }
      ],
      "source": [
        "# Definiendo el tipo uint64 (sin signo)\n",
        "np.array(((1, 2), (3, 4)), dtype = np.uint64).dtype"
      ]
    },
    {
      "cell_type": "markdown",
      "metadata": {
        "id": "gw24oBPE6qIq"
      },
      "source": [
        "### Tipos de punto flotante.\n",
        "\n",
        "- Los tipos de punto flotante **siempre tendrán un signo** y son ```np.float``` ```np.float16```, ```np.float32```, ```np.float64```, ```np.float128```.\n",
        "\n",
        "- Si el array contiene números enteros y flotantes, **Python convertirá** los enteros al tipo más genérico, en este caso **al tipo de punto flotante**.\n",
        "\n",
        "> **Nota**: Si no se define el tipo de dato, Python utilizará: ```float32``` o ```float64``` dependiendo del sistema en el que se ejecute."
      ]
    },
    {
      "cell_type": "markdown",
      "metadata": {
        "id": "acJF-sxA6qIq"
      },
      "source": [
        "**Ejemplos:**"
      ]
    },
    {
      "cell_type": "code",
      "execution_count": null,
      "metadata": {
        "id": "pXCWkacH6qIr",
        "colab": {
          "base_uri": "https://localhost:8080/"
        },
        "outputId": "311fa673-e0b2-47cd-ebda-5c86b0c6bda7"
      },
      "outputs": [
        {
          "output_type": "execute_result",
          "data": {
            "text/plain": [
              "dtype('float64')"
            ]
          },
          "metadata": {},
          "execution_count": 101
        }
      ],
      "source": [
        "# por defecto\n",
        "np.array([1., 2.6, 3.7]).dtype"
      ]
    },
    {
      "cell_type": "code",
      "execution_count": null,
      "metadata": {
        "id": "lia0EDlz6qIr",
        "colab": {
          "base_uri": "https://localhost:8080/"
        },
        "outputId": "73f16ce6-6dc1-4e06-c640-8d4fbcf40b55"
      },
      "outputs": [
        {
          "output_type": "execute_result",
          "data": {
            "text/plain": [
              "dtype('float128')"
            ]
          },
          "metadata": {},
          "execution_count": 103
        }
      ],
      "source": [
        "# Especificando el tipo\n",
        "np.array([1., 2.6, 3.7], dtype=np.float128).dtype"
      ]
    },
    {
      "cell_type": "code",
      "source": [
        "# Mezclando tipos numericos\n",
        "np.array([1, 2.0, 3, 4.0]).dtype\n",
        "## [1. 2. 3. 4.]"
      ],
      "metadata": {
        "id": "DRJ79oZz4uQa",
        "outputId": "7b889068-8bda-4320-e1a2-94fb591308d1",
        "colab": {
          "base_uri": "https://localhost:8080/"
        }
      },
      "execution_count": null,
      "outputs": [
        {
          "output_type": "execute_result",
          "data": {
            "text/plain": [
              "dtype('float64')"
            ]
          },
          "metadata": {},
          "execution_count": 102
        }
      ]
    },
    {
      "cell_type": "markdown",
      "metadata": {
        "id": "vFnpojpv6qIn"
      },
      "source": [
        "### ~~Tipos de bytes~~\n",
        "\n",
        "~~Numpy puede gestionar arreglos de *bytes*.~~ (Deprecado) En su lugar usar `int8` o `uint8`"
      ]
    },
    {
      "cell_type": "markdown",
      "metadata": {
        "id": "gOFtMa0x6qIs"
      },
      "source": [
        "### Tipos complejos.\n",
        "\n",
        "Los tipos de número complejo de *Numpy* son: ```np.complex_```, ```np.complex32```, ```np.complex128```, ```np.complex256```."
      ]
    },
    {
      "cell_type": "markdown",
      "metadata": {
        "id": "JXBWjXBH6qIs"
      },
      "source": [
        "**Ejemplo:**"
      ]
    },
    {
      "cell_type": "code",
      "execution_count": null,
      "metadata": {
        "id": "36QPbrQG6qIs",
        "colab": {
          "base_uri": "https://localhost:8080/"
        },
        "outputId": "f7e06de2-1d51-4aee-f035-2977ccb5bdb4"
      },
      "outputs": [
        {
          "output_type": "execute_result",
          "data": {
            "text/plain": [
              "array([[  0.  +2.56000000e+01j,  11.24+0.00000000e+00j],\n",
              "       [-21.89-1.57021744e+07j,   0.  +0.00000000e+00j]])"
            ]
          },
          "metadata": {},
          "execution_count": 17
        }
      ],
      "source": [
        "complejos = np.array([[25.6j, 11.24],\n",
        "                      [-21.890-15702174.43j, 0]], dtype=np.complex_)\n",
        "complejos"
      ]
    },
    {
      "cell_type": "code",
      "execution_count": null,
      "metadata": {
        "id": "cE9PSuhT6qIt",
        "colab": {
          "base_uri": "https://localhost:8080/"
        },
        "outputId": "df2ea43e-b7ea-4196-89f7-5d47da34330b"
      },
      "outputs": [
        {
          "output_type": "execute_result",
          "data": {
            "text/plain": [
              "dtype('complex128')"
            ]
          },
          "metadata": {},
          "execution_count": 18
        }
      ],
      "source": [
        "complejos.dtype"
      ]
    },
    {
      "cell_type": "markdown",
      "metadata": {
        "id": "DLrmWLib6qIt"
      },
      "source": [
        "### Tipos booleanos.\n",
        "\n",
        "El tipo ```np.bool_``` permite crear arreglos con valores booleanos.\n",
        "\n",
        ">**Nota** recordar que Python identfica como ```True``` a cualquier valor distinto de ```0```."
      ]
    },
    {
      "cell_type": "markdown",
      "metadata": {
        "id": "uUAiJwRz6qIt"
      },
      "source": [
        "**Ejemplo:**"
      ]
    },
    {
      "cell_type": "code",
      "execution_count": null,
      "metadata": {
        "id": "too4QemX6qIu",
        "colab": {
          "base_uri": "https://localhost:8080/"
        },
        "outputId": "4527a4f3-a4c8-4d87-dac5-089c12457f78"
      },
      "outputs": [
        {
          "output_type": "execute_result",
          "data": {
            "text/plain": [
              "array([[ True,  True],\n",
              "       [False, False]])"
            ]
          },
          "metadata": {},
          "execution_count": 4
        }
      ],
      "source": [
        "arr_booleans = np.array(((1,'Hola'),\n",
        "                         (False, 0)), dtype = np.bool_)\n",
        "arr_booleans"
      ]
    },
    {
      "cell_type": "code",
      "source": [
        "arr_booleans.dtype"
      ],
      "metadata": {
        "colab": {
          "base_uri": "https://localhost:8080/"
        },
        "id": "ZucqUYvZ0HNh",
        "outputId": "7b358470-cb82-498b-946c-36aafcdeec26"
      },
      "execution_count": null,
      "outputs": [
        {
          "output_type": "execute_result",
          "data": {
            "text/plain": [
              "dtype('bool')"
            ]
          },
          "metadata": {},
          "execution_count": 20
        }
      ]
    },
    {
      "cell_type": "markdown",
      "metadata": {
        "id": "fADYlYus6qIu"
      },
      "source": [
        "### Tipos de texto.\n",
        "\n",
        "Los textos pueden ser de tipo ```np.unicode_``` (denotado por `U`) o ```np.bytes_``` (denotado por `S`).\n",
        "\n",
        "El tamaño de los elementos (*strings*) será definido por el elemento de texto más extenso.\n"
      ]
    },
    {
      "cell_type": "markdown",
      "metadata": {
        "id": "45VIWJoH6qIv"
      },
      "source": [
        "**Ejemplos:**"
      ]
    },
    {
      "cell_type": "code",
      "execution_count": null,
      "metadata": {
        "id": "-brsq_1r6qIv",
        "colab": {
          "base_uri": "https://localhost:8080/"
        },
        "outputId": "36bccc6d-46f8-4754-d1e9-7a9a3bc35ba4"
      },
      "outputs": [
        {
          "output_type": "execute_result",
          "data": {
            "text/plain": [
              "dtype('<U19')"
            ]
          },
          "metadata": {},
          "execution_count": 5
        }
      ],
      "source": [
        "# Por defecto es unicode\n",
        "np.array((['Hugo', 'Paco'],\n",
        "          ['Luis Ignacio albert', 'Donald'])).dtype\n",
        "# el tipo es '<U19' porque el texto más largo es de tamaño 19."
      ]
    },
    {
      "cell_type": "code",
      "execution_count": null,
      "metadata": {
        "id": "Y_vj7E2K6qIv",
        "colab": {
          "base_uri": "https://localhost:8080/"
        },
        "outputId": "ce9deb78-60ae-4518-9145-47ad0651a3f6"
      },
      "outputs": [
        {
          "output_type": "execute_result",
          "data": {
            "text/plain": [
              "dtype('<U12')"
            ]
          },
          "metadata": {},
          "execution_count": 23
        }
      ],
      "source": [
        "np.array((['Hugo', 'Paco'],['Luis Ignacio', 'Donald']), dtype = np.unicode_).dtype"
      ]
    },
    {
      "cell_type": "code",
      "execution_count": null,
      "metadata": {
        "id": "EsTOfit06qIw",
        "colab": {
          "base_uri": "https://localhost:8080/"
        },
        "outputId": "1545f44c-e935-4b8e-b46f-e984b56d9b28"
      },
      "outputs": [
        {
          "output_type": "execute_result",
          "data": {
            "text/plain": [
              "dtype('S12')"
            ]
          },
          "metadata": {},
          "execution_count": 31
        }
      ],
      "source": [
        "np.array((['Hugo', 'Paco'],['Luis Ignacio', 'Donald']), dtype = np.bytes_).dtype"
      ]
    },
    {
      "cell_type": "markdown",
      "source": [
        "Es posible definir el tamaño de los elementos a través del argumento ```dtype```:\n",
        "\n",
        "``` python\n",
        "dtype=\"<S<tamaño>\"\n",
        "dtype=\"<U<tamaño>\"\n",
        "```\n",
        "> Siendo ```S``` para *string* y ```U``` para *unicode*. `<` indica que el tamaño del texto será menor o igual al número especificado."
      ],
      "metadata": {
        "id": "b0OWj2E11IiR"
      }
    },
    {
      "cell_type": "code",
      "execution_count": null,
      "metadata": {
        "id": "2Nc8zHs-6qIw",
        "colab": {
          "base_uri": "https://localhost:8080/"
        },
        "outputId": "ad8da99e-9988-4e64-9f5f-cdcf32e46318"
      },
      "outputs": [
        {
          "output_type": "execute_result",
          "data": {
            "text/plain": [
              "array([['Hugo', 'Paco'],\n",
              "       ['Luis', 'Dona']], dtype='<U4')"
            ]
          },
          "metadata": {},
          "execution_count": 32
        }
      ],
      "source": [
        "np.array((['Hugo', 'Paco'],['Luis', 'Donaldo']), dtype = \"<U4\")"
      ]
    },
    {
      "cell_type": "markdown",
      "metadata": {
        "id": "ilt4ujcH6qIL"
      },
      "source": [
        "### El tipo ```np.object```.\n",
        "\n",
        "*NumPy* tiene un tipo de dato especial llamado `object` el cual \"permite almacenar datos de diferentes tipos\" en un array de *NumPy*\n",
        "\n",
        ">**Nota** Se recomienda que **todos los elementos del array sean del mismo tipo** para que *NumPy* sea eficiente en términos de rendimiento y memoria."
      ]
    },
    {
      "cell_type": "code",
      "source": [
        "mix_arr = np.array(['d', 3 , (12, 6, True)], dtype=object)\n",
        "# se debe indicar obligatoriamente el tipo `object`\n",
        "mix_arr.dtype"
      ],
      "metadata": {
        "colab": {
          "base_uri": "https://localhost:8080/"
        },
        "id": "hQNYBQ49v5FF",
        "outputId": "1ae7d6a1-dc91-49aa-a2f9-93741e8a3f3e"
      },
      "execution_count": null,
      "outputs": [
        {
          "output_type": "execute_result",
          "data": {
            "text/plain": [
              "dtype('O')"
            ]
          },
          "metadata": {},
          "execution_count": 113
        }
      ]
    },
    {
      "cell_type": "markdown",
      "metadata": {
        "id": "aODL5ijC6qIx"
      },
      "source": [
        "## Tipos de fecha."
      ]
    },
    {
      "cell_type": "markdown",
      "metadata": {
        "id": "x5xTe_MW6qIy"
      },
      "source": [
        "### El tipo ```np.datetime64```.\n",
        "\n",
        "Permite representar una fecha y hora, además es compatible con objetos de tipo ```datetime``` de Python.\n",
        "\n",
        "Se puede definir:\n",
        "\n",
        "- Op. 1: a traves de un string:\n",
        "\n",
        "```\n",
        "np.datetime64('<aaaa>-<mm>-<dd>T<hh>:<mm>:<seg>')\n",
        "\n",
        "```\n",
        "- Op. 2: a traves de un objeto `datetime`\n",
        "\n",
        "\n",
        "```\n",
        "np.datetime64(<objeto datetime>)\n",
        "```\n",
        "\n"
      ]
    },
    {
      "cell_type": "markdown",
      "metadata": {
        "id": "s-_rsk5w6qIy"
      },
      "source": [
        "**Ejemplo:**"
      ]
    },
    {
      "cell_type": "code",
      "source": [
        "# Op. 1\n",
        "fechas = np.array([np.datetime64(\"2019-08-25T23:59:45.231\"),\n",
        "                   np.datetime64(\"2020-07-23\")])\n",
        "fechas"
      ],
      "metadata": {
        "colab": {
          "base_uri": "https://localhost:8080/"
        },
        "id": "XAFbAfWe2BQm",
        "outputId": "81ce6efd-f422-49f7-a62b-9847d0225413"
      },
      "execution_count": null,
      "outputs": [
        {
          "output_type": "execute_result",
          "data": {
            "text/plain": [
              "array(['2019-08-25T23:59:45.231', '2020-07-23T00:00:00.000'],\n",
              "      dtype='datetime64[ms]')"
            ]
          },
          "metadata": {},
          "execution_count": 8
        }
      ]
    },
    {
      "cell_type": "code",
      "execution_count": null,
      "metadata": {
        "id": "K1odaItB6qIz",
        "colab": {
          "base_uri": "https://localhost:8080/"
        },
        "outputId": "b926b000-33c2-4c65-91a8-48e7e4c3f46f"
      },
      "outputs": [
        {
          "output_type": "execute_result",
          "data": {
            "text/plain": [
              "array(['2018-12-22T00:00:00.000000', '2019-03-01T11:25:00.000000'],\n",
              "      dtype='datetime64[us]')"
            ]
          },
          "metadata": {},
          "execution_count": 9
        }
      ],
      "source": [
        "# Op. 2\n",
        "from datetime import datetime\n",
        "\n",
        "fechas = np.array(\n",
        "     [np.datetime64(datetime(year=2018, month=12, day=22)),\n",
        "      np.datetime64(\"2019-03-01T11:25\")])\n",
        "fechas"
      ]
    },
    {
      "cell_type": "markdown",
      "metadata": {
        "id": "8VBVdP2R6qI0"
      },
      "source": [
        "### El tipo ```np.deltatime```.\n",
        "\n",
        "El tipo ```np.deltatime``` es un valor numérico que corresponde a los segundos en un lapso de tiempo específico usando microsegundos como unidad de medida."
      ]
    },
    {
      "cell_type": "markdown",
      "metadata": {
        "id": "RxzJXrGY6qI0"
      },
      "source": [
        "**Ejemplo:**"
      ]
    },
    {
      "cell_type": "code",
      "execution_count": null,
      "metadata": {
        "id": "o-7-rmZs6qI1",
        "colab": {
          "base_uri": "https://localhost:8080/"
        },
        "outputId": "bd30d8b1-7127-4b21-eb55-15d744f83c8b"
      },
      "outputs": [
        {
          "output_type": "execute_result",
          "data": {
            "text/plain": [
              "array([200180138407340, 194177438407340], dtype='timedelta64[us]')"
            ]
          },
          "metadata": {},
          "execution_count": 14
        }
      ],
      "source": [
        "np.datetime64(datetime.now()) - fechas"
      ]
    },
    {
      "cell_type": "markdown",
      "source": [
        "> El ejemplo anterior usa la propiedad \"broadcasting\" explicado mas adelante."
      ],
      "metadata": {
        "id": "a_BWb07g28Qj"
      }
    },
    {
      "cell_type": "markdown",
      "metadata": {
        "id": "TgIprUpT6qI1"
      },
      "source": [
        "## Valores numéricos especiales.\n",
        "\n",
        "*Numpy* es capaz de reconocer números indeterminados e infinitos."
      ]
    },
    {
      "cell_type": "markdown",
      "metadata": {
        "id": "bPjfhkiM6qI2"
      },
      "source": [
        "### El valor ```np.nan```.\n",
        "\n",
        "*Numpy* utiliza ```np.nan``` cuando el valor **no se trata de un número o es una indeterminación**."
      ]
    },
    {
      "cell_type": "markdown",
      "metadata": {
        "id": "MWRjhP8l6qI2"
      },
      "source": [
        "### El valor ```np.inf```.\n",
        "\n",
        "El valor ```np.inf``` representa un **número muy grande** que no puede ser calculado (infinito). Dicho valor **puede llevar signo**."
      ]
    },
    {
      "cell_type": "markdown",
      "metadata": {
        "id": "hNGbg2DV6qI2"
      },
      "source": [
        "**Ejemplos:**"
      ]
    },
    {
      "cell_type": "markdown",
      "metadata": {
        "id": "3NGJuxI76qI3"
      },
      "source": [
        "* La siguiente celda definirá un arreglo con valores ```np.inf```, ```np.nan```"
      ]
    },
    {
      "cell_type": "code",
      "execution_count": null,
      "metadata": {
        "id": "oQH4C3c46qI4",
        "colab": {
          "base_uri": "https://localhost:8080/"
        },
        "outputId": "705d5972-67ef-4409-9571-d058a33f5858"
      },
      "outputs": [
        {
          "output_type": "execute_result",
          "data": {
            "text/plain": [
              "array([[inf, nan],\n",
              "       [ 1.,  3.]])"
            ]
          },
          "metadata": {},
          "execution_count": 6
        }
      ],
      "source": [
        "np.array([[np.inf, np.nan],[1, 3]])"
      ]
    },
    {
      "cell_type": "markdown",
      "metadata": {
        "id": "ksEfFjjP6qI2"
      },
      "source": [
        "* La siguiente celda creará un arreglo de números llamado ```numeros```."
      ]
    },
    {
      "cell_type": "code",
      "execution_count": null,
      "metadata": {
        "scrolled": true,
        "id": "dhvRL67-6qI2",
        "colab": {
          "base_uri": "https://localhost:8080/"
        },
        "outputId": "06a3e7bb-13b3-4145-9c49-ef1108f0b7fe"
      },
      "outputs": [
        {
          "output_type": "execute_result",
          "data": {
            "text/plain": [
              "array([[ 1,  0],\n",
              "       [-1,  1]])"
            ]
          },
          "metadata": {},
          "execution_count": 35
        }
      ],
      "source": [
        "numeros = np.array(([1, 0],[-1, 1]))\n",
        "numeros"
      ]
    },
    {
      "cell_type": "markdown",
      "metadata": {
        "id": "T_jbjlX_6qI3"
      },
      "source": [
        "* La siguiente celda dividirá entre ```0``` a cada elemento del arreglo ```numeros```. Debido a esto, es posible que el intérprete muestre algunas advertencias. Sin embargo, el resultado será un arreglo que contiene valores ```np.inf```, ```-np.inf``` y ```np.nan```.  "
      ]
    },
    {
      "cell_type": "code",
      "execution_count": null,
      "metadata": {
        "id": "AsBuHGdb6qI3",
        "colab": {
          "base_uri": "https://localhost:8080/"
        },
        "outputId": "c958bb4a-31fa-4754-d160-99ac2d3d274c"
      },
      "outputs": [
        {
          "output_type": "stream",
          "name": "stderr",
          "text": [
            "<ipython-input-36-4602ef416f76>:1: RuntimeWarning: divide by zero encountered in divide\n",
            "  numeros / 0\n",
            "<ipython-input-36-4602ef416f76>:1: RuntimeWarning: invalid value encountered in divide\n",
            "  numeros / 0\n"
          ]
        },
        {
          "output_type": "execute_result",
          "data": {
            "text/plain": [
              "array([[ inf,  nan],\n",
              "       [-inf,  inf]])"
            ]
          },
          "metadata": {},
          "execution_count": 36
        }
      ],
      "source": [
        "numeros / 0"
      ]
    },
    {
      "cell_type": "markdown",
      "metadata": {
        "id": "1eShmhJ26qI4"
      },
      "source": [
        "* Aquí un ejemplo de cuando el número excede la capacidad del sistema, lo considera como `np.inf`."
      ]
    },
    {
      "cell_type": "code",
      "execution_count": null,
      "metadata": {
        "id": "89V_nMsc6qI4",
        "colab": {
          "base_uri": "https://localhost:8080/"
        },
        "outputId": "36809e4a-e7ff-4292-a22b-4ec0567ea52a"
      },
      "outputs": [
        {
          "output_type": "stream",
          "name": "stderr",
          "text": [
            "<ipython-input-7-461f6fb53824>:1: RuntimeWarning: overflow encountered in power\n",
            "  np.array((1, 2.5)) ** 2654\n"
          ]
        },
        {
          "output_type": "execute_result",
          "data": {
            "text/plain": [
              "array([ 1., inf])"
            ]
          },
          "metadata": {},
          "execution_count": 7
        }
      ],
      "source": [
        "np.array((1, 2.5)) ** 2654"
      ]
    }
  ],
  "metadata": {
    "kernelspec": {
      "display_name": "Python 3 (ipykernel)",
      "language": "python",
      "name": "python3"
    },
    "language_info": {
      "codemirror_mode": {
        "name": "ipython",
        "version": 3
      },
      "file_extension": ".py",
      "mimetype": "text/x-python",
      "name": "python",
      "nbconvert_exporter": "python",
      "pygments_lexer": "ipython3",
      "version": "3.9.7"
    },
    "colab": {
      "provenance": [],
      "toc_visible": true,
      "include_colab_link": true
    }
  },
  "nbformat": 4,
  "nbformat_minor": 0
}