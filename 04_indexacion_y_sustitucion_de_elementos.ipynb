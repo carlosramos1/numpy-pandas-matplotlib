{
  "cells": [
    {
      "cell_type": "markdown",
      "metadata": {
        "id": "view-in-github",
        "colab_type": "text"
      },
      "source": [
        "<a href=\"https://colab.research.google.com/github/carlosramos1/numpy-pandas-matplotlib/blob/main/04_indexacion_y_sustitucion_de_elementos.ipynb\" target=\"_parent\"><img src=\"https://colab.research.google.com/assets/colab-badge.svg\" alt=\"Open In Colab\"/></a>"
      ]
    },
    {
      "cell_type": "markdown",
      "metadata": {
        "id": "jQj5ch8gF0Dz"
      },
      "source": [
        "# Indexación y modificación de arreglos"
      ]
    },
    {
      "cell_type": "code",
      "execution_count": null,
      "metadata": {
        "id": "YlsD6udCF0D1"
      },
      "outputs": [],
      "source": [
        "import numpy as np"
      ]
    },
    {
      "cell_type": "markdown",
      "source": [
        "## Indexado de arreglos *NumPy*\n",
        "\n",
        "Los `[ ]` permiten acceder a los elementos de un arreglo, de manera similar a las listas de *Python*.\n",
        "\n",
        "Si el arreglo tiene múltiples dimensiones, los indices se separan con `,` para cada dimensión.\n",
        "\n",
        "\n",
        "```\n",
        "<arreglo>[<idx-dim1>, <idx-dim2>, ..., <idx-dimn>]\n",
        "```\n",
        "\n",
        "- `<idx-dimX>` es un número entero mayor o igual a `0`, donde `0` hace referencia al primer elemento de la dimensión en cuestión, así sucesivamente.\n"
      ],
      "metadata": {
        "id": "q6RCvUKbnVNJ"
      }
    },
    {
      "cell_type": "code",
      "source": [
        "a = np.array([4,5,6])\n",
        "\n",
        "b = np.array([[1, 2, 3],\n",
        "              [4, 5, 6]])"
      ],
      "metadata": {
        "id": "KzIX8tkznXR1"
      },
      "execution_count": null,
      "outputs": []
    },
    {
      "cell_type": "code",
      "source": [
        "# Acceder al segundo elemento del array `a`\n",
        "print(a[1])\n",
        "\n",
        "# Acceder al segundo elemento del array `b`\n",
        "print(b[1])"
      ],
      "metadata": {
        "colab": {
          "base_uri": "https://localhost:8080/"
        },
        "id": "pIV1TprznfNL",
        "outputId": "b476a328-594b-4f75-cf58-1ea43e82758b"
      },
      "execution_count": null,
      "outputs": [
        {
          "output_type": "stream",
          "name": "stdout",
          "text": [
            "5\n",
            "[4 5 6]\n"
          ]
        }
      ]
    },
    {
      "cell_type": "code",
      "source": [
        "# Acceder al elemento que tiene el valor de 6 del array `b`\n",
        "b[1,2]"
      ],
      "metadata": {
        "colab": {
          "base_uri": "https://localhost:8080/"
        },
        "id": "OYsKgdFMnzgV",
        "outputId": "4dfc55ad-8a6e-454a-e4db-ccd816036098"
      },
      "execution_count": null,
      "outputs": [
        {
          "output_type": "execute_result",
          "data": {
            "text/plain": [
              "6"
            ]
          },
          "metadata": {},
          "execution_count": 6
        }
      ]
    },
    {
      "cell_type": "markdown",
      "metadata": {
        "id": "BYLHM3TCF0D_"
      },
      "source": [
        "### Rebanado de arreglos *NumPy*.\n",
        "\n",
        "El rebanado permite **acceder a elementos contiguos** de un array, es similar al utilizado en *listas* y *tuplas* de *Python*\n",
        "\n",
        "Si el arreglo tiene múltiples dimensiones, cada rango se separa con `,`.\n",
        "\n",
        "```\n",
        "<arreglo>[<rango-dim1>, <rango-dim2>, ... <rango-dimn>]\n",
        "```\n",
        "\n",
        "Donde:\n",
        "\n",
        "* ```<rango-dimX>``` especifica un rango, y se denota: ```<m>:<n>:<i>```.\n",
        "  - `<m>` es el inicio del rango\n",
        "  - `<n>` es el fin del rango (*no inclusivo*)\n",
        "  - `<i>` es el incremento, que *por defecto* es `1`.\n",
        "\n"
      ]
    },
    {
      "cell_type": "markdown",
      "source": [
        "**Ejemplo**"
      ],
      "metadata": {
        "id": "QuysUgBap56H"
      }
    },
    {
      "cell_type": "code",
      "source": [
        "#                Gr-1      Gr-2\n",
        "x = np.array([[[1,3,5], [7, 9,11]],     # num impares\n",
        "              [[2,4,6], [8,10,12]],     # num pares\n",
        "              [[2,3,5], [7,11,13]]])    # num primos\n",
        "x.shape"
      ],
      "metadata": {
        "colab": {
          "base_uri": "https://localhost:8080/"
        },
        "id": "Dq6hxmaqnrC4",
        "outputId": "05c535f2-e477-45a9-d93b-6cfe3d6cd7d0"
      },
      "execution_count": null,
      "outputs": [
        {
          "output_type": "execute_result",
          "data": {
            "text/plain": [
              "(3, 2, 3)"
            ]
          },
          "metadata": {},
          "execution_count": 3
        }
      ]
    },
    {
      "cell_type": "code",
      "source": [
        "# Obtener los números pares y primos\n",
        "x[1:3]"
      ],
      "metadata": {
        "colab": {
          "base_uri": "https://localhost:8080/"
        },
        "id": "sDmbmyx-oNPt",
        "outputId": "f025b762-abd2-4e80-9605-f139a7f8b944"
      },
      "execution_count": null,
      "outputs": [
        {
          "output_type": "execute_result",
          "data": {
            "text/plain": [
              "array([[[ 2,  4,  6],\n",
              "        [ 8, 10, 12]],\n",
              "\n",
              "       [[ 2,  3,  5],\n",
              "        [ 7, 11, 13]]])"
            ]
          },
          "metadata": {},
          "execution_count": 47
        }
      ]
    },
    {
      "cell_type": "code",
      "source": [
        "# Obtener los números impares y pares del Gr-2\n",
        "x[0:2, 1]"
      ],
      "metadata": {
        "colab": {
          "base_uri": "https://localhost:8080/"
        },
        "id": "92q-DnubozoT",
        "outputId": "59facf7a-749a-4537-a1bb-fe8ca81de77e"
      },
      "execution_count": null,
      "outputs": [
        {
          "output_type": "execute_result",
          "data": {
            "text/plain": [
              "array([[ 7,  9, 11],\n",
              "       [ 8, 10, 12]])"
            ]
          },
          "metadata": {},
          "execution_count": 48
        }
      ]
    },
    {
      "cell_type": "code",
      "source": [
        "# Obtener los dos primeros números de cada Gr-2\n",
        "x[:, 1, 0:2]"
      ],
      "metadata": {
        "colab": {
          "base_uri": "https://localhost:8080/"
        },
        "id": "dS8EvrnXqDyh",
        "outputId": "5b20a5e1-b3d9-44d7-da2e-12e9bac657cb"
      },
      "execution_count": null,
      "outputs": [
        {
          "output_type": "execute_result",
          "data": {
            "text/plain": [
              "array([[ 7,  9],\n",
              "       [ 8, 10],\n",
              "       [ 7, 11]])"
            ]
          },
          "metadata": {},
          "execution_count": 6
        }
      ]
    },
    {
      "cell_type": "markdown",
      "metadata": {
        "id": "n-DZ8iBxF0EG"
      },
      "source": [
        "## Modificación de los elementos.\n",
        "\n",
        "Para modificar un elemento se utiliza el índice y el operado de asignación ```=```."
      ]
    },
    {
      "cell_type": "code",
      "source": [
        "#                Gr-1      Gr-2\n",
        "x = np.array([[[1,3,5], [7, 9,11]],     # num impares\n",
        "              [[2,4,6], [8,10,12]],     # num pares\n",
        "              [[2,3,5], [7,11,12]]])    # num primos\n",
        "x.shape"
      ],
      "metadata": {
        "colab": {
          "base_uri": "https://localhost:8080/"
        },
        "id": "B1SlwkctUFje",
        "outputId": "ab9b497f-9522-44e5-e573-1c421a2cef40"
      },
      "execution_count": null,
      "outputs": [
        {
          "output_type": "execute_result",
          "data": {
            "text/plain": [
              "(3, 2, 3)"
            ]
          },
          "metadata": {},
          "execution_count": 11
        }
      ]
    },
    {
      "cell_type": "code",
      "source": [
        "# Sustituir los num pares por [[4,4,4], [2,2,2]]\n",
        "x[1] = [[4,4,4], [2,2,2]]\n",
        "x"
      ],
      "metadata": {
        "colab": {
          "base_uri": "https://localhost:8080/"
        },
        "id": "u_zfCHSaUJfA",
        "outputId": "07b1af29-d1e2-430b-9ad9-7e4c599b0574"
      },
      "execution_count": null,
      "outputs": [
        {
          "output_type": "execute_result",
          "data": {
            "text/plain": [
              "array([[[ 1,  3,  5],\n",
              "        [11,  9,  7]],\n",
              "\n",
              "       [[ 4,  4,  4],\n",
              "        [ 2,  2,  2]],\n",
              "\n",
              "       [[ 2,  3,  5],\n",
              "        [ 7, 11, 13]]])"
            ]
          },
          "metadata": {},
          "execution_count": 15
        }
      ]
    },
    {
      "cell_type": "code",
      "source": [
        "# Sustituir el Gr-1 de num impares por [5,5,5]\n",
        "x[0, 0] = [5,5,5]\n",
        "x"
      ],
      "metadata": {
        "colab": {
          "base_uri": "https://localhost:8080/"
        },
        "id": "S-KDAY8dVguZ",
        "outputId": "09e004f3-1bb8-4ed1-8eb8-eeaf835b4c04"
      },
      "execution_count": null,
      "outputs": [
        {
          "output_type": "execute_result",
          "data": {
            "text/plain": [
              "array([[[ 5,  5,  5],\n",
              "        [ 7,  9, 11]],\n",
              "\n",
              "       [[ 1,  1,  1],\n",
              "        [ 2,  2,  2]],\n",
              "\n",
              "       [[ 2,  3,  5],\n",
              "        [ 7, 11, 13]]])"
            ]
          },
          "metadata": {},
          "execution_count": 10
        }
      ]
    },
    {
      "cell_type": "code",
      "source": [
        "# Sustituir el 12 del Gr-2 de num primos por `13`\n",
        "x[2, 1, 2] = 13\n",
        "x"
      ],
      "metadata": {
        "colab": {
          "base_uri": "https://localhost:8080/"
        },
        "id": "ZxUD8JHtV1hd",
        "outputId": "276eb134-27d8-4df5-bcfb-bf484d110059"
      },
      "execution_count": null,
      "outputs": [
        {
          "output_type": "execute_result",
          "data": {
            "text/plain": [
              "array([[[ 1,  3,  5],\n",
              "        [ 7,  9, 11]],\n",
              "\n",
              "       [[ 2,  4,  6],\n",
              "        [ 8, 10, 12]],\n",
              "\n",
              "       [[ 2,  3,  5],\n",
              "        [ 7, 11, 13]]])"
            ]
          },
          "metadata": {},
          "execution_count": 13
        }
      ]
    },
    {
      "cell_type": "markdown",
      "source": [
        "### Sustitución de elementos mediante rebanadas\n"
      ],
      "metadata": {
        "id": "B1iQRMLrXIAF"
      }
    },
    {
      "cell_type": "code",
      "source": [
        "#                Gr-1      Gr-2\n",
        "x = np.array([[[1,3,5], [11,9, 7]],     # num impares\n",
        "              [[2,4,6], [8,10,12]],     # num pares\n",
        "              [[2,3,5], [7,11,13]]])    # num primos\n",
        "x.shape"
      ],
      "metadata": {
        "colab": {
          "base_uri": "https://localhost:8080/"
        },
        "id": "HvrkmganWZcF",
        "outputId": "c41fe596-52dd-4436-a8c6-784ecf0f94bd"
      },
      "execution_count": null,
      "outputs": [
        {
          "output_type": "execute_result",
          "data": {
            "text/plain": [
              "(3, 2, 3)"
            ]
          },
          "metadata": {},
          "execution_count": 20
        }
      ]
    },
    {
      "cell_type": "code",
      "source": [
        "# Sustituir el 11 y 13 de los numeros primos por 17 y 19 respectivamente\n",
        "x[2, 1, 1:3] = [17, 19]\n",
        "\n",
        "x"
      ],
      "metadata": {
        "colab": {
          "base_uri": "https://localhost:8080/"
        },
        "id": "E3QSyou_Wk6e",
        "outputId": "de8f836d-470b-44cc-cb2b-75a07df4028a"
      },
      "execution_count": null,
      "outputs": [
        {
          "output_type": "execute_result",
          "data": {
            "text/plain": [
              "array([[[ 1,  3,  5],\n",
              "        [11,  9,  7]],\n",
              "\n",
              "       [[ 2,  4,  6],\n",
              "        [ 8, 10, 12]],\n",
              "\n",
              "       [[ 2,  3,  5],\n",
              "        [ 7, 17, 19]]])"
            ]
          },
          "metadata": {},
          "execution_count": 21
        }
      ]
    },
    {
      "cell_type": "markdown",
      "metadata": {
        "id": "byAsL74mF0ER"
      },
      "source": [
        "## Indexación avanzada de arreglos.\n",
        "\n",
        "Es posible acceder a varios elementos de una dimensión específica usando, como indices, un arreglo *NumPy* o una lista de  *Python*.\n",
        "\n",
        "\n",
        "```\n",
        "<arreglo>[<list-idx-1>, <list-idx-2>, ..., <list-idx-n>]\n",
        "```\n",
        "\n",
        "Donde:\n",
        "\n",
        "* ```<list-idx-i>``` es un arreglo de *NumPy* o lista de *Python* de indices correspondiente a la i-esima dimensión."
      ]
    },
    {
      "cell_type": "markdown",
      "source": [
        "### Obtener elementos de la 1ra dimensión"
      ],
      "metadata": {
        "id": "v2Yg8FtdjnKG"
      }
    },
    {
      "cell_type": "code",
      "source": [
        "#                Gr-1      Gr-2\n",
        "x = np.array([[[1,3,5], [7, 9,11]],     # num impares\n",
        "              [[2,4,6], [8,10,12]],     # num pares\n",
        "              [[2,3,5], [7,11,13]]])    # num primos\n",
        "x.shape"
      ],
      "metadata": {
        "colab": {
          "base_uri": "https://localhost:8080/"
        },
        "id": "qR4zd-PcY-cX",
        "outputId": "a5d944f2-97f0-4796-ba8e-8c1f83ad4661"
      },
      "execution_count": null,
      "outputs": [
        {
          "output_type": "execute_result",
          "data": {
            "text/plain": [
              "(3, 2, 3)"
            ]
          },
          "metadata": {},
          "execution_count": 26
        }
      ]
    },
    {
      "cell_type": "code",
      "source": [
        "# Obtener los num-primos y los num-impares en ese orden\n",
        "indices = np.array([2, 0])\n",
        "\n",
        "x[indices]"
      ],
      "metadata": {
        "colab": {
          "base_uri": "https://localhost:8080/"
        },
        "id": "XapR0POsZmIl",
        "outputId": "ffba2710-bef6-412f-ac06-1862e0f079a4"
      },
      "execution_count": null,
      "outputs": [
        {
          "output_type": "execute_result",
          "data": {
            "text/plain": [
              "array([[[ 2,  3,  5],\n",
              "        [ 7, 11, 13]],\n",
              "\n",
              "       [[ 1,  3,  5],\n",
              "        [ 7,  9, 11]]])"
            ]
          },
          "metadata": {},
          "execution_count": 27
        }
      ]
    },
    {
      "cell_type": "markdown",
      "source": [
        "### Obtener elementos de varias dimensiones\n",
        "\n",
        "Se debe pasar múltiples arrays separados por `,`\n",
        "\n",
        "**NOTA:** Es necesario que los arreglos que se utilizarán como índices, sean de las mismas dimensiones y tamaños."
      ],
      "metadata": {
        "id": "NN4z99mvkq0F"
      }
    },
    {
      "cell_type": "code",
      "source": [
        "#                Gr-1      Gr-2\n",
        "x = np.array([[[1,3,5], [7, 9,11]],     # num impares\n",
        "              [[2,4,6], [8,10,12]],     # num pares\n",
        "              [[2,3,5], [7,11,13]]])    # num primos\n",
        "x.shape"
      ],
      "metadata": {
        "colab": {
          "base_uri": "https://localhost:8080/"
        },
        "outputId": "7e9cd615-ca55-49ab-dc3d-f17121eebbf1",
        "id": "qKk9Oc8fgFe2"
      },
      "execution_count": null,
      "outputs": [
        {
          "output_type": "execute_result",
          "data": {
            "text/plain": [
              "(3, 2, 3)"
            ]
          },
          "metadata": {},
          "execution_count": 7
        }
      ]
    },
    {
      "cell_type": "code",
      "source": [
        "# Obtener el Gr-2 de num-pares ([8,10,12]) y el Gr-1 de num-primos ([2,3,5])\n",
        "indice_1ra_dim = [1, 2]   # num-pares y num-primos\n",
        "indice_2da_dim = [1, 0]   # Gr-2 y Gr-1\n",
        "\n",
        "x[indice_1ra_dim, indice_2da_dim]"
      ],
      "metadata": {
        "colab": {
          "base_uri": "https://localhost:8080/"
        },
        "id": "v838CsQKaFbq",
        "outputId": "5185ccb5-553e-4a84-d8e3-5341b6309302"
      },
      "execution_count": null,
      "outputs": [
        {
          "output_type": "execute_result",
          "data": {
            "text/plain": [
              "array([[ 8, 10, 12],\n",
              "       [ 7, 11, 13]])"
            ]
          },
          "metadata": {},
          "execution_count": 10
        }
      ]
    },
    {
      "cell_type": "markdown",
      "source": [
        "### Obtener subconjuntos\n",
        "\n",
        "Se puede pasar una lista de listas, donde cada sublista indica los indices del subconjunto"
      ],
      "metadata": {
        "id": "TMJhyI0rclni"
      }
    },
    {
      "cell_type": "code",
      "source": [
        "#                Gr-1      Gr-2\n",
        "x = np.array([[[1,3,5], [7, 9,11]],     # num impares\n",
        "              [[2,4,6], [8,10,12]],     # num pares\n",
        "              [[2,3,5], [7,11,13]]])    # num primos\n",
        "x.shape"
      ],
      "metadata": {
        "colab": {
          "base_uri": "https://localhost:8080/"
        },
        "id": "tR_CJIBjcby9",
        "outputId": "d5298c4f-babc-410e-fc17-49847d786a31"
      },
      "execution_count": null,
      "outputs": [
        {
          "output_type": "execute_result",
          "data": {
            "text/plain": [
              "(3, 2, 3)"
            ]
          },
          "metadata": {},
          "execution_count": 30
        }
      ]
    },
    {
      "cell_type": "code",
      "source": [
        "# Obtener dos sub-conjuntos: un conj de pares e impares\n",
        "#                            un conj de primos y pares\n",
        "indices_conj_pares_impares = [1, 0]\n",
        "indices_conj_primos_pares  = [2, 1]\n",
        "\n",
        "indices_total = [indices_conj_pares_impares, indices_conj_primos_pares]\n",
        "\n",
        "x[indices_total]"
      ],
      "metadata": {
        "colab": {
          "base_uri": "https://localhost:8080/"
        },
        "id": "Zvp6MOuHcy78",
        "outputId": "3d50c916-d4e2-4020-9ad3-b5c70a87d36c"
      },
      "execution_count": null,
      "outputs": [
        {
          "output_type": "execute_result",
          "data": {
            "text/plain": [
              "array([[[[ 2,  4,  6],\n",
              "         [ 8, 10, 12]],\n",
              "\n",
              "        [[ 1,  3,  5],\n",
              "         [ 7,  9, 11]]],\n",
              "\n",
              "\n",
              "       [[[ 2,  3,  5],\n",
              "         [ 7, 11, 13]],\n",
              "\n",
              "        [[ 2,  4,  6],\n",
              "         [ 8, 10, 12]]]])"
            ]
          },
          "metadata": {},
          "execution_count": 62
        }
      ]
    }
  ],
  "metadata": {
    "kernelspec": {
      "display_name": "Python 3 (ipykernel)",
      "language": "python",
      "name": "python3"
    },
    "language_info": {
      "codemirror_mode": {
        "name": "ipython",
        "version": 3
      },
      "file_extension": ".py",
      "mimetype": "text/x-python",
      "name": "python",
      "nbconvert_exporter": "python",
      "pygments_lexer": "ipython3",
      "version": "3.9.7"
    },
    "colab": {
      "provenance": [],
      "toc_visible": true,
      "include_colab_link": true
    }
  },
  "nbformat": 4,
  "nbformat_minor": 0
}